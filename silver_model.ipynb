{
 "cells": [
  {
   "cell_type": "markdown",
   "id": "92bfc006",
   "metadata": {},
   "source": [
    "GitHub link for the talk. You can clone the data and play with it yourself. Please submit any improvements as pull requests\n",
    "\n",
    "[https://github.com/jseabold/538model](https://github.com/jseabold/538model)"
   ]
  },
  {
   "cell_type": "code",
   "execution_count": 3,
   "id": "3fbdce8d",
   "metadata": {
    "collapsed": false,
    "jupyter": {
     "outputs_hidden": false
    }
   },
   "outputs": [],
   "source": [
    "import datetime\n",
    "\n",
    "import numpy as np\n",
    "import statsmodels.api as sm\n",
    "import matplotlib.pyplot as plt\n",
    "import pandas\n",
    "from scipy import stats\n",
    "np.set_printoptions(precision=4, suppress=True)\n",
    "pandas.set_printoptions(notebook_repr_html=False,\n",
    "                        precision=4,\n",
    "                        max_columns=12, column_space=10,\n",
    "                        max_colwidth=25)"
   ]
  },
  {
   "cell_type": "code",
   "execution_count": 4,
   "id": "fc60ab98",
   "metadata": {
    "collapsed": false,
    "jupyter": {
     "outputs_hidden": false
    }
   },
   "outputs": [],
   "source": [
    "today = datetime.datetime(2012, 10, 2)"
   ]
  },
  {
   "cell_type": "markdown",
   "id": "6974da8a",
   "metadata": {},
   "source": [
    "## Outline"
   ]
  },
  {
   "cell_type": "markdown",
   "id": "c12dabee",
   "metadata": {},
   "source": [
    "Methodology was obtained from the old [538 Blog](http://www.fivethirtyeight.com/2008/03/frequently-asked-questions-last-revised.html) with updates at the [new site hosted by the New York Times](http://fivethirtyeight.blogs.nytimes.com/methodology/)"
   ]
  },
  {
   "cell_type": "markdown",
   "id": "8589b929",
   "metadata": {},
   "source": [
    "1. Polling Average: Aggregate polling data, and weight it according to our reliability scores.\n",
    "\n",
    "2. Trend Adjustment: Adjust the polling data for current trends.\n",
    "\n",
    "3. Regression: Analyze demographic data in each state by means of regression analysis.\n",
    "\n",
    "4. Snapshot: Combine the polling data with the regression analysis to produce an electoral snapshot. This is our estimate of what would happen if the election were held today.\n",
    "\n",
    "5. Projection: Translate the snapshot into a projection of what will happen in November, by allocating out undecided voters and applying a discount to current polling leads based on historical trends.\n",
    "\n",
    "6. Simulation: Simulate our results 10,000 times based on the results of the projection to account for the uncertainty in our estimates. The end result is a robust probabilistic assessment of what will happen in each state as well as in the nation as a whole. "
   ]
  },
  {
   "cell_type": "markdown",
   "id": "73a259e4",
   "metadata": {},
   "source": [
    "## Get the Data"
   ]
  },
  {
   "cell_type": "markdown",
   "id": "de8f52cc",
   "metadata": {},
   "source": [
    "### Consensus forecast of GDP growth over the next two economic quarters <br />(Median of WSJ's monthly forecasting panel)"
   ]
  },
  {
   "cell_type": "markdown",
   "id": "3fb529e8",
   "metadata": {},
   "source": [
    "The process for creating an economic index for the 538 model is described [here](http://fivethirtyeight.blogs.nytimes.com/2012/07/05/measuring-the-effect-of-the-economy-on-elections/#more-31732)."
   ]
  },
  {
   "cell_type": "raw",
   "id": "603d5d2a",
   "metadata": {},
   "source": [
    "Obtained from WSJ.com on 10/2/12"
   ]
  },
  {
   "cell_type": "code",
   "execution_count": 5,
   "id": "6b30b9a2",
   "metadata": {
    "collapsed": false,
    "jupyter": {
     "outputs_hidden": false
    }
   },
   "outputs": [],
   "source": [
    "forecasts = pandas.read_table(\"/home/skipper/school/seaboldgit/\"\n",
    "                              \"talks/pydata/data/wsj_forecast.csv\", skiprows=2)"
   ]
  },
  {
   "cell_type": "code",
   "execution_count": 6,
   "id": "0b689bde",
   "metadata": {
    "collapsed": false,
    "jupyter": {
     "outputs_hidden": false
    }
   },
   "outputs": [
    {
     "data": {
      "text/plain": [
       "                  Forecaster               Institution  Q3 2012  Q4 2012\n",
       "0              Paul Ashworth         Capital Economics      2.0      1.5\n",
       "1          Nariman Behravesh        IHS Global Insight      1.5      1.6\n",
       "2   Richard Berner/ David...            Morgan Stanley      NaN      NaN\n",
       "3            Ram Bhagavatula     Combinatorics Capital      2.0      4.0\n",
       "4          Beth Ann Bovino *       Standard and Poor's      NaN      NaN\n",
       "5              Jay Brinkmann  Mortgage Bankers Asso...      1.8      1.9\n",
       "6              Michael Carey       Credit Agricole CIB      1.7      1.6\n",
       "7              Joseph Carson         AllianceBernstein      2.5      3.5\n",
       "8             Julia Coronado               BNP Paribas      1.4      1.6\n",
       "9              Mike Cosgrove                Econoclast      1.6      1.6\n",
       "10              Lou Crandall            Wrightson ICAP      1.8      1.8\n",
       "11            J. Dewey Daane     Vanderbilt University      1.5      1.5\n",
       "12            Douglas Duncan                Fannie Mae      1.8      1.7\n",
       "13                Robert Dye             Comerica Bank      2.5      2.2\n",
       "14  Maria Fiorini Ramirez...                 MFR, Inc.      1.4      1.2\n",
       "15              Ethan Harris  Bank of America Secur...      1.3      1.0\n",
       "16              Maury Harris                       UBS      1.5      1.8\n",
       "17               Jan Hatzius      Goldman, Sachs & Co.      2.3      1.5\n",
       "18             Tracy Herrick                  Avidbank      1.8      1.8\n",
       "19          Stuart Hoffman *  PNC Financial Service...      NaN      NaN\n",
       "20                Gene Huang               FedEx Corp.      1.9      1.7\n",
       "21         William B. Hummer  Wintrust Wealth Manag...      1.7      1.9\n",
       "22              Bruce Kasman     JP Morgan Chase & Co.      1.5      2.0\n",
       "23           Joseph LaVorgna  Deutsche Bank Securit...      2.7      2.8\n",
       "24  Edward Leamer/David S...    UCLA Anderson Forecast      1.3      1.5\n",
       "25      Don Leavens/Tim Gill  NEMA Business Informa...      1.7      1.7\n",
       "26               John Lonski  Moody's Investors Ser...      1.5      1.3\n",
       "27                 Dean Maki          Barclays Capital      2.0      2.5\n",
       "28         Aneta Markowska *          Societe Generale      NaN      NaN\n",
       "29        Jim Meil/Arun Raha               Eaton Corp.      1.2      2.1\n",
       "30              Mark Nielson  MacroEcon Global Advi...      2.2      2.8\n",
       "31        Michael P. Niemira  International Council...      2.3      2.2\n",
       "32            Jim O'Sullivan  High Frequency Economics      2.5      2.0\n",
       "33         Nicholas S. Perna          Perna Associates      2.2      1.5\n",
       "34  Dr. Joel Prakken/ Chr...    Macroeconomic Advisers      1.5      1.4\n",
       "35              David Resler  Nomura Securities Int...      1.9      1.7\n",
       "36  John Ryding/Conrad De...             RDQ Economics      2.1      2.4\n",
       "37               John Silvia         Wells Fargo & Co.      1.6      1.7\n",
       "38               Allen Sinai  Decision Economics, Inc.      2.1      2.7\n",
       "39            James F. Smith  Parsec Financial Mana...      3.8      4.8\n",
       "40            Sean M. Snaith  University of Central...      1.7      1.9\n",
       "41             Sung Won Sohn  California State Univ...      1.8      1.7\n",
       "42                 Neal Soss                      CSFB      1.5      2.2\n",
       "43           Stephen Stanley       Pierpont Securities      1.0      2.1\n",
       "44           Susan M. Sterne  Economic Analysis Ass...      2.2      1.9\n",
       "45               Diane Swonk         Mesirow Financial      1.3      1.5\n",
       "46          Carl Tannenbaum         The Northern Trust      1.7      2.0\n",
       "47              Bart van Ark      The Conference Board      1.6      1.6\n",
       "48  Brian S. Wesbury/ Rob...  First Trust Advisors,...      2.5      3.0\n",
       "49         William T. Wilson  Skolkovo Institute fo...      1.9      2.2\n",
       "50              Lawrence Yun  National Association ...      1.7      2.1"
      ]
     },
     "execution_count": 6,
     "metadata": {},
     "output_type": "execute_result"
    }
   ],
   "source": [
    "forecasts"
   ]
  },
  {
   "cell_type": "code",
   "execution_count": 7,
   "id": "0cad974c",
   "metadata": {
    "collapsed": true,
    "jupyter": {
     "outputs_hidden": true
    }
   },
   "outputs": [
    {
     "data": {
      "text/plain": [
       "                  Forecaster               Institution  gdp_q3_2012  gdp_q4_2012\n",
       "0              Paul Ashworth         Capital Economics          2.0          1.5\n",
       "1          Nariman Behravesh        IHS Global Insight          1.5          1.6\n",
       "2   Richard Berner/ David...            Morgan Stanley          NaN          NaN\n",
       "3            Ram Bhagavatula     Combinatorics Capital          2.0          4.0\n",
       "4          Beth Ann Bovino *       Standard and Poor's          NaN          NaN\n",
       "5              Jay Brinkmann  Mortgage Bankers Asso...          1.8          1.9\n",
       "6              Michael Carey       Credit Agricole CIB          1.7          1.6\n",
       "7              Joseph Carson         AllianceBernstein          2.5          3.5\n",
       "8             Julia Coronado               BNP Paribas          1.4          1.6\n",
       "9              Mike Cosgrove                Econoclast          1.6          1.6\n",
       "10              Lou Crandall            Wrightson ICAP          1.8          1.8\n",
       "11            J. Dewey Daane     Vanderbilt University          1.5          1.5\n",
       "12            Douglas Duncan                Fannie Mae          1.8          1.7\n",
       "13                Robert Dye             Comerica Bank          2.5          2.2\n",
       "14  Maria Fiorini Ramirez...                 MFR, Inc.          1.4          1.2\n",
       "15              Ethan Harris  Bank of America Secur...          1.3          1.0\n",
       "16              Maury Harris                       UBS          1.5          1.8\n",
       "17               Jan Hatzius      Goldman, Sachs & Co.          2.3          1.5\n",
       "18             Tracy Herrick                  Avidbank          1.8          1.8\n",
       "19          Stuart Hoffman *  PNC Financial Service...          NaN          NaN\n",
       "20                Gene Huang               FedEx Corp.          1.9          1.7\n",
       "21         William B. Hummer  Wintrust Wealth Manag...          1.7          1.9\n",
       "22              Bruce Kasman     JP Morgan Chase & Co.          1.5          2.0\n",
       "23           Joseph LaVorgna  Deutsche Bank Securit...          2.7          2.8\n",
       "24  Edward Leamer/David S...    UCLA Anderson Forecast          1.3          1.5\n",
       "25      Don Leavens/Tim Gill  NEMA Business Informa...          1.7          1.7\n",
       "26               John Lonski  Moody's Investors Ser...          1.5          1.3\n",
       "27                 Dean Maki          Barclays Capital          2.0          2.5\n",
       "28         Aneta Markowska *          Societe Generale          NaN          NaN\n",
       "29        Jim Meil/Arun Raha               Eaton Corp.          1.2          2.1\n",
       "30              Mark Nielson  MacroEcon Global Advi...          2.2          2.8\n",
       "31        Michael P. Niemira  International Council...          2.3          2.2\n",
       "32            Jim O'Sullivan  High Frequency Economics          2.5          2.0\n",
       "33         Nicholas S. Perna          Perna Associates          2.2          1.5\n",
       "34  Dr. Joel Prakken/ Chr...    Macroeconomic Advisers          1.5          1.4\n",
       "35              David Resler  Nomura Securities Int...          1.9          1.7\n",
       "36  John Ryding/Conrad De...             RDQ Economics          2.1          2.4\n",
       "37               John Silvia         Wells Fargo & Co.          1.6          1.7\n",
       "38               Allen Sinai  Decision Economics, Inc.          2.1          2.7\n",
       "39            James F. Smith  Parsec Financial Mana...          3.8          4.8\n",
       "40            Sean M. Snaith  University of Central...          1.7          1.9\n",
       "41             Sung Won Sohn  California State Univ...          1.8          1.7\n",
       "42                 Neal Soss                      CSFB          1.5          2.2\n",
       "43           Stephen Stanley       Pierpont Securities          1.0          2.1\n",
       "44           Susan M. Sterne  Economic Analysis Ass...          2.2          1.9\n",
       "45               Diane Swonk         Mesirow Financial          1.3          1.5\n",
       "46          Carl Tannenbaum         The Northern Trust          1.7          2.0\n",
       "47              Bart van Ark      The Conference Board          1.6          1.6\n",
       "48  Brian S. Wesbury/ Rob...  First Trust Advisors,...          2.5          3.0\n",
       "49         William T. Wilson  Skolkovo Institute fo...          1.9          2.2\n",
       "50              Lawrence Yun  National Association ...          1.7          2.1"
      ]
     },
     "execution_count": 7,
     "metadata": {},
     "output_type": "execute_result"
    }
   ],
   "source": [
    "forecasts.rename(columns={\"Q3 2012\" : \"gdp_q3_2012\", \n",
    "                          \"Q4 2012\" : \"gdp_q4_2012\"}, inplace=True)"
   ]
  },
  {
   "cell_type": "code",
   "execution_count": 8,
   "id": "04c5801a",
   "metadata": {
    "collapsed": false,
    "jupyter": {
     "outputs_hidden": false
    }
   },
   "outputs": [
    {
     "data": {
      "text/plain": [
       "                  Forecaster               Institution  gdp_q3_2012  gdp_q4_2012\n",
       "0              Paul Ashworth         Capital Economics          2.0          1.5\n",
       "1          Nariman Behravesh        IHS Global Insight          1.5          1.6\n",
       "2   Richard Berner/ David...            Morgan Stanley          NaN          NaN\n",
       "3            Ram Bhagavatula     Combinatorics Capital          2.0          4.0\n",
       "4          Beth Ann Bovino *       Standard and Poor's          NaN          NaN\n",
       "5              Jay Brinkmann  Mortgage Bankers Asso...          1.8          1.9\n",
       "6              Michael Carey       Credit Agricole CIB          1.7          1.6\n",
       "7              Joseph Carson         AllianceBernstein          2.5          3.5\n",
       "8             Julia Coronado               BNP Paribas          1.4          1.6\n",
       "9              Mike Cosgrove                Econoclast          1.6          1.6\n",
       "10              Lou Crandall            Wrightson ICAP          1.8          1.8\n",
       "11            J. Dewey Daane     Vanderbilt University          1.5          1.5\n",
       "12            Douglas Duncan                Fannie Mae          1.8          1.7\n",
       "13                Robert Dye             Comerica Bank          2.5          2.2\n",
       "14  Maria Fiorini Ramirez...                 MFR, Inc.          1.4          1.2\n",
       "15              Ethan Harris  Bank of America Secur...          1.3          1.0\n",
       "16              Maury Harris                       UBS          1.5          1.8\n",
       "17               Jan Hatzius      Goldman, Sachs & Co.          2.3          1.5\n",
       "18             Tracy Herrick                  Avidbank          1.8          1.8\n",
       "19          Stuart Hoffman *  PNC Financial Service...          NaN          NaN\n",
       "20                Gene Huang               FedEx Corp.          1.9          1.7\n",
       "21         William B. Hummer  Wintrust Wealth Manag...          1.7          1.9\n",
       "22              Bruce Kasman     JP Morgan Chase & Co.          1.5          2.0\n",
       "23           Joseph LaVorgna  Deutsche Bank Securit...          2.7          2.8\n",
       "24  Edward Leamer/David S...    UCLA Anderson Forecast          1.3          1.5\n",
       "25      Don Leavens/Tim Gill  NEMA Business Informa...          1.7          1.7\n",
       "26               John Lonski  Moody's Investors Ser...          1.5          1.3\n",
       "27                 Dean Maki          Barclays Capital          2.0          2.5\n",
       "28         Aneta Markowska *          Societe Generale          NaN          NaN\n",
       "29        Jim Meil/Arun Raha               Eaton Corp.          1.2          2.1\n",
       "30              Mark Nielson  MacroEcon Global Advi...          2.2          2.8\n",
       "31        Michael P. Niemira  International Council...          2.3          2.2\n",
       "32            Jim O'Sullivan  High Frequency Economics          2.5          2.0\n",
       "33         Nicholas S. Perna          Perna Associates          2.2          1.5\n",
       "34  Dr. Joel Prakken/ Chr...    Macroeconomic Advisers          1.5          1.4\n",
       "35              David Resler  Nomura Securities Int...          1.9          1.7\n",
       "36  John Ryding/Conrad De...             RDQ Economics          2.1          2.4\n",
       "37               John Silvia         Wells Fargo & Co.          1.6          1.7\n",
       "38               Allen Sinai  Decision Economics, Inc.          2.1          2.7\n",
       "39            James F. Smith  Parsec Financial Mana...          3.8          4.8\n",
       "40            Sean M. Snaith  University of Central...          1.7          1.9\n",
       "41             Sung Won Sohn  California State Univ...          1.8          1.7\n",
       "42                 Neal Soss                      CSFB          1.5          2.2\n",
       "43           Stephen Stanley       Pierpont Securities          1.0          2.1\n",
       "44           Susan M. Sterne  Economic Analysis Ass...          2.2          1.9\n",
       "45               Diane Swonk         Mesirow Financial          1.3          1.5\n",
       "46          Carl Tannenbaum         The Northern Trust          1.7          2.0\n",
       "47              Bart van Ark      The Conference Board          1.6          1.6\n",
       "48  Brian S. Wesbury/ Rob...  First Trust Advisors,...          2.5          3.0\n",
       "49         William T. Wilson  Skolkovo Institute fo...          1.9          2.2\n",
       "50              Lawrence Yun  National Association ...          1.7          2.1"
      ]
     },
     "execution_count": 8,
     "metadata": {},
     "output_type": "execute_result"
    }
   ],
   "source": [
    "forecasts"
   ]
  },
  {
   "cell_type": "raw",
   "id": "3a88cb6f",
   "metadata": {},
   "source": [
    "Pandas methods are NaN aware, so we can just get the median."
   ]
  },
  {
   "cell_type": "code",
   "execution_count": 9,
   "id": "92c87232",
   "metadata": {
    "collapsed": false,
    "jupyter": {
     "outputs_hidden": false
    }
   },
   "outputs": [],
   "source": [
    "median_forecast = forecasts[['gdp_q3_2012', 'gdp_q4_2012']].median()"
   ]
  },
  {
   "cell_type": "code",
   "execution_count": 10,
   "id": "5600086e",
   "metadata": {
    "collapsed": false,
    "jupyter": {
     "outputs_hidden": false
    }
   },
   "outputs": [
    {
     "data": {
      "text/plain": [
       "gdp_q3_2012    1.8\n",
       "gdp_q4_2012    1.8"
      ]
     },
     "execution_count": 10,
     "metadata": {},
     "output_type": "execute_result"
    }
   ],
   "source": [
    "median_forecast"
   ]
  },
  {
   "cell_type": "markdown",
   "id": "0a36606a",
   "metadata": {},
   "source": [
    "### Economics State Variables from FRED"
   ]
  },
  {
   "cell_type": "markdown",
   "id": "e25cfcf4",
   "metadata": {},
   "source": [
    "Job Growth (Nonfarm-payrolls) **PAYEMS** <br />\n",
    "Personal Income **PI** <br />\n",
    "Industrial production **INDPRO** <br />\n",
    "Consumption **PCEC96** <br />\n",
    "Inflation **CPIAUCSL** <br />"
   ]
  },
  {
   "cell_type": "code",
   "execution_count": 11,
   "id": "48b1ad92",
   "metadata": {
    "collapsed": true,
    "jupyter": {
     "outputs_hidden": true
    }
   },
   "outputs": [],
   "source": [
    "from pandas.io.data import DataReader"
   ]
  },
  {
   "cell_type": "code",
   "execution_count": 12,
   "id": "c8e8db58",
   "metadata": {
    "collapsed": false,
    "jupyter": {
     "outputs_hidden": false
    }
   },
   "outputs": [],
   "source": [
    "series = dict(jobs = \"PAYEMS\",\n",
    "              income = \"PI\",\n",
    "              prod = \"INDPRO\",\n",
    "              cons = \"PCEC96\",\n",
    "              prices = \"CPIAUCSL\")"
   ]
  },
  {
   "cell_type": "code",
   "execution_count": 13,
   "id": "f63a1902",
   "metadata": {
    "collapsed": false,
    "jupyter": {
     "outputs_hidden": false
    }
   },
   "outputs": [],
   "source": [
    "#indicators = []\n",
    "#for variable in series:\n",
    "#    data = DataReader(series[variable], \"fred\", start=\"2010-1-1\")\n",
    "#    # renaming not necessary in master\n",
    "#    data.rename(columns={\"VALUE\" : variable}, inplace=True)\n",
    "#    indicators.append(data)"
   ]
  },
  {
   "cell_type": "code",
   "execution_count": 14,
   "id": "2f863e87",
   "metadata": {
    "collapsed": false,
    "jupyter": {
     "outputs_hidden": false
    }
   },
   "outputs": [],
   "source": [
    "#indicators = pandas.concat(indicators, axis=1)"
   ]
  },
  {
   "cell_type": "code",
   "execution_count": 15,
   "id": "73d17729",
   "metadata": {
    "collapsed": false,
    "jupyter": {
     "outputs_hidden": false
    }
   },
   "outputs": [],
   "source": [
    "#indicators"
   ]
  },
  {
   "cell_type": "markdown",
   "id": "2110cf5a",
   "metadata": {},
   "source": [
    "### Polling Data"
   ]
  },
  {
   "cell_type": "markdown",
   "id": "2e9f903e",
   "metadata": {},
   "source": [
    "I used Python to scrape the [Real Clear Politics](realclearpolitics.com) website and download data for the 2004 and 2008 elections. The scraping scripts are available in the github repository for this talk. State by state historical data for the 2004 and 2008 Presidential elections was obtained from [electoral-vote.com](www.electorical-vote.com)."
   ]
  },
  {
   "cell_type": "markdown",
   "id": "cd14668f",
   "metadata": {},
   "source": [
    "## Polling Average"
   ]
  },
  {
   "cell_type": "markdown",
   "id": "806a7d51",
   "metadata": {},
   "source": [
    "Details can be found at the 538 blog [here](http://www.fivethirtyeight.com/2008/03/pollster-ratings-updated.html)."
   ]
  },
  {
   "cell_type": "code",
   "execution_count": 16,
   "id": "dd51fd89",
   "metadata": {
    "collapsed": false,
    "jupyter": {
     "outputs_hidden": false
    }
   },
   "outputs": [],
   "source": [
    "tossup = [\"Colorado\", \"Florida\", \"Iowa\", \"New Hampshire\", \"Nevada\", \n",
    "          \"Ohio\", \"Virginia\", \"Wisconsin\"]"
   ]
  },
  {
   "cell_type": "code",
   "execution_count": 17,
   "id": "aa76d321",
   "metadata": {
    "collapsed": false,
    "jupyter": {
     "outputs_hidden": false
    }
   },
   "outputs": [],
   "source": [
    "national_data2012 = pandas.read_table(\"/home/skipper/school/seaboldgit/talks/pydata/\"\n",
    "                                      \"data/2012_poll_data.csv\")"
   ]
  },
  {
   "cell_type": "code",
   "execution_count": 18,
   "id": "0940e950",
   "metadata": {
    "collapsed": false,
    "jupyter": {
     "outputs_hidden": false
    }
   },
   "outputs": [
    {
     "data": {
      "text/plain": [
       "<class 'pandas.core.frame.DataFrame'>\n",
       "Int64Index: 290 entries, 0 to 289\n",
       "Data columns:\n",
       "Poll          290  non-null values\n",
       "Date          290  non-null values\n",
       "Sample        290  non-null values\n",
       "MoE           290  non-null values\n",
       "Obama (D)     290  non-null values\n",
       "Romney (R)    290  non-null values\n",
       "Spread        290  non-null values\n",
       "dtypes: float64(2), object(5)"
      ]
     },
     "execution_count": 18,
     "metadata": {},
     "output_type": "execute_result"
    }
   ],
   "source": [
    "national_data2012"
   ]
  },
  {
   "cell_type": "code",
   "execution_count": 19,
   "id": "56d42622",
   "metadata": {
    "collapsed": false,
    "jupyter": {
     "outputs_hidden": false
    }
   },
   "outputs": [],
   "source": [
    "national_data2012.rename(columns={\"Poll\" : \"Pollster\"}, inplace=True)\n",
    "national_data2012[\"obama_spread\"] = national_data2012[\"Obama (D)\"] - national_data2012[\"Romney (R)\"]"
   ]
  },
  {
   "cell_type": "code",
   "execution_count": 20,
   "id": "88b800c7",
   "metadata": {
    "collapsed": false,
    "jupyter": {
     "outputs_hidden": false
    }
   },
   "outputs": [],
   "source": [
    "national_data2012[\"State\"] = \"USA\""
   ]
  },
  {
   "cell_type": "code",
   "execution_count": 21,
   "id": "7c083d67",
   "metadata": {
    "collapsed": false,
    "jupyter": {
     "outputs_hidden": false
    }
   },
   "outputs": [
    {
     "data": {
      "text/plain": [
       "<class 'pandas.core.frame.DataFrame'>\n",
       "Int64Index: 767 entries, 0 to 766\n",
       "Data columns:\n",
       "Date          767  non-null values\n",
       "MoE           767  non-null values\n",
       "Obama (D)     767  non-null values\n",
       "Poll          767  non-null values\n",
       "Romney (R)    767  non-null values\n",
       "Sample        767  non-null values\n",
       "Spread        767  non-null values\n",
       "State         767  non-null values\n",
       "dtypes: float64(2), object(6)"
      ]
     },
     "execution_count": 21,
     "metadata": {},
     "output_type": "execute_result"
    }
   ],
   "source": [
    "state_data2012 = pandas.read_table(\"/home/skipper/school/seaboldgit/talks/pydata/data/2012_poll_data_states.csv\")\n",
    "state_data2012"
   ]
  },
  {
   "cell_type": "code",
   "execution_count": 22,
   "id": "e5c270d6",
   "metadata": {
    "collapsed": false,
    "jupyter": {
     "outputs_hidden": false
    }
   },
   "outputs": [],
   "source": [
    "state_data2012[\"obama_spread\"] = state_data2012[\"Obama (D)\"] - state_data2012[\"Romney (R)\"]"
   ]
  },
  {
   "cell_type": "code",
   "execution_count": 23,
   "id": "755b8beb",
   "metadata": {
    "collapsed": false,
    "jupyter": {
     "outputs_hidden": false
    }
   },
   "outputs": [],
   "source": [
    "state_data2012.rename(columns=dict(Poll=\"Pollster\"), inplace=True);"
   ]
  },
  {
   "cell_type": "code",
   "execution_count": 24,
   "id": "9265c42a",
   "metadata": {
    "collapsed": false,
    "jupyter": {
     "outputs_hidden": false
    }
   },
   "outputs": [
    {
     "data": {
      "text/plain": [
       "0      --\n",
       "1     4.5\n",
       "2     4.6\n",
       "3     5.0\n",
       "4     4.4\n",
       "5     4.4\n",
       "6     4.0\n",
       "7     3.0\n",
       "8     5.0\n",
       "9     4.4\n",
       "10    4.2\n",
       "11    2.8\n",
       "12    4.2\n",
       "13    5.0\n",
       "14    4.3\n",
       "...\n",
       "752    2.8\n",
       "753     --\n",
       "754    4.0\n",
       "755    3.8\n",
       "756    4.5\n",
       "757    4.5\n",
       "758    5.0\n",
       "759    3.2\n",
       "760    4.5\n",
       "761    4.5\n",
       "762    2.4\n",
       "763    3.4\n",
       "764    2.9\n",
       "765    3.5\n",
       "766    3.4\n",
       "Name: MoE, Length: 767"
      ]
     },
     "execution_count": 24,
     "metadata": {},
     "output_type": "execute_result"
    }
   ],
   "source": [
    "state_data2012.MoE"
   ]
  },
  {
   "cell_type": "code",
   "execution_count": 25,
   "id": "9560a29a",
   "metadata": {
    "collapsed": false,
    "jupyter": {
     "outputs_hidden": false
    }
   },
   "outputs": [],
   "source": [
    "state_data2012.MoE = state_data2012.MoE.replace(\"--\", \"nan\").astype(float)"
   ]
  },
  {
   "cell_type": "code",
   "execution_count": 26,
   "id": "c318c14b",
   "metadata": {
    "collapsed": false,
    "jupyter": {
     "outputs_hidden": false
    }
   },
   "outputs": [
    {
     "data": {
      "text/plain": [
       "<class 'pandas.core.frame.DataFrame'>\n",
       "Int64Index: 767 entries, 0 to 766\n",
       "Data columns:\n",
       "Date            767  non-null values\n",
       "MoE             736  non-null values\n",
       "Obama (D)       767  non-null values\n",
       "Pollster        767  non-null values\n",
       "Romney (R)      767  non-null values\n",
       "Sample          767  non-null values\n",
       "Spread          767  non-null values\n",
       "State           767  non-null values\n",
       "obama_spread    767  non-null values\n",
       "dtypes: float64(4), object(5)"
      ]
     },
     "execution_count": 26,
     "metadata": {},
     "output_type": "execute_result"
    }
   ],
   "source": [
    "state_data2012"
   ]
  },
  {
   "cell_type": "code",
   "execution_count": 27,
   "id": "f0d3d16c",
   "metadata": {
    "collapsed": false,
    "jupyter": {
     "outputs_hidden": false
    }
   },
   "outputs": [],
   "source": [
    "state_data2012 = state_data2012.set_index([\"Pollster\", \"State\", \"Date\"]).drop(\"RCP Average\", level=0).reset_index()"
   ]
  },
  {
   "cell_type": "code",
   "execution_count": 28,
   "id": "055c166b",
   "metadata": {
    "collapsed": false,
    "jupyter": {
     "outputs_hidden": false
    }
   },
   "outputs": [
    {
     "data": {
      "text/plain": [
       "            Pollster State         Date  MoE  Obama (D)  Romney (R)  Sample     Spread  obama_spread\n",
       "0  Rasmussen Reports    WA  9/26 - 9/26  4.5         52          41  500 LV  Obama +11            11\n",
       "1   Gravis Marketing    WA  9/21 - 9/22  4.6         56          39  625 LV  Obama +17            17\n",
       "2         Elway Poll    WA   9/9 - 9/12  5.0         53          36  405 RV  Obama +17            17\n",
       "3          SurveyUSA    WA    9/7 - 9/9  4.4         54          38  524 LV  Obama +16            16\n",
       "4          SurveyUSA    WA    8/1 - 8/2  4.4         54          37  524 LV  Obama +17            17"
      ]
     },
     "execution_count": 28,
     "metadata": {},
     "output_type": "execute_result"
    }
   ],
   "source": [
    "state_data2012.head(5)"
   ]
  },
  {
   "cell_type": "markdown",
   "id": "adb13b35",
   "metadata": {},
   "source": [
    "Clean up the sample numbers to make it a number."
   ]
  },
  {
   "cell_type": "code",
   "execution_count": 29,
   "id": "6e616cf0",
   "metadata": {
    "collapsed": false,
    "jupyter": {
     "outputs_hidden": false
    }
   },
   "outputs": [
    {
     "data": {
      "text/plain": [
       "0      500 LV\n",
       "1      625 LV\n",
       "2      405 RV\n",
       "3      524 LV\n",
       "4      524 LV\n",
       "5      630 RV\n",
       "6     1073 RV\n",
       "7      408 RV\n",
       "8      500 LV\n",
       "9      557 RV\n",
       "10    1264 RV\n",
       "11     572 RV\n",
       "12     405 RV\n",
       "13     549 LV\n",
       "14     469 RV\n",
       "...\n",
       "724     600 LV\n",
       "725    1224 RV\n",
       "726     625 LV\n",
       "727     656 LV\n",
       "728     500 LV\n",
       "729     500 LV\n",
       "730     450 LV\n",
       "731     934 RV\n",
       "732     500 LV\n",
       "733     500 LV\n",
       "734    1625 RV\n",
       "735     819 RV\n",
       "736    1176 RV\n",
       "737     796 LV\n",
       "738     817 RV\n",
       "Name: Sample, Length: 739"
      ]
     },
     "execution_count": 29,
     "metadata": {},
     "output_type": "execute_result"
    }
   ],
   "source": [
    "state_data2012.Sample"
   ]
  },
  {
   "cell_type": "code",
   "execution_count": 30,
   "id": "76ce7139",
   "metadata": {
    "collapsed": false,
    "jupyter": {
     "outputs_hidden": false
    }
   },
   "outputs": [],
   "source": [
    "state_data2012.Sample = state_data2012.Sample.str.replace(\"\\s*([L|R]V)|A\", \"\") # 20 RV\n",
    "state_data2012.Sample = state_data2012.Sample.str.replace(\"\\s*--\", \"nan\") # --\n",
    "state_data2012.Sample = state_data2012.Sample.str.replace(\"^$\", \"nan\")\n",
    "\n",
    "national_data2012.Sample = national_data2012.Sample.str.replace(\"\\s*([L|R]V)|A\", \"\") # 20 RV\n",
    "national_data2012.Sample = national_data2012.Sample.str.replace(\"\\s*--\", \"nan\") # --\n",
    "national_data2012.Sample = national_data2012.Sample.str.replace(\"^$\", \"nan\")\n"
   ]
  },
  {
   "cell_type": "code",
   "execution_count": 31,
   "id": "051b979c",
   "metadata": {
    "collapsed": false,
    "jupyter": {
     "outputs_hidden": false
    }
   },
   "outputs": [
    {
     "data": {
      "text/plain": [
       "0      500\n",
       "1      625\n",
       "2      405\n",
       "3      524\n",
       "4      524\n",
       "5      630\n",
       "6     1073\n",
       "7      408\n",
       "8      500\n",
       "9      557\n",
       "10    1264\n",
       "11     572\n",
       "12     405\n",
       "13     549\n",
       "14     469\n",
       "...\n",
       "724     600\n",
       "725    1224\n",
       "726     625\n",
       "727     656\n",
       "728     500\n",
       "729     500\n",
       "730     450\n",
       "731     934\n",
       "732     500\n",
       "733     500\n",
       "734    1625\n",
       "735     819\n",
       "736    1176\n",
       "737     796\n",
       "738     817\n",
       "Name: Sample, Length: 739"
      ]
     },
     "execution_count": 31,
     "metadata": {},
     "output_type": "execute_result"
    }
   ],
   "source": [
    "state_data2012.Sample.astype(float)"
   ]
  },
  {
   "cell_type": "code",
   "execution_count": 32,
   "id": "14231cbd",
   "metadata": {
    "collapsed": false,
    "jupyter": {
     "outputs_hidden": false
    }
   },
   "outputs": [],
   "source": [
    "state_data2012.Sample = state_data2012.Sample.astype(float)\n",
    "national_data2012.Sample = national_data2012.Sample.astype(float)"
   ]
  },
  {
   "cell_type": "markdown",
   "id": "f940987d",
   "metadata": {},
   "source": [
    "The 2012 data is currently in order of time by state but doesn't have any years."
   ]
  },
  {
   "cell_type": "code",
   "execution_count": 33,
   "id": "8329b298",
   "metadata": {
    "collapsed": false,
    "jupyter": {
     "outputs_hidden": false
    }
   },
   "outputs": [],
   "source": [
    "#dates2012.get_group((\"OH\", \"NBC News/Marist\"))"
   ]
  },
  {
   "cell_type": "code",
   "execution_count": 34,
   "id": "ea86fa1d",
   "metadata": {
    "collapsed": false,
    "jupyter": {
     "outputs_hidden": false
    }
   },
   "outputs": [],
   "source": [
    "state_data2012[\"start_date\"] = \"\"\n",
    "state_data2012[\"end_date\"] = \"\"\n",
    "dates2012 = state_data2012.groupby([\"State\", \"Pollster\"])[\"Date\"]\n",
    "for _, date in dates2012:\n",
    "    year = 2012\n",
    "    # checked by hand, none straddle years\n",
    "    changes = np.r_[False, np.diff(map(int, [i[0].split('/')[0] for \n",
    "                    i in date.str.split(' - ')])) > 0]\n",
    "    for j, (idx, dt) in enumerate(date.iteritems()):\n",
    "        dt1, dt2 = dt.split(\" - \")\n",
    "        year -= changes[j]\n",
    "        # check for ones that haven't polled in a year - soft check\n",
    "        # could be wrong for some...\n",
    "        if year == 2012 and (int(dt1.split(\"/\")[0]) > today.month and \n",
    "                             int(dt1.split(\"/\")[1]) > today.day):\n",
    "            year -= 1\n",
    "        dt1 += \"/\" + str(year)\n",
    "        dt2 += \"/\" + str(year)\n",
    "        state_data2012.set_value(idx, \"start_date\", dt1)\n",
    "        state_data2012.set_value(idx, \"end_date\", dt2)"
   ]
  },
  {
   "cell_type": "code",
   "execution_count": 35,
   "id": "2c52ec58",
   "metadata": {
    "collapsed": false,
    "jupyter": {
     "outputs_hidden": false
    }
   },
   "outputs": [],
   "source": [
    "national_data2012[\"start_date\"] = \"\"\n",
    "national_data2012[\"end_date\"] = \"\"\n",
    "dates2012 = national_data2012.groupby([\"Pollster\"])[\"Date\"]\n",
    "for _, date in dates2012:\n",
    "    year = 2012\n",
    "    # checked by hand, none straddle years\n",
    "    changes = np.r_[False, np.diff(map(int, [i[0].split('/')[0] for \n",
    "                    i in date.str.split(' - ')])) > 0]\n",
    "    for j, (idx, dt) in enumerate(date.iteritems()):\n",
    "        dt1, dt2 = dt.split(\" - \")\n",
    "        year -= changes[j]\n",
    "        dt1 += \"/\" + str(year)\n",
    "        dt2 += \"/\" + str(year)\n",
    "        national_data2012.set_value(idx, \"start_date\", dt1)\n",
    "        national_data2012.set_value(idx, \"end_date\", dt2)"
   ]
  },
  {
   "cell_type": "code",
   "execution_count": 36,
   "id": "aa9a17f0",
   "metadata": {
    "collapsed": false,
    "jupyter": {
     "outputs_hidden": false
    }
   },
   "outputs": [
    {
     "data": {
      "text/plain": [
       "             Pollster State         Date  MoE  Obama (D)  Romney (R)  Sample     Spread  obama_spread start_date   end_date\n",
       "0   Rasmussen Reports    WA  9/26 - 9/26  4.5         52          41     500  Obama +11            11  9/26/2012  9/26/2012\n",
       "1    Gravis Marketing    WA  9/21 - 9/22  4.6         56          39     625  Obama +17            17  9/21/2012  9/22/2012\n",
       "2          Elway Poll    WA   9/9 - 9/12  5.0         53          36     405  Obama +17            17   9/9/2012  9/12/2012\n",
       "3           SurveyUSA    WA    9/7 - 9/9  4.4         54          38     524  Obama +16            16   9/7/2012   9/9/2012\n",
       "4           SurveyUSA    WA    8/1 - 8/2  4.4         54          37     524  Obama +17            17   8/1/2012   8/2/2012\n",
       "5           SurveyUSA    WA  7/16 - 7/18  4.0         46          37     630   Obama +9             9  7/16/2012  7/18/2012\n",
       "6             PPP (D)    WA  6/14 - 6/17  3.0         54          41    1073  Obama +13            13  6/14/2012  6/17/2012\n",
       "7          Elway Poll    WA  6/13 - 6/16  5.0         49          41     408   Obama +8             8  6/13/2012  6/16/2012\n",
       "8  Strategies 360 (D)    WA  5/22 - 5/24  4.4         51          40     500  Obama +11            11  5/22/2012  5/24/2012\n",
       "9           SurveyUSA    WA    5/8 - 5/9  4.2         50          36     557  Obama +14            14   5/8/2012   5/9/2012"
      ]
     },
     "execution_count": 36,
     "metadata": {},
     "output_type": "execute_result"
    }
   ],
   "source": [
    "state_data2012.head(10)"
   ]
  },
  {
   "cell_type": "code",
   "execution_count": 37,
   "id": "bbe04590",
   "metadata": {
    "collapsed": false,
    "jupyter": {
     "outputs_hidden": false
    }
   },
   "outputs": [],
   "source": [
    "state_data2012.start_date = state_data2012.start_date.apply(pandas.datetools.parse)\n",
    "state_data2012.end_date = state_data2012.end_date.apply(pandas.datetools.parse)\n",
    "\n",
    "national_data2012.start_date = national_data2012.start_date.apply(pandas.datetools.parse)\n",
    "national_data2012.end_date = national_data2012.end_date.apply(pandas.datetools.parse)"
   ]
  },
  {
   "cell_type": "code",
   "execution_count": 38,
   "id": "19ff0f68",
   "metadata": {
    "collapsed": false,
    "jupyter": {
     "outputs_hidden": false
    }
   },
   "outputs": [],
   "source": [
    "def median_date(row):\n",
    "    dates = pandas.date_range(row[\"start_date\"], row[\"end_date\"])\n",
    "    median_idx = int(np.median(range(len(dates)))+.5)\n",
    "    return dates[median_idx]\n",
    "    \n",
    "state_data2012[\"poll_date\"] = [median_date(row) for i, row in state_data2012.iterrows()]\n",
    "del state_data2012[\"Date\"]\n",
    "del state_data2012[\"start_date\"]\n",
    "del state_data2012[\"end_date\"]\n",
    "\n",
    "national_data2012[\"poll_date\"] = [median_date(row) for i, row in national_data2012.iterrows()]\n",
    "del national_data2012[\"Date\"]\n",
    "del national_data2012[\"start_date\"]\n",
    "del national_data2012[\"end_date\"]"
   ]
  },
  {
   "cell_type": "code",
   "execution_count": 39,
   "id": "9231cff4",
   "metadata": {
    "collapsed": false,
    "jupyter": {
     "outputs_hidden": false
    }
   },
   "outputs": [
    {
     "data": {
      "text/plain": [
       "            Pollster State  MoE  Obama (D)  Romney (R)  Sample     Spread  obama_spread            poll_date\n",
       "0  Rasmussen Reports    WA  4.5         52          41     500  Obama +11            11  2012-09-26 00:00:00\n",
       "1   Gravis Marketing    WA  4.6         56          39     625  Obama +17            17  2012-09-22 00:00:00\n",
       "2         Elway Poll    WA  5.0         53          36     405  Obama +17            17  2012-09-11 00:00:00\n",
       "3          SurveyUSA    WA  4.4         54          38     524  Obama +16            16  2012-09-08 00:00:00\n",
       "4          SurveyUSA    WA  4.4         54          37     524  Obama +17            17  2012-08-02 00:00:00"
      ]
     },
     "execution_count": 39,
     "metadata": {},
     "output_type": "execute_result"
    }
   ],
   "source": [
    "state_data2012.head(5)"
   ]
  },
  {
   "cell_type": "code",
   "execution_count": 40,
   "id": "dd7315e8",
   "metadata": {
    "collapsed": false,
    "jupyter": {
     "outputs_hidden": false
    }
   },
   "outputs": [],
   "source": [
    "pollsters = state_data2012.Pollster.unique()\n",
    "pollsters.sort()"
   ]
  },
  {
   "cell_type": "code",
   "execution_count": 41,
   "id": "0dfaed97",
   "metadata": {
    "collapsed": false,
    "jupyter": {
     "outputs_hidden": false
    }
   },
   "outputs": [
    {
     "data": {
      "text/plain": [
       "120"
      ]
     },
     "execution_count": 41,
     "metadata": {},
     "output_type": "execute_result"
    }
   ],
   "source": [
    "len(pollsters)"
   ]
  },
  {
   "cell_type": "code",
   "execution_count": 42,
   "id": "53cbea30",
   "metadata": {
    "collapsed": false,
    "jupyter": {
     "outputs_hidden": false
    }
   },
   "outputs": [
    {
     "name": "stdout",
     "output_type": "stream",
     "text": [
      "0              AFP/Magellan (R)\n",
      "1            AIF/McLaughlin (R)\n",
      "2                           ARG\n",
      "3          Albuquerque Journal*\n",
      "4                 Arizona State\n",
      "5                 Baltimore Sun\n",
      "6            Baydoun/Foster (D)\n",
      "7      Behavior Research Center\n",
      "8                Bloomberg News\n",
      "9                  Boston Globe\n",
      "10           CBS/NYT/Quinnipiac\n",
      "11         CNN/Opinion Research\n",
      "12                     CNN/Time\n",
      "13           CNU/Times-Dispatch\n",
      "14     Caddell/McLaughlin/SA...\n",
      "15      Castleton State College\n",
      "16              Chicago Tribune\n",
      "17                  Civitas (R)\n",
      "18              Clarus Research\n",
      "19           Columbus Dispatch*\n",
      "20     Courier-Journal/Surve...\n",
      "21            Critical Insights\n",
      "22            Daily Kos/PPP (D)\n",
      "23                    Dartmouth\n",
      "24        Denver Post/SurveyUSA\n",
      "25          Des Moines Register\n",
      "26                 Deseret News\n",
      "27             Deseret News/KSL\n",
      "28                 Detroit News\n",
      "29                     EPIC-MRA\n",
      "30     Elon Univ./Charlotte ...\n",
      "31                   Elway Poll\n",
      "32              FOX Chicago/WAA\n",
      "33                     FOX News\n",
      "34          Fairleigh Dickinson\n",
      "35                        Field\n",
      "36     Florida Times-Union/I...\n",
      "37          Franklin & Marshall\n",
      "38         Glengariff Group (R)\n",
      "39            Gonzales Research\n",
      "40             Gravis Marketing\n",
      "41            Gravis Marketing*\n",
      "42       Hartford Courant/UConn\n",
      "43                   High Point\n",
      "44         High Point/SurveyUSA\n",
      "45        HighGround/Moore (R)*\n",
      "46                 Howey/DePauw\n",
      "47        Inside MI Politcs/MRG\n",
      "48             InsiderAdvantage\n",
      "49               KSTP/SurveyUSA\n",
      "50                  Keating (D)\n",
      "51                 LA Times/USC\n",
      "52               LVRJ/SurveyUSA\n",
      "53       Landmark/Rosetta Stone\n",
      "54     Las Vegas Review-Journal\n",
      "55                     MPRC (D)\n",
      "56                    MPRC (D)*\n",
      "57                          MRG\n",
      "58                 Magellan (R)\n",
      "59      Magellan Strategies (R)\n",
      "60                       Marist\n",
      "61         Marquette University\n",
      "62                  Mason-Dixon\n",
      "63                 Mason-Dixon*\n",
      "64     Mass Insight/Opinion ...\n",
      "65        Mercyhurst University\n",
      "66     Miami Herald/Mason-Dixon\n",
      "67          Middle Tn. State U.\n",
      "68            Mitchell Research\n",
      "69          Monmouth University\n",
      "70                 Morning Call\n",
      "71              NBC News/Marist\n",
      "72               NBC/WSJ/Marist\n",
      "73     Ohio Newspapers/Univ ...\n",
      "74       Ohio Poll/Univ of Cin.\n",
      "75           Omaha World-Herald\n",
      "76                         PPIC\n",
      "77                      PPP (D)\n",
      "78        Philadelphia Inquirer\n",
      "79     Post-Dispatch/Mason-D...\n",
      "80     Post-Dispatch/Mason-D...\n",
      "81     Project New America/K...\n",
      "82     Project New America/M...\n",
      "83     Project New America/P...\n",
      "84            Purple Strategies\n",
      "85                   Quinnipiac\n",
      "86            Rasmussen Reports\n",
      "87     Retail Assoc. of Neva...\n",
      "88              Roanoke College\n",
      "89             Rutgers-Eagleton\n",
      "90                        Siena\n",
      "91                  Sooner Poll\n",
      "92           St. Cloud State U.\n",
      "93     Star Tribune/Mason-Di...\n",
      "94           Strategies 360 (D)\n",
      "95           Suffolk University\n",
      "96                Suffolk/7News\n",
      "97                 Suffolk/WSVN\n",
      "98                 Suffolk/WWBT\n",
      "99      Sunshine State News/VSS\n",
      "100                   SurveyUSA\n",
      "101       SurveyUSA/Civitas (R)\n",
      "102          Talk Business Poll\n",
      "103       Tennessean/Vanderbilt\n",
      "104          The Simon Poll/SIU\n",
      "105         The Washington Poll\n",
      "106    Tribune-Review/Susque...\n",
      "107         UMass/Boston Herald\n",
      "108         Virginian-Pilot/ODU\n",
      "109    Voter/Consumer Res/TI...\n",
      "110                WBUR/MassINC\n",
      "111                    WMUR/UNH\n",
      "112                         WPA\n",
      "113             WPR/St. Norbert\n",
      "114                        WPRI\n",
      "115                WPRI/Fleming\n",
      "116             Washington Post\n",
      "117                WeAskAmerica\n",
      "118               WeAskAmerica*\n",
      "119       Western NE University\n",
      "Length: 120\n"
     ]
    }
   ],
   "source": [
    "print pandas.Series(pollsters)"
   ]
  },
  {
   "cell_type": "markdown",
   "id": "f5708080",
   "metadata": {},
   "source": [
    "### 538 Pollster Ratings"
   ]
  },
  {
   "cell_type": "code",
   "execution_count": 43,
   "id": "4c77f03a",
   "metadata": {
    "collapsed": false,
    "jupyter": {
     "outputs_hidden": false
    }
   },
   "outputs": [],
   "source": [
    "weights = pandas.read_table(\"/home/skipper/school/seaboldgit/talks/pydata/data/pollster_weights.csv\")"
   ]
  },
  {
   "cell_type": "code",
   "execution_count": 44,
   "id": "a9b17fb1",
   "metadata": {
    "collapsed": false,
    "jupyter": {
     "outputs_hidden": false
    }
   },
   "outputs": [
    {
     "data": {
      "text/plain": [
       "                    Pollster  Weight   PIE\n",
       "0      ABC / Washington Post    0.95  1.41\n",
       "1    American Research Group    0.65  1.76\n",
       "2       CBS / New York Times    0.66  1.84\n",
       "3   Chicago Trib. / Marke...    1.16  1.13\n",
       "4     CNN / Opinion Research    0.77  1.59\n",
       "5     Columbus Dispatch (OH)    0.50  6.76\n",
       "6                   EPIC-MRA    0.75  1.65\n",
       "7   Fairleigh-Dickinson (NJ)    0.71  1.72\n",
       "8            Field Poll (CA)    1.33  0.88\n",
       "9     Fox / Opinion Dynamics    0.79  1.60\n",
       "10      Franklin Pierce (NH)    0.74  1.60\n",
       "11         Insider Advantage    0.95  1.29\n",
       "12             Keystone (PA)    0.64  1.55\n",
       "13      LA Times / Bloomberg    0.83  1.44\n",
       "14               Marist (NY)    0.69  1.73\n",
       "15               Mason-Dixon    1.10  1.15\n",
       "16                  Mitchell    0.96  1.43\n",
       "17                 Ohio Poll    1.24  1.05\n",
       "18  Public Opinion Strate...    0.63  1.81\n",
       "19  Public Policy Polling...    1.05  1.60\n",
       "20                Quinnipiac    0.95  1.34\n",
       "21                 Rasmussen    1.30  0.88\n",
       "22             Research 2000    1.01  1.20\n",
       "23                    Selzer    1.47  0.92\n",
       "24         Star Tribune (MN)    0.81  2.01\n",
       "25          Strategic Vision    0.95  1.45\n",
       "26           Suffolk (NH/MA)    0.77  1.37\n",
       "27                 SurveyUSA    1.91  0.72\n",
       "28       Univ. New Hampshire    1.08  1.26\n",
       "29        USA Today / Gallup    0.63  2.01\n",
       "30                     Zogby    0.64  1.72\n",
       "31         Zogby Interactive    0.43  4.74"
      ]
     },
     "execution_count": 44,
     "metadata": {},
     "output_type": "execute_result"
    }
   ],
   "source": [
    "weights"
   ]
  },
  {
   "cell_type": "code",
   "execution_count": 45,
   "id": "ca33527e",
   "metadata": {
    "collapsed": false,
    "jupyter": {
     "outputs_hidden": false
    }
   },
   "outputs": [
    {
     "data": {
      "text/plain": [
       "Weight    0.908\n",
       "PIE       1.707"
      ]
     },
     "execution_count": 45,
     "metadata": {},
     "output_type": "execute_result"
    }
   ],
   "source": [
    "weights.mean()"
   ]
  },
  {
   "cell_type": "markdown",
   "id": "39e8fc38",
   "metadata": {},
   "source": [
    "Clean up the pollster names a bit so we can merge with the weights."
   ]
  },
  {
   "cell_type": "code",
   "execution_count": 46,
   "id": "725a7a09",
   "metadata": {
    "collapsed": false,
    "jupyter": {
     "outputs_hidden": false
    }
   },
   "outputs": [],
   "source": [
    "import pickle\n",
    "pollster_map = pickle.load(open(\"/home/skipper/school/seaboldgit/talks/pydata/data/pollster_map.pkl\", \"rb\"))"
   ]
  },
  {
   "cell_type": "code",
   "execution_count": 47,
   "id": "016c500e",
   "metadata": {
    "collapsed": false,
    "jupyter": {
     "outputs_hidden": false
    }
   },
   "outputs": [],
   "source": [
    "state_data2012.Pollster.replace(pollster_map, inplace=True);"
   ]
  },
  {
   "cell_type": "code",
   "execution_count": 48,
   "id": "3844e9e9",
   "metadata": {
    "collapsed": false,
    "jupyter": {
     "outputs_hidden": false
    }
   },
   "outputs": [],
   "source": [
    "national_data2012.Pollster.replace(pollster_map, inplace=True);"
   ]
  },
  {
   "cell_type": "markdown",
   "id": "5ebdb87f",
   "metadata": {},
   "source": [
    "Inner merge the data with the weights"
   ]
  },
  {
   "cell_type": "code",
   "execution_count": 49,
   "id": "e0d8b748",
   "metadata": {
    "collapsed": false,
    "jupyter": {
     "outputs_hidden": false
    }
   },
   "outputs": [],
   "source": [
    "state_data2012 = state_data2012.merge(weights, how=\"inner\", on=\"Pollster\")"
   ]
  },
  {
   "cell_type": "code",
   "execution_count": 50,
   "id": "1f271608",
   "metadata": {
    "collapsed": false,
    "jupyter": {
     "outputs_hidden": false
    }
   },
   "outputs": [
    {
     "data": {
      "text/plain": [
       "                  Pollster State  MoE  Obama (D)  Romney (R)  Sample    Spread  obama_spread            poll_date  Weight   PIE\n",
       "0  American Research Group    FL  4.0         50          45     600  Obama +5             5  2012-09-21 00:00:00    0.65  1.76\n",
       "1  American Research Group    NH  4.0         50          45     600  Obama +5             5  2012-09-26 00:00:00    0.65  1.76\n",
       "2  American Research Group    NH  4.5         48          47     463  Obama +1             1  2012-09-16 00:00:00    0.65  1.76\n",
       "3  American Research Group    NH  4.2         49          46     417  Obama +3             3  2012-06-23 00:00:00    0.65  1.76\n",
       "4  American Research Group    NH  4.2         48          41     557  Obama +7             7  2012-03-17 00:00:00    0.65  1.76"
      ]
     },
     "execution_count": 50,
     "metadata": {},
     "output_type": "execute_result"
    }
   ],
   "source": [
    "state_data2012.head(5)"
   ]
  },
  {
   "cell_type": "markdown",
   "id": "d489cc8b",
   "metadata": {},
   "source": [
    "#### First, we average each pollster for each state."
   ]
  },
  {
   "cell_type": "markdown",
   "id": "1bc41185",
   "metadata": {},
   "source": [
    "The first adjustment is an exponential decay for recency of the poll. Based on research in prior elections, a weight with a half-life of 30 days since the median date the poll has been in the field is assigned to each poll."
   ]
  },
  {
   "cell_type": "code",
   "execution_count": 51,
   "id": "f6edf44c",
   "metadata": {
    "collapsed": false,
    "jupyter": {
     "outputs_hidden": false
    }
   },
   "outputs": [],
   "source": [
    "def exp_decay(days):\n",
    "    # defensive coding, accepts timedeltas\n",
    "    days = getattr(days, \"days\", days)\n",
    "    return .5 ** (days/30.)"
   ]
  },
  {
   "cell_type": "code",
   "execution_count": 52,
   "id": "e0e85cbe",
   "metadata": {
    "collapsed": false,
    "jupyter": {
     "outputs_hidden": false
    }
   },
   "outputs": [
    {
     "data": {
      "image/png": "[encoded data removed]"
     },
     "metadata": {},
     "output_type": "display_data"
    }
   ],
   "source": [
    "fig, ax = plt.subplots(figsize=(12,8), subplot_kw={\"xlabel\" : \"Days\",\n",
    "                                                   \"ylabel\" : \"Weight\"})\n",
    "days = np.arange(0, 45)\n",
    "ax.plot(days, exp_decay(days));\n",
    "ax.vlines(30, 0, .99, color='r', linewidth=4)\n",
    "ax.set_ylim(0,1)\n",
    "ax.set_xlim(0, 45);"
   ]
  },
  {
   "cell_type": "markdown",
   "id": "6e8feae8",
   "metadata": {},
   "source": [
    "The second adjustment is for the sample size of the poll. Polls with a higher sample size receive a higher weight."
   ]
  },
  {
   "cell_type": "markdown",
   "id": "b4c298cb",
   "metadata": {},
   "source": [
    "Binomial sampling error = +/- $50 * \\frac{1}{\\sqrt{nobs}}$ where the 50 depends on the underlying probability or population preferences, in this case assumed to be 50:50 (another way of calculating Margin of Error)"
   ]
  },
  {
   "cell_type": "code",
   "execution_count": 53,
   "id": "1d12e545",
   "metadata": {
    "collapsed": false,
    "jupyter": {
     "outputs_hidden": false
    }
   },
   "outputs": [],
   "source": [
    "def average_error(nobs, p=50.):\n",
    "    return p*nobs**-.5"
   ]
  },
  {
   "cell_type": "markdown",
   "id": "194c5d6e",
   "metadata": {},
   "source": [
    "The thinking here is that having 5 polls of 1200 is a lot like having one poll of 6000. However, we downweight older polls by only including the marginal effective sample size. Where the effective sample size is the size of the methodologically perfect poll for which we would be indifferent between it and the one we have with our current total error. Total error is determined as $TE = \\text{Average Error} + \\text{Long Run Pollster Induced Error}$. See [here](http://www.fivethirtyeight.com/2008/04/pollster-ratings-v30.html) for the detailed calculations of Pollster Induced Error."
   ]
  },
  {
   "cell_type": "code",
   "execution_count": 54,
   "id": "8cb4f2b6",
   "metadata": {
    "collapsed": false,
    "jupyter": {
     "outputs_hidden": false
    }
   },
   "outputs": [],
   "source": [
    "def effective_sample(total_error, p=50.):\n",
    "    return p**2 * (total_error**-2.)"
   ]
  },
  {
   "cell_type": "code",
   "execution_count": 55,
   "id": "9305ff1b",
   "metadata": {
    "collapsed": false,
    "jupyter": {
     "outputs_hidden": false
    }
   },
   "outputs": [],
   "source": [
    "state_pollsters = state_data2012.groupby([\"State\", \"Pollster\"])"
   ]
  },
  {
   "cell_type": "code",
   "execution_count": 56,
   "id": "7bc3207b",
   "metadata": {
    "collapsed": false,
    "jupyter": {
     "outputs_hidden": false
    }
   },
   "outputs": [],
   "source": [
    "ppp_az = state_pollsters.get_group((\"AZ\", \"Public Policy Polling (PPP)\"))"
   ]
  },
  {
   "cell_type": "code",
   "execution_count": 57,
   "id": "3b030f79",
   "metadata": {
    "collapsed": false,
    "jupyter": {
     "outputs_hidden": false
    }
   },
   "outputs": [
    {
     "data": {
      "text/plain": [
       "                     Pollster State  Obama (D)  Romney (R)  Sample            poll_date\n",
       "198  Public Policy Polling...    AZ         44          53     993  2012-09-08 00:00:00\n",
       "199  Public Policy Polling...    AZ         41          52     833  2012-07-24 00:00:00\n",
       "200  Public Policy Polling...    AZ         43          50     500  2012-05-19 00:00:00\n",
       "201  Public Policy Polling...    AZ         47          47     743  2012-02-18 00:00:00\n",
       "202  Public Policy Polling...    AZ         42          49     500  2011-11-19 00:00:00\n",
       "203  Public Policy Polling...    AZ         44          48     623  2011-04-30 00:00:00\n",
       "204  Public Policy Polling...    AZ         43          49     599  2011-01-29 00:00:00\n",
       "205  Public Policy Polling...    AZ         43          50     617  2010-09-20 00:00:00"
      ]
     },
     "execution_count": 57,
     "metadata": {},
     "output_type": "execute_result"
    }
   ],
   "source": [
    "var_idx = [\"Pollster\", \"State\", \"Obama (D)\", \"Romney (R)\", \"Sample\", \"poll_date\"]\n",
    "ppp_az[var_idx]"
   ]
  },
  {
   "cell_type": "code",
   "execution_count": 58,
   "id": "77ec3c97",
   "metadata": {
    "collapsed": false,
    "jupyter": {
     "outputs_hidden": false
    }
   },
   "outputs": [],
   "source": [
    "ppp_az.sort(\"poll_date\", ascending=False, inplace=True);"
   ]
  },
  {
   "cell_type": "code",
   "execution_count": 59,
   "id": "aa1a2661",
   "metadata": {
    "collapsed": false,
    "jupyter": {
     "outputs_hidden": false
    }
   },
   "outputs": [
    {
     "data": {
      "text/plain": [
       "                     Pollster State  Obama (D)  Romney (R)  Sample            poll_date  cumulative\n",
       "198  Public Policy Polling...    AZ         44          53     993  2012-09-08 00:00:00         993\n",
       "199  Public Policy Polling...    AZ         41          52     833  2012-07-24 00:00:00        1826\n",
       "200  Public Policy Polling...    AZ         43          50     500  2012-05-19 00:00:00        2326\n",
       "201  Public Policy Polling...    AZ         47          47     743  2012-02-18 00:00:00        3069\n",
       "202  Public Policy Polling...    AZ         42          49     500  2011-11-19 00:00:00        3569\n",
       "203  Public Policy Polling...    AZ         44          48     623  2011-04-30 00:00:00        4192\n",
       "204  Public Policy Polling...    AZ         43          49     599  2011-01-29 00:00:00        4791\n",
       "205  Public Policy Polling...    AZ         43          50     617  2010-09-20 00:00:00        5408"
      ]
     },
     "execution_count": 59,
     "metadata": {},
     "output_type": "execute_result"
    }
   ],
   "source": [
    "ppp_az[\"cumulative\"] = ppp_az[\"Sample\"].cumsum()\n",
    "ppp_az[\"average_error\"] = average_error(ppp_az[\"cumulative\"])\n",
    "ppp_az[\"total_error\"] = ppp_az[\"PIE\"] + ppp_az[\"average_error\"]\n",
    "ppp_az[var_idx + [\"cumulative\"]]"
   ]
  },
  {
   "cell_type": "code",
   "execution_count": 60,
   "id": "986c6a19",
   "metadata": {
    "collapsed": false,
    "jupyter": {
     "outputs_hidden": false
    }
   },
   "outputs": [],
   "source": [
    "ppp_az[\"ESS\"] = effective_sample(ppp_az[\"total_error\"])\n",
    "ppp_az[\"MESS\"] = ppp_az[\"ESS\"].diff()\n",
    "# fill in first one\n",
    "ppp_az[\"MESS\"].fillna(ppp_az[\"ESS\"].head(1).item(), inplace=True);"
   ]
  },
  {
   "cell_type": "code",
   "execution_count": 61,
   "id": "a538fd7a",
   "metadata": {
    "collapsed": false,
    "jupyter": {
     "outputs_hidden": false
    }
   },
   "outputs": [
    {
     "data": {
      "text/plain": [
       "               poll_date  Sample  cumulative      ESS     MESS\n",
       "198  2012-09-08 00:00:00     993         993  246.182  246.182\n",
       "199  2012-07-24 00:00:00     833        1826  325.801   79.618\n",
       "200  2012-05-19 00:00:00     500        2326  359.591   33.791\n",
       "201  2012-02-18 00:00:00     743        3069  399.185   39.594\n",
       "202  2011-11-19 00:00:00     500        3569  420.968   21.783\n",
       "203  2011-04-30 00:00:00     623        4192  444.241   23.273\n",
       "204  2011-01-29 00:00:00     599        4791  463.531   19.291\n",
       "205  2010-09-20 00:00:00     617        5408  480.955   17.424"
      ]
     },
     "execution_count": 61,
     "metadata": {},
     "output_type": "execute_result"
    }
   ],
   "source": [
    "ppp_az[[\"poll_date\", \"Sample\", \"cumulative\", \"ESS\", \"MESS\"]]"
   ]
  },
  {
   "cell_type": "markdown",
   "id": "81b24697",
   "metadata": {},
   "source": [
    "Now let's do it for every polling firm in every state."
   ]
  },
  {
   "cell_type": "code",
   "execution_count": 62,
   "id": "66e07aa2",
   "metadata": {
    "collapsed": false,
    "jupyter": {
     "outputs_hidden": false
    }
   },
   "outputs": [],
   "source": [
    "def calculate_mess(group):\n",
    "    cumulative = group[\"Sample\"].cumsum()\n",
    "    ae = average_error(cumulative)\n",
    "    total_error = ae + group[\"PIE\"]\n",
    "    ess = effective_sample(total_error)\n",
    "    mess = ess.diff()\n",
    "    mess.fillna(ess.head(1).item(), inplace=True)\n",
    "    #from IPython.core.debugger import Pdb; Pdb().set_trace()\n",
    "    return pandas.concat((ess, mess), axis=1)\n",
    "\n",
    "#state_data2012[\"ESS\", \"MESS\"] \n",
    "df = state_pollsters.apply(calculate_mess)\n",
    "df.rename(columns={0 : \"ESS\", 1 : \"MESS\"}, inplace=True);"
   ]
  },
  {
   "cell_type": "code",
   "execution_count": 63,
   "id": "b5940f9b",
   "metadata": {
    "collapsed": false,
    "jupyter": {
     "outputs_hidden": false
    }
   },
   "outputs": [],
   "source": [
    "state_data2012 = state_data2012.join(df)"
   ]
  },
  {
   "cell_type": "markdown",
   "id": "be2cd6b3",
   "metadata": {},
   "source": [
    "Give them the time weight"
   ]
  },
  {
   "cell_type": "code",
   "execution_count": 64,
   "id": "e7ef2d2f",
   "metadata": {
    "collapsed": false,
    "jupyter": {
     "outputs_hidden": false
    }
   },
   "outputs": [],
   "source": [
    "td = today - state_data2012[\"poll_date\"].head(1).item()"
   ]
  },
  {
   "cell_type": "code",
   "execution_count": 65,
   "id": "11ef7c9b",
   "metadata": {
    "collapsed": false,
    "jupyter": {
     "outputs_hidden": false
    }
   },
   "outputs": [
    {
     "data": {
      "text/plain": [
       "<Timestamp: 2012-09-21 00:00:00>"
      ]
     },
     "execution_count": 65,
     "metadata": {},
     "output_type": "execute_result"
    }
   ],
   "source": [
    "state_data2012[\"poll_date\"].head(1).item()"
   ]
  },
  {
   "cell_type": "code",
   "execution_count": 66,
   "id": "0b7c59e5",
   "metadata": {
    "collapsed": false,
    "jupyter": {
     "outputs_hidden": false
    }
   },
   "outputs": [
    {
     "data": {
      "text/plain": [
       "datetime.timedelta(11)"
      ]
     },
     "execution_count": 66,
     "metadata": {},
     "output_type": "execute_result"
    }
   ],
   "source": [
    "td"
   ]
  },
  {
   "cell_type": "code",
   "execution_count": 67,
   "id": "8475ac29",
   "metadata": {
    "collapsed": false,
    "jupyter": {
     "outputs_hidden": false
    }
   },
   "outputs": [],
   "source": [
    "state_data2012[\"time_weight\"] = (today - state_data2012[\"poll_date\"]).apply(exp_decay)"
   ]
  },
  {
   "cell_type": "markdown",
   "id": "df197e49",
   "metadata": {},
   "source": [
    "Now aggregate all of these. Weight them based on the sample size but also based on the time_weight."
   ]
  },
  {
   "cell_type": "code",
   "execution_count": 68,
   "id": "8f874c61",
   "metadata": {
    "collapsed": false,
    "jupyter": {
     "outputs_hidden": false
    }
   },
   "outputs": [],
   "source": [
    "def weighted_mean(group):\n",
    "    weights1 = group[\"time_weight\"]\n",
    "    weights2 = group[\"MESS\"]\n",
    "    return np.sum(weights1*weights2*group[\"obama_spread\"]/(weights1*weights2).sum())"
   ]
  },
  {
   "cell_type": "code",
   "execution_count": 69,
   "id": "cf2579ee",
   "metadata": {
    "collapsed": false,
    "jupyter": {
     "outputs_hidden": false
    }
   },
   "outputs": [],
   "source": [
    "state_pollsters = state_data2012.groupby([\"State\", \"Pollster\"])\n",
    "state_polls = state_pollsters.apply(weighted_mean)"
   ]
  },
  {
   "cell_type": "code",
   "execution_count": 70,
   "id": "9c2846c0",
   "metadata": {
    "collapsed": false,
    "jupyter": {
     "outputs_hidden": false
    }
   },
   "outputs": [
    {
     "data": {
      "text/plain": [
       "State  Pollster                    \n",
       "AZ     Public Policy Polling (PPP)     -9.168\n",
       "       Rasmussen                      -10.209\n",
       "CA     Field Poll (CA)                 23.344\n",
       "       Public Policy Polling (PPP)     20.999\n",
       "       Rasmussen                       22.000\n",
       "       SurveyUSA                       22.123\n",
       "CO     American Research Group          2.000\n",
       "       Public Policy Polling (PPP)      5.470\n",
       "       Rasmussen                       -1.574\n",
       "CT     Public Policy Polling (PPP)     12.758\n",
       "       Quinnipiac                       7.294\n",
       "       Rasmussen                        8.000\n",
       "FL     American Research Group          5.000\n",
       "       Mason-Dixon                     -3.543\n",
       "       Public Policy Polling (PPP)      3.125\n",
       "       Quinnipiac                       3.076\n",
       "       Rasmussen                        0.883\n",
       "       Suffolk (NH/MA)                 -0.003\n",
       "       SurveyUSA                        4.169\n",
       "GA     Insider Advantage              -19.174\n",
       "       Mason-Dixon                    -17.000\n",
       "       Public Policy Polling (PPP)     -3.000\n",
       "       SurveyUSA                       -7.984\n",
       "HI     Public Policy Polling (PPP)     27.000\n",
       "IA     American Research Group          7.000\n",
       "       Mason-Dixon                     -3.000\n",
       "       Public Policy Polling (PPP)      5.879\n",
       "       Rasmussen                       -2.749\n",
       "IL     Chicago Trib. / MarketShares    21.000\n",
       "IN     Rasmussen                      -16.000\n",
       "KS     SurveyUSA                      -15.875\n",
       "MA     Public Policy Polling (PPP)     17.580\n",
       "       Rasmussen                       15.107\n",
       "MD     Public Policy Polling (PPP)     23.000\n",
       "ME     Public Policy Polling (PPP)     16.038\n",
       "       Rasmussen                       12.000\n",
       "MI     CNN / Opinion Research           8.000\n",
       "       EPIC-MRA                         7.430\n",
       "       Mitchell                         0.897\n",
       "       Public Policy Polling (PPP)      7.694\n",
       "       Rasmussen                       11.072\n",
       "       SurveyUSA                       11.000\n",
       "MN     Public Policy Polling (PPP)      7.335\n",
       "MO     Public Policy Polling (PPP)    -11.225\n",
       "       Rasmussen                       -2.486\n",
       "       SurveyUSA                       -1.000\n",
       "MS     Public Policy Polling (PPP)    -17.973\n",
       "MT     Mason-Dixon                     -9.000\n",
       "       Public Policy Polling (PPP)     -5.003\n",
       "       Rasmussen                      -15.641\n",
       "NC     American Research Group         -4.000\n",
       "       Public Policy Polling (PPP)      0.261\n",
       "       Rasmussen                       -5.676\n",
       "       SurveyUSA                        1.987\n",
       "ND     Mason-Dixon                    -13.000\n",
       "       Rasmussen                      -15.000\n",
       "NE     Public Policy Polling (PPP)    -12.005\n",
       "       Rasmussen                      -14.308\n",
       "NH     American Research Group          4.150\n",
       "       LA Times / Bloomberg           -10.000\n",
       "       Mason-Dixon                    -11.000\n",
       "       Public Policy Polling (PPP)      6.273\n",
       "       Rasmussen                       -2.439\n",
       "NJ     Fairleigh-Dickinson (NJ)        13.859\n",
       "       Public Policy Polling (PPP)     14.006\n",
       "       Quinnipiac                       7.504\n",
       "       Rasmussen                        6.000\n",
       "       SurveyUSA                       14.000\n",
       "NM     Public Policy Polling (PPP)     10.621\n",
       "       Rasmussen                       11.651\n",
       "NV     American Research Group          7.000\n",
       "       CNN / Opinion Research           3.000\n",
       "       Public Policy Polling (PPP)      7.345\n",
       "       Rasmussen                        2.524\n",
       "NY     Marist (NY)                     22.047\n",
       "       Quinnipiac                      27.345\n",
       "       SurveyUSA                       30.000\n",
       "OH     American Research Group          1.000\n",
       "       Columbus Dispatch (OH)           8.616\n",
       "       Ohio Poll                        3.000\n",
       "       Public Policy Polling (PPP)      4.142\n",
       "       Quinnipiac                       7.729\n",
       "       Rasmussen                        0.866\n",
       "OR     Public Policy Polling (PPP)      9.130\n",
       "       SurveyUSA                        8.676\n",
       "PA     Public Policy Polling (PPP)      6.160\n",
       "       Quinnipiac                       6.047\n",
       "       Rasmussen                       10.875\n",
       "       SurveyUSA                        0.000\n",
       "RI     Public Policy Polling (PPP)     17.000\n",
       "SC     Public Policy Polling (PPP)    -14.558\n",
       "SD     Public Policy Polling (PPP)     -6.000\n",
       "TN     Public Policy Polling (PPP)     -7.000\n",
       "TX     Public Policy Polling (PPP)     -6.999\n",
       "UT     Mason-Dixon                    -51.000\n",
       "       Public Policy Polling (PPP)    -32.000\n",
       "VA     American Research Group          2.000\n",
       "       Mason-Dixon                      1.000\n",
       "       Public Policy Polling (PPP)      5.096\n",
       "       Quinnipiac                       0.578\n",
       "       Rasmussen                        0.892\n",
       "VT     Public Policy Polling (PPP)     20.000\n",
       "WA     Public Policy Polling (PPP)     13.051\n",
       "       Rasmussen                       11.000\n",
       "       SurveyUSA                       15.310\n",
       "WI     CNN / Opinion Research           4.000\n",
       "       Public Policy Polling (PPP)      5.393\n",
       "       Rasmussen                        2.116\n",
       "WV     Public Policy Polling (PPP)    -19.757\n",
       "Length: 109"
      ]
     },
     "execution_count": 70,
     "metadata": {},
     "output_type": "execute_result"
    }
   ],
   "source": [
    "state_polls"
   ]
  },
  {
   "cell_type": "markdown",
   "id": "c51bf9a2",
   "metadata": {},
   "source": [
    "### 2004 and 2008 Polls"
   ]
  },
  {
   "cell_type": "code",
   "execution_count": 71,
   "id": "e5732938",
   "metadata": {
    "collapsed": false,
    "jupyter": {
     "outputs_hidden": false
    }
   },
   "outputs": [
    {
     "data": {
      "text/plain": [
       "<class 'pandas.core.frame.DataFrame'>\n",
       "Int64Index: 879 entries, 0 to 878\n",
       "Data columns:\n",
       "State       879  non-null values\n",
       "Kerry       879  non-null values\n",
       "Bush        879  non-null values\n",
       "Date        879  non-null values\n",
       "Pollster    879  non-null values\n",
       "dtypes: int64(2), object(3)"
      ]
     },
     "execution_count": 71,
     "metadata": {},
     "output_type": "execute_result"
    }
   ],
   "source": [
    "state_data2004 = pandas.read_csv(\"/home/skipper/school/seaboldgit/talks/pydata/data/2004-pres-polls.csv\")\n",
    "state_data2004"
   ]
  },
  {
   "cell_type": "code",
   "execution_count": 72,
   "id": "b5c75eff",
   "metadata": {
    "collapsed": false,
    "jupyter": {
     "outputs_hidden": false
    }
   },
   "outputs": [
    {
     "data": {
      "text/plain": [
       "  State  Kerry  Bush    Date        Pollster\n",
       "0    AL     39    57  Oct 25       SurveyUSA\n",
       "1    AL     32    56  Oct 12  Capital Survey\n",
       "2    AL     34    62  Oct 01       SurveyUSA\n",
       "3    AL     40    54  Sep 14             ARG\n",
       "4    AL     42    53  Sep 06       Rasmussen"
      ]
     },
     "execution_count": 72,
     "metadata": {},
     "output_type": "execute_result"
    }
   ],
   "source": [
    "state_data2004.head(5)"
   ]
  },
  {
   "cell_type": "code",
   "execution_count": 73,
   "id": "18378d0e",
   "metadata": {
    "collapsed": false,
    "jupyter": {
     "outputs_hidden": false
    }
   },
   "outputs": [
    {
     "data": {
      "text/plain": [
       "<class 'pandas.core.frame.DataFrame'>\n",
       "Int64Index: 1189 entries, 0 to 1188\n",
       "Data columns:\n",
       "State       1189  non-null values\n",
       "Obama       1189  non-null values\n",
       "McCain      1189  non-null values\n",
       "Start       1189  non-null values\n",
       "End         1189  non-null values\n",
       "Pollster    1189  non-null values\n",
       "dtypes: int64(2), object(4)"
      ]
     },
     "execution_count": 73,
     "metadata": {},
     "output_type": "execute_result"
    }
   ],
   "source": [
    "state_data2008 = pandas.read_csv(\"/home/skipper/school/seaboldgit/talks/pydata/data/2008-pres-polls.csv\")\n",
    "state_data2008"
   ]
  },
  {
   "cell_type": "code",
   "execution_count": 74,
   "id": "a6dca973",
   "metadata": {
    "collapsed": false,
    "jupyter": {
     "outputs_hidden": false
    }
   },
   "outputs": [
    {
     "data": {
      "text/plain": [
       "  State  Obama  McCain   Start     End        Pollster\n",
       "0    AL     36      61  Oct 27  Oct 28       SurveyUSA\n",
       "1    AL     34      54  Oct 15  Oct 16  Capital Survey\n",
       "2    AL     35      62  Oct 08  Oct 09       SurveyUSA\n",
       "3    AL     35      55  Oct 06  Oct 07  Capital Survey\n",
       "4    AL     39      60  Sep 22  Sep 22       Rasmussen"
      ]
     },
     "execution_count": 74,
     "metadata": {},
     "output_type": "execute_result"
    }
   ],
   "source": [
    "state_data2008.head(5)"
   ]
  },
  {
   "cell_type": "code",
   "execution_count": 75,
   "id": "2402cb4a",
   "metadata": {
    "collapsed": false,
    "jupyter": {
     "outputs_hidden": false
    }
   },
   "outputs": [
    {
     "data": {
      "text/plain": [
       "0     Oct 28 2008\n",
       "1     Oct 16 2008\n",
       "2     Oct 09 2008\n",
       "3     Oct 07 2008\n",
       "4     Sep 22 2008\n",
       "5     Sep 17 2008\n",
       "6     Sep 16 2008\n",
       "7     Sep 15 2008\n",
       "8     Sep 09 2008\n",
       "9     Aug 04 2008\n",
       "10    Jul 31 2008\n",
       "11    Jun 26 2008\n",
       "12    Jun 26 2008\n",
       "13    Jun 02 2008\n",
       "14    May 27 2008\n",
       "...\n",
       "1174    May 05 2008\n",
       "1175    Apr 24 2008\n",
       "1176    Apr 13 2008\n",
       "1177    Apr 05 2008\n",
       "1178    Mar 26 2008\n",
       "1179    Mar 16 2008\n",
       "1180    Feb 28 2008\n",
       "1181    Feb 21 2008\n",
       "1182    Feb 17 2008\n",
       "1183    Oct 19 2008\n",
       "1184    Oct 14 2008\n",
       "1185    Sep 11 2008\n",
       "1186    Sep 10 2008\n",
       "1187    Aug 15 2008\n",
       "1188    Feb 28 2008\n",
       "Name: End, Length: 1189"
      ]
     },
     "execution_count": 75,
     "metadata": {},
     "output_type": "execute_result"
    }
   ],
   "source": [
    "state_data2008.End + \" 2008\""
   ]
  },
  {
   "cell_type": "code",
   "execution_count": 76,
   "id": "9c4612e3",
   "metadata": {
    "collapsed": false,
    "jupyter": {
     "outputs_hidden": false
    }
   },
   "outputs": [
    {
     "data": {
      "text/plain": [
       "0     2008-10-28 00:00:00\n",
       "1     2008-10-16 00:00:00\n",
       "2     2008-10-09 00:00:00\n",
       "3     2008-10-07 00:00:00\n",
       "4     2008-09-22 00:00:00\n",
       "5     2008-09-17 00:00:00\n",
       "6     2008-09-16 00:00:00\n",
       "7     2008-09-15 00:00:00\n",
       "8     2008-09-09 00:00:00\n",
       "9     2008-08-04 00:00:00\n",
       "10    2008-07-31 00:00:00\n",
       "11    2008-06-26 00:00:00\n",
       "12    2008-06-26 00:00:00\n",
       "13    2008-06-02 00:00:00\n",
       "14    2008-05-27 00:00:00\n",
       "...\n",
       "1174    2008-05-05 00:00:00\n",
       "1175    2008-04-24 00:00:00\n",
       "1176    2008-04-13 00:00:00\n",
       "1177    2008-04-05 00:00:00\n",
       "1178    2008-03-26 00:00:00\n",
       "1179    2008-03-16 00:00:00\n",
       "1180    2008-02-28 00:00:00\n",
       "1181    2008-02-21 00:00:00\n",
       "1182    2008-02-17 00:00:00\n",
       "1183    2008-10-19 00:00:00\n",
       "1184    2008-10-14 00:00:00\n",
       "1185    2008-09-11 00:00:00\n",
       "1186    2008-09-10 00:00:00\n",
       "1187    2008-08-15 00:00:00\n",
       "1188    2008-02-28 00:00:00\n",
       "Name: End, Length: 1189"
      ]
     },
     "execution_count": 76,
     "metadata": {},
     "output_type": "execute_result"
    }
   ],
   "source": [
    "(state_data2008.End + \" 2008\").apply(pandas.datetools.parse)"
   ]
  },
  {
   "cell_type": "markdown",
   "id": "1d4e541e",
   "metadata": {},
   "source": [
    "Need to clean some of the dates in this data. Luckily, pandas makes this easy to do."
   ]
  },
  {
   "cell_type": "code",
   "execution_count": 77,
   "id": "4a327939",
   "metadata": {
    "collapsed": false,
    "jupyter": {
     "outputs_hidden": false
    }
   },
   "outputs": [],
   "source": [
    "state_data2004.Date = state_data2004.Date.str.replace(\"Nov 00\", \"Nov 01\")\n",
    "state_data2004.Date = state_data2004.Date.str.replace(\"Oct 00\", \"Oct 01\")"
   ]
  },
  {
   "cell_type": "code",
   "execution_count": 78,
   "id": "bcb261cd",
   "metadata": {
    "collapsed": false,
    "jupyter": {
     "outputs_hidden": false
    }
   },
   "outputs": [],
   "source": [
    "state_data2008[\"poll_date\"] = (state_data2008.End + \" 2008\").apply(pandas.datetools.parse)\n",
    "state_data2004[\"poll_date\"] = (state_data2004.Date + \" 2004\").apply(pandas.datetools.parse)"
   ]
  },
  {
   "cell_type": "code",
   "execution_count": 79,
   "id": "fcebbf3a",
   "metadata": {
    "collapsed": false,
    "jupyter": {
     "outputs_hidden": false
    }
   },
   "outputs": [],
   "source": [
    "del state_data2008[\"End\"]\n",
    "del state_data2008[\"Start\"]\n",
    "del state_data2004[\"Date\"]"
   ]
  },
  {
   "cell_type": "code",
   "execution_count": 80,
   "id": "bd1d81a7",
   "metadata": {
    "collapsed": false,
    "jupyter": {
     "outputs_hidden": false
    }
   },
   "outputs": [
    {
     "data": {
      "text/plain": [
       "<class 'pandas.core.frame.DataFrame'>\n",
       "Int64Index: 1189 entries, 0 to 1188\n",
       "Data columns:\n",
       "State        1189  non-null values\n",
       "Obama        1189  non-null values\n",
       "McCain       1189  non-null values\n",
       "Pollster     1189  non-null values\n",
       "poll_date    1189  non-null values\n",
       "dtypes: int64(2), object(3)"
      ]
     },
     "execution_count": 80,
     "metadata": {},
     "output_type": "execute_result"
    }
   ],
   "source": [
    "state_data2008"
   ]
  },
  {
   "cell_type": "code",
   "execution_count": 81,
   "id": "893cacd3",
   "metadata": {
    "collapsed": false,
    "jupyter": {
     "outputs_hidden": false
    }
   },
   "outputs": [
    {
     "data": {
      "text/plain": [
       "<class 'pandas.core.frame.DataFrame'>\n",
       "Int64Index: 879 entries, 0 to 878\n",
       "Data columns:\n",
       "State        879  non-null values\n",
       "Kerry        879  non-null values\n",
       "Bush         879  non-null values\n",
       "Pollster     879  non-null values\n",
       "poll_date    879  non-null values\n",
       "dtypes: int64(2), object(3)"
      ]
     },
     "execution_count": 81,
     "metadata": {},
     "output_type": "execute_result"
    }
   ],
   "source": [
    "state_data2004"
   ]
  },
  {
   "cell_type": "code",
   "execution_count": 82,
   "id": "e631d8c1",
   "metadata": {
    "collapsed": false,
    "jupyter": {
     "outputs_hidden": false
    }
   },
   "outputs": [],
   "source": [
    "state_groups = state_data2008.groupby(\"State\")"
   ]
  },
  {
   "cell_type": "code",
   "execution_count": 83,
   "id": "84a727ac",
   "metadata": {
    "collapsed": false,
    "jupyter": {
     "outputs_hidden": false
    }
   },
   "outputs": [
    {
     "data": {
      "text/plain": [
       "       McCain   Obama\n",
       "State                \n",
       "AK     52.000  39.429\n",
       "AL     56.826  34.348\n",
       "AR     51.000  37.250\n",
       "AZ     49.333  39.190\n",
       "CA     37.633  53.267\n",
       "CO     44.467  48.289\n",
       "CT     36.923  52.692\n",
       "DC     13.000  82.000\n",
       "DE     38.625  55.500\n",
       "FL     46.394  46.121\n",
       "GA     51.346  43.154\n",
       "HI     30.000  64.000\n",
       "IA     41.407  50.037\n",
       "ID     60.000  30.500\n",
       "IL     36.900  55.600\n",
       "IN     47.500  44.962\n",
       "KS     53.562  37.750\n",
       "KY     54.842  37.526\n",
       "LA     52.167  39.083\n",
       "MA     38.800  52.200\n",
       "MD     38.667  53.833\n",
       "ME     38.188  50.562\n",
       "MI     42.053  47.368\n",
       "MN     41.739  50.261\n",
       "MO     47.429  45.571\n",
       "MS     51.200  40.500\n",
       "MT     48.214  43.857\n",
       "NC     47.523  46.091\n",
       "ND     45.571  42.714\n",
       "NE     51.714  37.143\n",
       "NH     42.757  48.919\n",
       "NJ     39.767  49.767\n",
       "NM     43.593  48.741\n",
       "NV     44.844  46.938\n",
       "NY     36.865  52.432\n",
       "OH     44.975  46.658\n",
       "OK     61.700  32.000\n",
       "OR     40.852  50.333\n",
       "PA     42.080  48.893\n",
       "RI     32.000  53.000\n",
       "SC     53.300  41.000\n",
       "SD     50.375  39.875\n",
       "TN     54.364  36.364\n",
       "TX     50.200  40.400\n",
       "UT     58.600  30.000\n",
       "VA     45.817  47.933\n",
       "VT     34.750  59.750\n",
       "WA     40.424  51.515\n",
       "WI     41.921  49.684\n",
       "WV     48.692  42.538\n",
       "WY     59.333  32.667"
      ]
     },
     "execution_count": 83,
     "metadata": {},
     "output_type": "execute_result"
    }
   ],
   "source": [
    "state_groups.aggregate(dict(Obama=np.mean, McCain=np.mean))"
   ]
  },
  {
   "cell_type": "markdown",
   "id": "bd109d1f",
   "metadata": {},
   "source": [
    "Means for the entire country (without weighting by population)"
   ]
  },
  {
   "cell_type": "code",
   "execution_count": 84,
   "id": "c1138812",
   "metadata": {
    "collapsed": false,
    "jupyter": {
     "outputs_hidden": false
    }
   },
   "outputs": [
    {
     "data": {
      "text/plain": [
       "McCain    45.338\n",
       "Obama     46.082"
      ]
     },
     "execution_count": 84,
     "metadata": {},
     "output_type": "execute_result"
    }
   ],
   "source": [
    "state_groups.aggregate(dict(Obama=np.mean, McCain=np.mean)).mean()"
   ]
  },
  {
   "cell_type": "code",
   "execution_count": 85,
   "id": "c0ad5811",
   "metadata": {
    "collapsed": false,
    "jupyter": {
     "outputs_hidden": false
    }
   },
   "outputs": [],
   "source": [
    "state_data2004.Pollster.replace(pollster_map, inplace=True)\n",
    "state_data2008.Pollster.replace(pollster_map, inplace=True);"
   ]
  },
  {
   "cell_type": "code",
   "execution_count": 86,
   "id": "b7723bbc",
   "metadata": {
    "collapsed": false,
    "jupyter": {
     "outputs_hidden": false
    }
   },
   "outputs": [],
   "source": [
    "state_data2004 = state_data2004.merge(weights, how=\"inner\", on=\"Pollster\")\n",
    "state_data2008 = state_data2008.merge(weights, how=\"inner\", on=\"Pollster\")"
   ]
  },
  {
   "cell_type": "code",
   "execution_count": 87,
   "id": "596ada2b",
   "metadata": {
    "collapsed": false,
    "jupyter": {
     "outputs_hidden": false
    }
   },
   "outputs": [
    {
     "data": {
      "text/plain": [
       "26"
      ]
     },
     "execution_count": 87,
     "metadata": {},
     "output_type": "execute_result"
    }
   ],
   "source": [
    "len(state_data2004.Pollster.unique())"
   ]
  },
  {
   "cell_type": "code",
   "execution_count": 88,
   "id": "e1b9b755",
   "metadata": {
    "collapsed": false,
    "jupyter": {
     "outputs_hidden": false
    }
   },
   "outputs": [
    {
     "data": {
      "text/plain": [
       "21"
      ]
     },
     "execution_count": 88,
     "metadata": {},
     "output_type": "execute_result"
    }
   ],
   "source": [
    "len(state_data2008.Pollster.unique())"
   ]
  },
  {
   "cell_type": "code",
   "execution_count": 89,
   "id": "8e48d19c",
   "metadata": {
    "collapsed": false,
    "jupyter": {
     "outputs_hidden": false
    }
   },
   "outputs": [],
   "source": [
    "import datetime"
   ]
  },
  {
   "cell_type": "code",
   "execution_count": 90,
   "id": "14240bc7",
   "metadata": {
    "collapsed": false,
    "jupyter": {
     "outputs_hidden": false
    }
   },
   "outputs": [
    {
     "data": {
      "text/plain": [
       "datetime.datetime(2004, 11, 2, 0, 0)"
      ]
     },
     "execution_count": 90,
     "metadata": {},
     "output_type": "execute_result"
    }
   ],
   "source": [
    "date2004 = datetime.datetime(2004, 11, 2)\n",
    "date2004"
   ]
  },
  {
   "cell_type": "code",
   "execution_count": 91,
   "id": "412cce74",
   "metadata": {
    "collapsed": false,
    "jupyter": {
     "outputs_hidden": false
    }
   },
   "outputs": [
    {
     "data": {
      "text/plain": [
       "0     False\n",
       "1     False\n",
       "2     False\n",
       "3     False\n",
       "4     False\n",
       "5     False\n",
       "6     False\n",
       "7     False\n",
       "8     False\n",
       "9      True\n",
       "10     True\n",
       "11    False\n",
       "12    False\n",
       "13    False\n",
       "14    False\n",
       "...\n",
       "719    False\n",
       "720    False\n",
       "721    False\n",
       "722    False\n",
       "723    False\n",
       "724     True\n",
       "725     True\n",
       "726    False\n",
       "727    False\n",
       "728    False\n",
       "729    False\n",
       "730    False\n",
       "731    False\n",
       "732    False\n",
       "733    False\n",
       "Name: poll_date, Length: 734"
      ]
     },
     "execution_count": 91,
     "metadata": {},
     "output_type": "execute_result"
    }
   ],
   "source": [
    "(date2004 - state_data2004.poll_date) < datetime.timedelta(21)"
   ]
  },
  {
   "cell_type": "markdown",
   "id": "0e6a055a",
   "metadata": {},
   "source": [
    "Restrict the samples to the 3 weeks leading up to the election"
   ]
  },
  {
   "cell_type": "code",
   "execution_count": 92,
   "id": "72dc7385",
   "metadata": {
    "collapsed": false,
    "jupyter": {
     "outputs_hidden": false
    }
   },
   "outputs": [
    {
     "data": {
      "text/plain": [
       "<class 'pandas.core.frame.DataFrame'>\n",
       "Int64Index: 213 entries, 0 to 212\n",
       "Data columns:\n",
       "State        213  non-null values\n",
       "Kerry        213  non-null values\n",
       "Bush         213  non-null values\n",
       "Pollster     213  non-null values\n",
       "poll_date    213  non-null values\n",
       "Weight       213  non-null values\n",
       "PIE          213  non-null values\n",
       "dtypes: float64(2), int64(2), object(3)"
      ]
     },
     "execution_count": 92,
     "metadata": {},
     "output_type": "execute_result"
    }
   ],
   "source": [
    "state_data2004 = state_data2004.ix[(date2004 - state_data2004.poll_date) <= datetime.timedelta(21)]\n",
    "state_data2004.reset_index(drop=True, inplace=True)"
   ]
  },
  {
   "cell_type": "code",
   "execution_count": 93,
   "id": "42088065",
   "metadata": {
    "collapsed": false,
    "jupyter": {
     "outputs_hidden": false
    }
   },
   "outputs": [],
   "source": [
    "date2008 = datetime.datetime(2008, 11, 4)"
   ]
  },
  {
   "cell_type": "code",
   "execution_count": 94,
   "id": "a8a422b1",
   "metadata": {
    "collapsed": false,
    "jupyter": {
     "outputs_hidden": false
    }
   },
   "outputs": [
    {
     "data": {
      "text/plain": [
       "<class 'pandas.core.frame.DataFrame'>\n",
       "Int64Index: 210 entries, 0 to 209\n",
       "Data columns:\n",
       "State        210  non-null values\n",
       "Obama        210  non-null values\n",
       "McCain       210  non-null values\n",
       "Pollster     210  non-null values\n",
       "poll_date    210  non-null values\n",
       "Weight       210  non-null values\n",
       "PIE          210  non-null values\n",
       "dtypes: float64(2), int64(2), object(3)"
      ]
     },
     "execution_count": 94,
     "metadata": {},
     "output_type": "execute_result"
    }
   ],
   "source": [
    "state_data2008 = state_data2008.ix[(date2008 - state_data2008.poll_date) <= datetime.timedelta(21)]\n",
    "state_data2008.reset_index(drop=True, inplace=True)"
   ]
  },
  {
   "cell_type": "code",
   "execution_count": 95,
   "id": "afc07943",
   "metadata": {
    "collapsed": false,
    "jupyter": {
     "outputs_hidden": false
    }
   },
   "outputs": [
    {
     "data": {
      "text/plain": [
       "<class 'pandas.core.frame.DataFrame'>\n",
       "Int64Index: 210 entries, 0 to 209\n",
       "Data columns:\n",
       "State        210  non-null values\n",
       "Obama        210  non-null values\n",
       "McCain       210  non-null values\n",
       "Pollster     210  non-null values\n",
       "poll_date    210  non-null values\n",
       "Weight       210  non-null values\n",
       "PIE          210  non-null values\n",
       "dtypes: float64(2), int64(2), object(3)"
      ]
     },
     "execution_count": 95,
     "metadata": {},
     "output_type": "execute_result"
    }
   ],
   "source": [
    "state_data2008"
   ]
  },
  {
   "cell_type": "code",
   "execution_count": 96,
   "id": "fb4ee8e4",
   "metadata": {
    "collapsed": false,
    "jupyter": {
     "outputs_hidden": false
    }
   },
   "outputs": [],
   "source": [
    "state_data2004[\"time_weight\"] =(date2004 - state_data2004.poll_date).apply(exp_decay)\n",
    "state_data2008[\"time_weight\"] =(date2008 - state_data2008.poll_date).apply(exp_decay)"
   ]
  },
  {
   "cell_type": "code",
   "execution_count": 97,
   "id": "73791f4f",
   "metadata": {
    "collapsed": false,
    "jupyter": {
     "outputs_hidden": false
    }
   },
   "outputs": [
    {
     "data": {
      "text/plain": [
       "   time_weight            poll_date\n",
       "0        0.955  2004-10-31 00:00:00\n",
       "1        0.794  2004-10-23 00:00:00\n",
       "2        0.831  2004-10-25 00:00:00\n",
       "3        0.955  2004-10-31 00:00:00\n",
       "4        0.891  2004-10-28 00:00:00"
      ]
     },
     "execution_count": 97,
     "metadata": {},
     "output_type": "execute_result"
    }
   ],
   "source": [
    "state_data2004[[\"time_weight\", \"poll_date\"]].head(5)"
   ]
  },
  {
   "cell_type": "code",
   "execution_count": 98,
   "id": "664550ac",
   "metadata": {
    "collapsed": false,
    "jupyter": {
     "outputs_hidden": false
    }
   },
   "outputs": [],
   "source": [
    "def max_date(x):\n",
    "    return x == x.max()"
   ]
  },
  {
   "cell_type": "code",
   "execution_count": 99,
   "id": "7c8bfca8",
   "metadata": {
    "collapsed": false,
    "jupyter": {
     "outputs_hidden": false
    }
   },
   "outputs": [],
   "source": [
    "state_data2004[\"newest_poll\"] = state_data2004.groupby((\"State\", \"Pollster\")).poll_date.transform(max_date)\n",
    "state_data2008[\"newest_poll\"] = state_data2008.groupby((\"State\", \"Pollster\")).poll_date.transform(max_date)"
   ]
  },
  {
   "cell_type": "markdown",
   "id": "97f20b52",
   "metadata": {},
   "source": [
    "### Clustering States by Demographics"
   ]
  },
  {
   "cell_type": "markdown",
   "id": "2664874a",
   "metadata": {},
   "source": [
    "There are notes on trend line adjustment, [here](http://www.fivethirtyeight.com/2008/06/we-know-more-than-we-think-big-change-2.html), [here](http://www.fivethirtyeight.com/2008/06/refinement-to-adjustment-part-i.html), [here](http://www.fivethirtyeight.com/2008/06/refinement-to-adjustment-part-ii.html), [here](http://www.fivethirtyeight.com/2008/06/trendline-now-calculated-from-daily.html), and [here](http://www.fivethirtyeight.com/2008/06/construction-season-over-technical.html). However, to the best of my knowledge, the similar state \"nearest neighbor\" clustering remains a black box."
   ]
  },
  {
   "cell_type": "markdown",
   "id": "d05441be",
   "metadata": {},
   "source": [
    "Partican Voting Index data obtained from [Wikipedia](http://en.wikipedia.org/wiki/Cook_Partisan_Voting_Index)"
   ]
  },
  {
   "cell_type": "code",
   "execution_count": 100,
   "id": "66c16f85",
   "metadata": {
    "collapsed": false,
    "jupyter": {
     "outputs_hidden": false
    }
   },
   "outputs": [],
   "source": [
    "pvi = pandas.read_csv(\"/home/skipper/school/seaboldgit/talks/pydata/data/partisan_voting.csv\")"
   ]
  },
  {
   "cell_type": "code",
   "execution_count": 101,
   "id": "8e014171",
   "metadata": {
    "collapsed": false,
    "jupyter": {
     "outputs_hidden": false
    }
   },
   "outputs": [
    {
     "data": {
      "text/plain": [
       "                       PVI\n",
       "State                     \n",
       "Alabama               R+13\n",
       "Alaska                R+13\n",
       "Arizona               R+6 \n",
       "Arkansas              R+9 \n",
       "California            D+7 \n",
       "Colorado              EVEN\n",
       "Connecticut           D+7 \n",
       "Delaware              D+7 \n",
       "District of Columbia  D+39\n",
       "Florida               R+2 \n",
       "Georgia               R+7 \n",
       "Hawaii                D+12\n",
       "Idaho                 R+17\n",
       "Illinois              D+8 \n",
       "Indiana               R+6 \n",
       "Iowa                  D+1 \n",
       "Kansas                R+12\n",
       "Kentucky              R+10\n",
       "Louisiana             R+10\n",
       "Maine                 D+5 \n",
       "Maryland              D+9 \n",
       "Massachusetts         D+12\n",
       "Michigan              D+4 \n",
       "Minnesota             D+2 \n",
       "Mississippi           R+10\n",
       "Missouri              R+3 \n",
       "Montana               R+7 \n",
       "Nebraska              R+13\n",
       "Nevada                D+1 \n",
       "New Hampshire         D+2 \n",
       "New Jersey            D+4 \n",
       "New Mexico            D+2 \n",
       "New York              D+10\n",
       "North Carolina        R+4 \n",
       "North Dakota          R+10\n",
       "Ohio                  R+1 \n",
       "Oklahoma              R+17\n",
       "Oregon                D+4 \n",
       "Pennsylvania          D+2 \n",
       "Rhode Island          D+11\n",
       "South Carolina        R+8 \n",
       "South Dakota          R+9 \n",
       "Tennessee             R+9 \n",
       "Texas                 R+10\n",
       "Utah                  R+20\n",
       "Vermont               D+13\n",
       "Virginia              R+2 \n",
       "Washington            D+5 \n",
       "West Virginia         R+8 \n",
       "Wisconsin             D+2 \n",
       "Wyoming               R+20"
      ]
     },
     "execution_count": 101,
     "metadata": {},
     "output_type": "execute_result"
    }
   ],
   "source": [
    "pvi.set_index(\"State\", inplace=True);\n",
    "pvi"
   ]
  },
  {
   "cell_type": "code",
   "execution_count": 102,
   "id": "8f4831f2",
   "metadata": {
    "collapsed": false,
    "jupyter": {
     "outputs_hidden": false
    }
   },
   "outputs": [
    {
     "data": {
      "text/plain": [
       "State\n",
       "Alabama                -13\n",
       "Alaska                 -13\n",
       "Arizona                 -6\n",
       "Arkansas                -9\n",
       "California               7\n",
       "Colorado                 0\n",
       "Connecticut              7\n",
       "Delaware                 7\n",
       "District of Columbia    39\n",
       "Florida                 -2\n",
       "Georgia                 -7\n",
       "Hawaii                  12\n",
       "Idaho                  -17\n",
       "Illinois                 8\n",
       "Indiana                 -6\n",
       "Iowa                     1\n",
       "Kansas                 -12\n",
       "Kentucky               -10\n",
       "Louisiana              -10\n",
       "Maine                    5\n",
       "Maryland                 9\n",
       "Massachusetts           12\n",
       "Michigan                 4\n",
       "Minnesota                2\n",
       "Mississippi            -10\n",
       "Missouri                -3\n",
       "Montana                 -7\n",
       "Nebraska               -13\n",
       "Nevada                   1\n",
       "New Hampshire            2\n",
       "New Jersey               4\n",
       "New Mexico               2\n",
       "New York                10\n",
       "North Carolina          -4\n",
       "North Dakota           -10\n",
       "Ohio                    -1\n",
       "Oklahoma               -17\n",
       "Oregon                   4\n",
       "Pennsylvania             2\n",
       "Rhode Island            11\n",
       "South Carolina          -8\n",
       "South Dakota            -9\n",
       "Tennessee               -9\n",
       "Texas                  -10\n",
       "Utah                   -20\n",
       "Vermont                 13\n",
       "Virginia                -2\n",
       "Washington               5\n",
       "West Virginia           -8\n",
       "Wisconsin                2\n",
       "Wyoming                -20\n",
       "Name: PVI, Length: 51"
      ]
     },
     "execution_count": 102,
     "metadata": {},
     "output_type": "execute_result"
    }
   ],
   "source": [
    "pvi.PVI = pvi.PVI.replace({\"EVEN\" : \"0\"})\n",
    "pvi.PVI = pvi.PVI.str.replace(\"R\\+\", \"-\")\n",
    "pvi.PVI = pvi.PVI.str.replace(\"D\\+\", \"\")\n",
    "pvi.PVI = pvi.PVI.astype(float)\n",
    "pvi.PVI"
   ]
  },
  {
   "cell_type": "markdown",
   "id": "3ad6612a",
   "metadata": {},
   "source": [
    "Party affliation of electorate obtained from [Gallup](http://www.gallup.com/poll/156437/Heavily-Democratic-States-Concentrated-East.aspx#2)."
   ]
  },
  {
   "cell_type": "code",
   "execution_count": 103,
   "id": "f4280eb7",
   "metadata": {
    "collapsed": false,
    "jupyter": {
     "outputs_hidden": false
    }
   },
   "outputs": [],
   "source": [
    "party_affil = pandas.read_csv(\"/home/skipper/school/seaboldgit/talks/pydata/data/gallup_electorate.csv\")"
   ]
  },
  {
   "cell_type": "code",
   "execution_count": 104,
   "id": "9a48f565",
   "metadata": {
    "collapsed": false,
    "jupyter": {
     "outputs_hidden": false
    }
   },
   "outputs": [],
   "source": [
    "party_affil.Democrat = party_affil.Democrat.str.replace(\"%\", \"\").astype(float)\n",
    "party_affil.Republican = party_affil.Republican.str.replace(\"%\", \"\").astype(float)\n",
    "party_affil.set_index(\"State\", inplace=True);\n",
    "party_affil.rename(columns={\"Democrat Advantage\" : \"dem_adv\"}, inplace=True);\n",
    "party_affil[\"no_party\"] = 100 - party_affil.Democrat - party_affil.Republican"
   ]
  },
  {
   "cell_type": "code",
   "execution_count": 105,
   "id": "02b7b1c0",
   "metadata": {
    "collapsed": false,
    "jupyter": {
     "outputs_hidden": false
    }
   },
   "outputs": [
    {
     "data": {
      "text/plain": [
       "                      Democrat  Republican  dem_adv      N  no_party\n",
       "State                                                               \n",
       "District of Columbia      79.0        12.7    66.30    416       8.3\n",
       "Rhode Island              52.5        26.5    26.00    623      21.0\n",
       "Hawaii                    54.3        28.7    25.60    466      17.0\n",
       "New York                  52.0        30.8    21.20   8674      17.2\n",
       "Maryland                  54.0        33.8    20.20   3571      12.2\n",
       "Massachusetts             52.5        33.4    19.10   3583      14.1\n",
       "Delaware                  50.5        33.1    17.40    540      16.4\n",
       "Connecticut               49.8        34.4    15.40   2020      15.8\n",
       "Vermont                   48.8        34.9    13.90    550      16.3\n",
       "California                48.3        34.6    13.70  16197      17.1\n",
       "Illinois                  48.4        35.8    12.60   5888      15.8\n",
       "New Jersey                47.4        35.9    11.50   4239      16.7\n",
       "Michigan                  47.7        36.6    11.10   5056      15.7\n",
       "Minnesota                 48.4        38.2    10.20   3873      13.4\n",
       "Washington                47.5        37.7     9.80   5333      14.8\n",
       "Oregon                    47.2        39.1     8.10   3002      13.7\n",
       "Pennsylvania              46.4        41.2     5.20   8443      12.4\n",
       "Maine                     43.8        39.4     4.40   1040      16.8\n",
       "New Mexico                44.7        41.1     3.60   1555      14.2\n",
       "Ohio                      44.1        40.5     3.60   6426      15.4\n",
       "West Virginia             45.3        41.9     3.40   1202      12.8\n",
       "Wisconsin                 45.0        42.2     2.80   4140      12.8\n",
       "Iowa                      43.2        41.4     1.80   2337      15.4\n",
       "Florida                   43.0        42.3     0.70   9965      14.7\n",
       "Arkansas                  41.5        40.8     0.70   2071      17.7\n",
       "Kentucky                  43.5        43.1     0.40   2898      13.4\n",
       "North Carolina            43.4        43.2     0.20   6213      13.4\n",
       "New Hampshire             42.3        43.8    -1.50    873      13.9\n",
       "Virginia                  41.2        44.2    -3.00   5313      14.6\n",
       "Missouri                  40.1        44.0    -3.90   3727      15.9\n",
       "Georgia                   40.3        44.3    -4.00   5110      15.4\n",
       "Nevada                    39.2        43.4    -4.20   1348      17.4\n",
       "Louisiana                 40.3        45.1    -4.80   2655      14.6\n",
       "Colorado                  39.9        45.1    -5.20   3671      15.0\n",
       "Texas                     38.3        44.1    -5.80  11325      17.6\n",
       "South Dakota              41.5        47.5    -6.00    607      11.0\n",
       "Indiana                   39.0        45.7    -6.70   4197      15.3\n",
       "Mississippi               40.1        47.1    -7.00   1763      12.8\n",
       "Arizona                   39.8        47.3    -7.50   4325      12.9\n",
       "Tennessee                 38.1        46.5    -8.40   4231      15.4\n",
       "Alaska                    35.9        44.3    -8.44    NaN      19.8\n",
       "Oklahoma                  38.6        48.0    -9.40   2583      13.4\n",
       "South Carolina            36.9        48.8   -11.90   2858      14.3\n",
       "North Dakota              35.8        49.0   -13.20    547      15.2\n",
       "Alabama                   36.0        49.6   -13.60   3197      14.4\n",
       "Montana                   35.9        49.6   -13.70   1137      14.5\n",
       "Kansas                    34.4        51.3   -16.90   1937      14.3\n",
       "Nebraska                  33.1        52.1   -19.00   1351      14.8\n",
       "Wyoming                   26.7        56.6   -29.90    600      16.7\n",
       "Idaho                     27.5        57.8   -30.30   1336      14.7\n",
       "Utah                      24.5        63.8   -39.30   2256      11.7"
      ]
     },
     "execution_count": 105,
     "metadata": {},
     "output_type": "execute_result"
    }
   ],
   "source": [
    "party_affil"
   ]
  },
  {
   "cell_type": "code",
   "execution_count": 106,
   "id": "77a8e934",
   "metadata": {
    "collapsed": false,
    "jupyter": {
     "outputs_hidden": false
    }
   },
   "outputs": [],
   "source": [
    "census_data = pandas.read_csv(\"/home/skipper/school/seaboldgit/talks/pydata/data/census_demographics.csv\")"
   ]
  },
  {
   "cell_type": "code",
   "execution_count": 107,
   "id": "5eb31718",
   "metadata": {
    "collapsed": false,
    "jupyter": {
     "outputs_hidden": false
    }
   },
   "outputs": [],
   "source": [
    "def capitalize(s):\n",
    "    s = s.title()\n",
    "    s = s.replace(\"Of\", \"of\")\n",
    "    return s"
   ]
  },
  {
   "cell_type": "code",
   "execution_count": 108,
   "id": "6cf7265b",
   "metadata": {
    "collapsed": false,
    "jupyter": {
     "outputs_hidden": false
    }
   },
   "outputs": [],
   "source": [
    "census_data[\"State\"] = census_data.state.map(capitalize)\n",
    "del census_data[\"state\"]"
   ]
  },
  {
   "cell_type": "code",
   "execution_count": 109,
   "id": "6f1d3c2a",
   "metadata": {
    "collapsed": false,
    "jupyter": {
     "outputs_hidden": false
    }
   },
   "outputs": [
    {
     "data": {
      "text/plain": [
       "                      per_black  per_hisp  per_white  educ_hs  educ_coll  average_income  median_income  pop_density      vote_pop    older_pop\n",
       "State                                                                                                                                          \n",
       "Alabama                    26.5       4.0       66.8     81.4       21.7           22984          42081         94.4   3001712.500   672383.600\n",
       "Alaska                      3.6       5.8       63.7     90.7       27.0           30726          66521          1.2    475548.444    58540.158\n",
       "Arizona                     4.5      30.1       57.4     85.0       26.3           25680          50448         56.3   3934880.535   920515.710\n",
       "Arkansas                   15.6       6.6       74.2     81.9       19.1           21274          39267         56.0   1798043.148   428944.934\n",
       "California                  6.6      38.1       39.7     80.7       30.1           29188          60883        239.1  24009747.944  4409953.704\n",
       "Colorado                    4.3      20.9       69.7     89.3       35.9           30151          56456         48.5   3310567.012   578197.948\n",
       "Connecticut                11.1      13.8       70.9     88.4       35.2           36775          67740        738.1   2263008.088   515622.096\n",
       "Delaware                   21.9       8.4       65.1     87.0       27.7           29007          57599        460.8    568773.645   133348.845\n",
       "District of Columbia       50.7       9.5       35.3     86.5       49.2           42078          58526       9856.5    442485.136    70451.544\n",
       "Florida                    16.5      22.9       57.5     85.3       25.9           26551          47661        350.6  11701330.788  3354127.392\n",
       "Georgia                    31.0       9.1       55.5     83.5       27.2           25134          49347        168.4   6242473.560  1079673.100\n",
       "Hawaii                      2.0       9.2       22.9     89.8       29.4           28882          66420        211.8    867505.110   202097.070\n",
       "Idaho                       0.8      11.5       83.6     88.2       24.3           22518          46423         19.0    954160.970   202878.080\n",
       "Illinois                   14.8      16.2       63.3     86.2       30.3           28782          55735        231.1   8133370.424  1634395.639\n",
       "Indiana                     9.4       6.2       81.3     86.2       22.4           24058          47697        181.0   4060042.406   860233.704\n",
       "Iowa                        3.1       5.2       88.4     89.9       24.5           25335          48872         54.5   1880257.726   456284.041\n",
       "Kansas                      6.1      10.8       77.8     89.2       29.3           25907          49424         34.9   1765811.370   381874.654\n",
       "Kentucky                    8.0       3.2       86.1     81.0       20.3           22515          41576        109.9   2757063.636   589863.060\n",
       "Louisiana                  32.4       4.4       60.1     81.0       20.9           23094          43445        104.9   2886721.516   571854.500\n",
       "Maine                       1.3       1.4       94.3     89.8       26.5           25385          46933         43.1    842071.192   216494.644\n",
       "Maryland                   30.0       8.4       54.4     87.8       35.7           34849          70647        594.8   3753418.116   728536.125\n",
       "Massachusetts               7.8       9.9       76.4     88.7       38.3           33966          64509        839.4   4262135.792   922255.040\n",
       "Michigan                   14.3       4.5       76.4     88.0       25.0           25135          48432        174.8   6192369.249  1392542.367\n",
       "Minnesota                   5.4       4.9       82.8     91.3       31.4           29582          57243         66.6   3367262.430   700176.791\n",
       "Mississippi                37.3       2.9       57.7     79.6       19.5           19977          37881         63.2   1840720.416   387206.560\n",
       "Missouri                   11.7       3.7       80.8     86.2       25.0           24724          46262         87.1   3744658.624   853517.696\n",
       "Montana                     0.5       3.1       87.5     91.0       27.9           23836          43872          6.8    623874.375   151726.248\n",
       "Nebraska                    4.7       9.5       81.8     90.0       27.7           25229          49342         23.8   1131381.574   250599.176\n",
       "Nevada                      8.6      27.1       53.6     84.3       21.8           27589          55726         24.6   1718416.182   340415.250\n",
       "New Hampshire               1.3       2.9       92.2     90.9       32.9           31422          63277        147.0    854189.712   184547.160\n",
       "New Jersey                 14.6      18.1       58.9     87.3       34.6           34858          69811       1195.5   5566148.805  1208498.235\n",
       "New Mexico                  2.5      46.7       40.2     82.7       25.5           22966          43820         17.0   1280567.760   283182.464\n",
       "New York                   17.5      18.0       58.0     84.4       32.1           30948          55603        411.2  12516121.671  2666731.989\n",
       "North Carolina             22.0       8.6       65.0     83.6       26.1           24745          45570        196.1   6093189.031  1274644.932\n",
       "North Dakota                1.3       2.2       88.6     89.4       26.3           25803          46781          9.7    434296.820    98486.208\n",
       "Ohio                       12.4       3.2       81.0     87.4       24.1           25113          47358        282.3   7204049.424  1650927.993\n",
       "Oklahoma                    7.7       9.2       68.2     85.4       22.6           23094          42979         54.7   2335568.928   519436.596\n",
       "Oregon                      2.0      12.0       78.1     88.6       28.6           26171          49260         39.9   2454758.606   553675.837\n",
       "Pennsylvania               11.3       5.9       79.2     87.4       26.4           27049          50398        283.9   7989789.522  1987890.216\n",
       "Rhode Island                7.2      12.8       76.5     83.7       30.3           28707          54902       1018.1    677038.488   154541.394\n",
       "South Carolina             28.1       5.3       64.0     83.0       24.0           23443          43939        153.9   2938556.440   659771.430\n",
       "South Dakota                1.4       2.9       84.4     89.3       25.3           24110          46369         10.7    501865.938   118667.808\n",
       "Tennessee                  16.9       4.7       75.4     82.5       22.7           23722          43314        153.9   4034112.390   877259.361\n",
       "Texas                      12.2      38.1       44.8     80.0       25.8           24870          49646         96.3  16021000.944  2695841.505\n",
       "Utah                        1.3      13.2       80.1     90.6       29.4           23139          56330         33.6   1679064.312   259184.424\n",
       "Vermont                     1.1       1.6       94.2     90.6       33.3           27478          51841         67.9    406553.719    93964.650\n",
       "Virginia                   19.8       8.2       64.5     86.1       33.8           32145          61406        202.6   5230406.184  1012075.500\n",
       "Washington                  3.8      11.6       72.1     89.6       31.0           29733          57244        101.2   4378054.358   867414.826\n",
       "West Virginia               3.5       1.3       93.0     81.9       17.3           21232          38380         77.1   1170734.684   300568.968\n",
       "Wisconsin                   6.5       6.1       83.1     89.4       25.8           26624          51598        105.0   3592701.443   793935.613\n",
       "Wyoming                     1.1       9.1       85.5     91.3       23.6           27860          53802          5.8    361348.488    72156.066"
      ]
     },
     "execution_count": 109,
     "metadata": {},
     "output_type": "execute_result"
    }
   ],
   "source": [
    "census_data.set_index(\"State\", inplace=True)"
   ]
  },
  {
   "cell_type": "code",
   "execution_count": 110,
   "id": "ad1e1cb0",
   "metadata": {
    "collapsed": false,
    "jupyter": {
     "outputs_hidden": false
    }
   },
   "outputs": [],
   "source": [
    "#loadpy https://raw.github.com/gist/3912533/d958b515f602f6e73f7b16d8bc412bc8d1f433d9/state_abbrevs.py;"
   ]
  },
  {
   "cell_type": "code",
   "execution_count": 111,
   "id": "cd7512d3",
   "metadata": {
    "collapsed": false,
    "jupyter": {
     "outputs_hidden": false
    }
   },
   "outputs": [],
   "source": [
    "states_abbrev_dict = {\n",
    "        'AK': 'Alaska',\n",
    "        'AL': 'Alabama',\n",
    "        'AR': 'Arkansas',\n",
    "        'AS': 'American Samoa',\n",
    "        'AZ': 'Arizona',\n",
    "        'CA': 'California',\n",
    "        'CO': 'Colorado',\n",
    "        'CT': 'Connecticut',\n",
    "        'DC': 'District of Columbia',\n",
    "        'DE': 'Delaware',\n",
    "        'FL': 'Florida',\n",
    "        'GA': 'Georgia',\n",
    "        'GU': 'Guam',\n",
    "        'HI': 'Hawaii',\n",
    "        'IA': 'Iowa',\n",
    "        'ID': 'Idaho',\n",
    "        'IL': 'Illinois',\n",
    "        'IN': 'Indiana',\n",
    "        'KS': 'Kansas',\n",
    "        'KY': 'Kentucky',\n",
    "        'LA': 'Louisiana',\n",
    "        'MA': 'Massachusetts',\n",
    "        'MD': 'Maryland',\n",
    "        'ME': 'Maine',\n",
    "        'MI': 'Michigan',\n",
    "        'MN': 'Minnesota',\n",
    "        'MO': 'Missouri',\n",
    "        'MP': 'Northern Mariana Islands',\n",
    "        'MS': 'Mississippi',\n",
    "        'MT': 'Montana',\n",
    "        'NA': 'National',\n",
    "        'NC': 'North Carolina',\n",
    "        'ND': 'North Dakota',\n",
    "        'NE': 'Nebraska',\n",
    "        'NH': 'New Hampshire',\n",
    "        'NJ': 'New Jersey',\n",
    "        'NM': 'New Mexico',\n",
    "        'NV': 'Nevada',\n",
    "        'NY': 'New York',\n",
    "        'OH': 'Ohio',\n",
    "        'OK': 'Oklahoma',\n",
    "        'OR': 'Oregon',\n",
    "        'PA': 'Pennsylvania',\n",
    "        'PR': 'Puerto Rico',\n",
    "        'RI': 'Rhode Island',\n",
    "        'SC': 'South Carolina',\n",
    "        'SD': 'South Dakota',\n",
    "        'TN': 'Tennessee',\n",
    "        'TX': 'Texas',\n",
    "        'UT': 'Utah',\n",
    "        'VA': 'Virginia',\n",
    "        'VI': 'Virgin Islands',\n",
    "        'VT': 'Vermont',\n",
    "        'WA': 'Washington',\n",
    "        'WI': 'Wisconsin',\n",
    "        'WV': 'West Virginia',\n",
    "        'WY': 'Wyoming'\n",
    "}"
   ]
  },
  {
   "cell_type": "markdown",
   "id": "45048c42",
   "metadata": {},
   "source": [
    "Campaign Contributions from FEC."
   ]
  },
  {
   "cell_type": "code",
   "execution_count": 112,
   "id": "b8ad78f8",
   "metadata": {
    "collapsed": false,
    "jupyter": {
     "outputs_hidden": false
    }
   },
   "outputs": [],
   "source": [
    "obama_give = pandas.read_csv(\"/home/skipper/school/seaboldgit/talks/pydata/data/obama_indiv_state.csv\", \n",
    "                             header=None, names=[\"State\", \"obama_give\"])\n",
    "romney_give = pandas.read_csv(\"/home/skipper/school/seaboldgit/talks/pydata/data/romney_indiv_state.csv\",\n",
    "                             header=None, names=[\"State\", \"romney_give\"])"
   ]
  },
  {
   "cell_type": "code",
   "execution_count": 113,
   "id": "4bf71869",
   "metadata": {
    "collapsed": false,
    "jupyter": {
     "outputs_hidden": false
    }
   },
   "outputs": [],
   "source": [
    "obama_give.State.replace(states_abbrev_dict, inplace=True);\n",
    "romney_give.State.replace(states_abbrev_dict, inplace=True);"
   ]
  },
  {
   "cell_type": "code",
   "execution_count": 114,
   "id": "ea7be936",
   "metadata": {
    "collapsed": false,
    "jupyter": {
     "outputs_hidden": false
    }
   },
   "outputs": [],
   "source": [
    "obama_give.set_index(\"State\", inplace=True)\n",
    "romney_give.set_index(\"State\", inplace=True);"
   ]
  },
  {
   "cell_type": "code",
   "execution_count": 115,
   "id": "cb69cfb3",
   "metadata": {
    "collapsed": false,
    "jupyter": {
     "outputs_hidden": false
    }
   },
   "outputs": [],
   "source": [
    "demo_data = census_data.join(party_affil[[\"dem_adv\", \"no_party\"]]).join(pvi)"
   ]
  },
  {
   "cell_type": "code",
   "execution_count": 116,
   "id": "02e1d7f3",
   "metadata": {
    "collapsed": false,
    "jupyter": {
     "outputs_hidden": false
    }
   },
   "outputs": [],
   "source": [
    "demo_data = demo_data.join(obama_give).join(romney_give)"
   ]
  },
  {
   "cell_type": "code",
   "execution_count": 117,
   "id": "80bc20cd",
   "metadata": {
    "collapsed": false,
    "jupyter": {
     "outputs_hidden": false
    }
   },
   "outputs": [
    {
     "data": {
      "text/plain": [
       "                      obama_give  romney_give\n",
       "State                                        \n",
       "Alabama                    0.245        0.366\n",
       "Alaska                     1.112        0.499\n",
       "Arizona                    0.569        0.673\n",
       "Arkansas                   0.247        0.217\n",
       "California                 1.128        0.618\n",
       "Colorado                   1.056        0.797\n",
       "Connecticut                1.207        1.545\n",
       "Delaware                   0.767        0.359\n",
       "District of Columbia     326.864        2.535\n",
       "Florida                    0.503        0.875\n",
       "Georgia                    0.468        0.526\n",
       "Hawaii                     1.007        0.225\n",
       "Idaho                      0.366        0.990\n",
       "Illinois                   0.934        0.590\n",
       "Indiana                    0.341        0.257\n",
       "Iowa                       0.487        0.286\n",
       "Kansas                     0.392        0.470\n",
       "Kentucky                   0.289        0.393\n",
       "Louisiana                  0.260        0.529\n",
       "Maine                      0.800        0.246\n",
       "Maryland                   1.518        0.594\n",
       "Massachusetts              1.735        1.105\n",
       "Michigan                   0.512        0.501\n",
       "Minnesota                  0.660        0.232\n",
       "Mississippi                0.189        0.327\n",
       "Missouri                   0.413        0.482\n",
       "Montana                    0.764        0.534\n",
       "Nebraska                   0.336        0.351\n",
       "Nevada                     0.484        0.639\n",
       "New Hampshire              0.962        0.734\n",
       "New Jersey                 0.736        0.704\n",
       "New Mexico                 1.052        0.379\n",
       "New York                   1.199        0.809\n",
       "North Carolina             0.549        0.355\n",
       "North Dakota               0.238        0.343\n",
       "Ohio                       0.378        0.428\n",
       "Oklahoma                   0.325        0.801\n",
       "Oregon                     0.971        0.342\n",
       "Pennsylvania               0.588        0.467\n",
       "Rhode Island               0.713        0.358\n",
       "South Carolina             0.317        0.351\n",
       "South Dakota               0.271        0.519\n",
       "Tennessee                  0.377        0.522\n",
       "Texas                      0.477        0.691\n",
       "Utah                       0.379        2.395\n",
       "Vermont                    1.602        0.250\n",
       "Virginia                   1.000        0.939\n",
       "Washington                 1.191        0.476\n",
       "West Virginia              0.260        0.321\n",
       "Wisconsin                  0.455        0.238\n",
       "Wyoming                    0.746        1.080"
      ]
     },
     "execution_count": 117,
     "metadata": {},
     "output_type": "execute_result"
    }
   ],
   "source": [
    "giving = demo_data[[\"obama_give\", \"romney_give\"]].div(demo_data[[\"vote_pop\", \"older_pop\"]].sum(1), axis=0)\n",
    "giving"
   ]
  },
  {
   "cell_type": "code",
   "execution_count": 118,
   "id": "e93dfbb5",
   "metadata": {
    "collapsed": false,
    "jupyter": {
     "outputs_hidden": false
    }
   },
   "outputs": [],
   "source": [
    "demo_data[[\"obama_give\", \"romney_give\"]] = giving"
   ]
  },
  {
   "cell_type": "code",
   "execution_count": 119,
   "id": "e474a67c",
   "metadata": {
    "collapsed": false,
    "jupyter": {
     "outputs_hidden": false
    }
   },
   "outputs": [],
   "source": [
    "from scipy import cluster as sp_cluster\n",
    "from sklearn import cluster, neighbors"
   ]
  },
  {
   "cell_type": "code",
   "execution_count": 120,
   "id": "84394468",
   "metadata": {
    "collapsed": false,
    "jupyter": {
     "outputs_hidden": false
    }
   },
   "outputs": [],
   "source": [
    "clean_data = sp_cluster.vq.whiten(demo_data.values)"
   ]
  },
  {
   "cell_type": "code",
   "execution_count": 121,
   "id": "eb042a9e",
   "metadata": {
    "collapsed": false,
    "jupyter": {
     "outputs_hidden": false
    }
   },
   "outputs": [
    {
     "data": {
      "text/plain": [
       "array([ 1.,  1.,  1.,  1.,  1.,  1.,  1.,  1.,  1.,  1.,  1.,  1.,  1.,\n",
       "        1.,  1.])"
      ]
     },
     "execution_count": 121,
     "metadata": {},
     "output_type": "execute_result"
    }
   ],
   "source": [
    "clean_data.var(axis=0)"
   ]
  },
  {
   "cell_type": "code",
   "execution_count": 122,
   "id": "3b601856",
   "metadata": {
    "collapsed": false,
    "jupyter": {
     "outputs_hidden": false
    }
   },
   "outputs": [
    {
     "data": {
      "text/plain": [
       "(array([[ 0.    ,  0.8763,  1.0233,  1.3971,  1.8694,  2.1093,  2.2603]]),\n",
       " array([[ 0, 40, 18, 42, 24, 33, 10]], dtype=int32))"
      ]
     },
     "execution_count": 122,
     "metadata": {},
     "output_type": "execute_result"
    }
   ],
   "source": [
    "KNN = neighbors.NearestNeighbors(n_neighbors=7)\n",
    "KNN.fit(clean_data)\n",
    "KNN.kneighbors(clean_data[0], return_distance=True)"
   ]
  },
  {
   "cell_type": "code",
   "execution_count": 123,
   "id": "d3d8a09f",
   "metadata": {
    "collapsed": false,
    "jupyter": {
     "outputs_hidden": false
    }
   },
   "outputs": [
    {
     "data": {
      "text/plain": [
       "('Alabama',\n",
       " array([['Alabama', 'South Carolina', 'Louisiana', 'Tennessee',\n",
       "        'Mississippi', 'North Carolina', 'Georgia']], dtype=object))"
      ]
     },
     "execution_count": 123,
     "metadata": {},
     "output_type": "execute_result"
    }
   ],
   "source": [
    "idx = _[1]\n",
    "demo_data.index[0], demo_data.index[idx]"
   ]
  },
  {
   "cell_type": "code",
   "execution_count": 124,
   "id": "2a29c2cf",
   "metadata": {
    "collapsed": false,
    "jupyter": {
     "outputs_hidden": false
    }
   },
   "outputs": [],
   "source": [
    "nearest_neighbor = {}\n",
    "for i, state in enumerate(demo_data.index):\n",
    "    neighborhood = KNN.kneighbors(clean_data[i], return_distance=True)\n",
    "    nearest_neighbor.update({state : (demo_data.index[neighborhood[1]],\n",
    "                                     neighborhood[0])})"
   ]
  },
  {
   "cell_type": "code",
   "execution_count": 125,
   "id": "e13d51b8",
   "metadata": {
    "collapsed": false,
    "jupyter": {
     "outputs_hidden": false
    }
   },
   "outputs": [
    {
     "data": {
      "text/plain": [
       "{'Alabama': (array([['Alabama', 'South Carolina', 'Louisiana', 'Tennessee',\n",
       "        'Mississippi', 'North Carolina', 'Georgia']], dtype=object),\n",
       "  array([[ 0.    ,  0.8763,  1.0233,  1.3971,  1.8694,  2.1093,  2.2603]])),\n",
       " 'Alaska': (array([['Alaska', 'Wyoming', 'Nebraska', 'Washington', 'Kansas',\n",
       "        'Delaware', 'Colorado']], dtype=object),\n",
       "  array([[ 0.    ,  3.3349,  3.6854,  3.7395,  3.7689,  3.7821,  3.8213]])),\n",
       " 'Arizona': (array([['Arizona', 'Nevada', 'Oklahoma', 'New Mexico', 'Oregon',\n",
       "        'Colorado', 'Kansas']], dtype=object),\n",
       "  array([[ 0.    ,  2.6992,  2.8728,  2.8766,  3.0299,  3.0351,  3.0367]])),\n",
       " 'Arkansas': (array([['Arkansas', 'Tennessee', 'Alabama', 'Kentucky', 'Indiana',\n",
       "        'Missouri', 'South Carolina']], dtype=object),\n",
       "  array([[ 0.    ,  1.8792,  2.3171,  2.4043,  2.4555,  2.5235,  2.5635]])),\n",
       " 'California': (array([['California', 'Texas', 'New York', 'Florida', 'Illinois',\n",
       "        'New Jersey', 'Pennsylvania']], dtype=object),\n",
       "  array([[ 0.    ,  3.9121,  4.461 ,  4.7217,  5.8944,  6.7702,  7.0775]])),\n",
       " 'Colorado': (array([['Colorado', 'Washington', 'Virginia', 'Oregon', 'Kansas',\n",
       "        'Minnesota', 'New Hampshire']], dtype=object),\n",
       "  array([[ 0.    ,  1.8541,  2.4517,  2.5881,  2.655 ,  2.7096,  2.7496]])),\n",
       " 'Connecticut': (array([['Connecticut', 'Massachusetts', 'New Jersey', 'Virginia',\n",
       "        'Colorado', 'Washington', 'New Hampshire']], dtype=object),\n",
       "  array([[ 0.    ,  1.882 ,  2.4986,  2.8973,  3.2209,  3.4531,  3.4642]])),\n",
       " 'Delaware': (array([['Delaware', 'Washington', 'Michigan', 'Illinois', 'Oregon',\n",
       "        'Virginia', 'Rhode Island']], dtype=object),\n",
       "  array([[ 0.    ,  2.5376,  2.7875,  2.8076,  2.8882,  2.9771,  3.0112]])),\n",
       " 'District of Columbia': (array([['District of Columbia', 'Maryland', 'Massachusetts', 'Connecticut',\n",
       "        'New Jersey', 'Virginia', 'Delaware']], dtype=object),\n",
       "  array([[  0.    ,  12.3449,  12.6305,  12.6762,  13.2193,  13.5237,\n",
       "         13.7589]])),\n",
       " 'Florida': (array([['Florida', 'New York', 'Illinois', 'Texas', 'Pennsylvania',\n",
       "        'North Carolina', 'Ohio']], dtype=object),\n",
       "  array([[ 0.    ,  2.9107,  3.038 ,  3.1893,  3.3073,  3.4896,  3.5918]])),\n",
       " 'Georgia': (array([['Georgia', 'North Carolina', 'South Carolina', 'Louisiana',\n",
       "        'Alabama', 'Tennessee', 'Missouri']], dtype=object),\n",
       "  array([[ 0.    ,  1.5857,  1.7042,  2.0122,  2.2603,  2.2821,  2.7322]])),\n",
       " 'Hawaii': (array([['Hawaii', 'Delaware', 'Washington', 'New Jersey', 'Illinois',\n",
       "        'Nevada', 'Alaska']], dtype=object),\n",
       "  array([[ 0.    ,  3.5885,  3.861 ,  4.0249,  4.2819,  4.3453,  4.3871]])),\n",
       " 'Idaho': (array([['Idaho', 'Nebraska', 'Kansas', 'Wyoming', 'Oklahoma', 'Montana',\n",
       "        'North Dakota']], dtype=object),\n",
       "  array([[ 0.    ,  1.9803,  2.0754,  2.0787,  2.1757,  2.2378,  2.3297]])),\n",
       " 'Illinois': (array([['Illinois', 'New York', 'Washington', 'Michigan', 'Virginia',\n",
       "        'Pennsylvania', 'New Jersey']], dtype=object),\n",
       "  array([[ 0.    ,  2.0673,  2.137 ,  2.2883,  2.4543,  2.59  ,  2.6832]])),\n",
       " 'Indiana': (array([['Indiana', 'Missouri', 'Tennessee', 'Ohio', 'Iowa', 'Michigan',\n",
       "        'Wisconsin']], dtype=object),\n",
       "  array([[ 0.    ,  0.907 ,  1.5921,  1.6033,  1.7819,  1.9781,  2.0616]])),\n",
       " 'Iowa': (array([['Iowa', 'Maine', 'Wisconsin', 'Oregon', 'North Dakota', 'Missouri',\n",
       "        'Indiana']], dtype=object),\n",
       "  array([[ 0.    ,  1.1152,  1.5243,  1.594 ,  1.6018,  1.755 ,  1.7819]])),\n",
       " 'Kansas': (array([['Kansas', 'Nebraska', 'North Dakota', 'Montana', 'Idaho',\n",
       "        'Indiana', 'Missouri']], dtype=object),\n",
       "  array([[ 0.    ,  0.6719,  1.5316,  1.6431,  2.0754,  2.154 ,  2.2018]])),\n",
       " 'Kentucky': (array([['Kentucky', 'West Virginia', 'Tennessee', 'Indiana', 'Oklahoma',\n",
       "        'Alabama', 'Arkansas']], dtype=object),\n",
       "  array([[ 0.    ,  1.1876,  1.7593,  2.1843,  2.2642,  2.3361,  2.4043]])),\n",
       " 'Louisiana': (array([['Louisiana', 'Alabama', 'South Carolina', 'Mississippi',\n",
       "        'Tennessee', 'Georgia', 'North Carolina']], dtype=object),\n",
       "  array([[ 0.    ,  1.0233,  1.136 ,  1.5793,  1.9074,  2.0122,  2.2222]])),\n",
       " 'Maine': (array([['Maine', 'Iowa', 'Vermont', 'North Dakota', 'Montana', 'Oregon',\n",
       "        'Missouri']], dtype=object),\n",
       "  array([[ 0.    ,  1.1152,  1.7709,  2.0009,  2.1852,  2.2556,  2.2738]])),\n",
       " 'Maryland': (array([['Maryland', 'Virginia', 'New Jersey', 'Massachusetts',\n",
       "        'Connecticut', 'Delaware', 'Washington']], dtype=object),\n",
       "  array([[ 0.    ,  2.9192,  2.9716,  3.0229,  3.4926,  3.5658,  3.7933]])),\n",
       " 'Massachusetts': (array([['Massachusetts', 'Connecticut', 'New Jersey', 'Washington',\n",
       "        'Virginia', 'Colorado', 'New Hampshire']], dtype=object),\n",
       "  array([[ 0.    ,  1.882 ,  2.5823,  2.6111,  2.7211,  2.8532,  2.8816]])),\n",
       " 'Michigan': (array([['Michigan', 'Ohio', 'Missouri', 'Pennsylvania', 'Indiana',\n",
       "        'Wisconsin', 'Iowa']], dtype=object),\n",
       "  array([[ 0.    ,  0.914 ,  1.5797,  1.9268,  1.9781,  2.1194,  2.1783]])),\n",
       " 'Minnesota': (array([['Minnesota', 'Washington', 'Wisconsin', 'Oregon', 'New Hampshire',\n",
       "        'Iowa', 'Vermont']], dtype=object),\n",
       "  array([[ 0.    ,  1.4419,  1.6072,  1.8303,  1.9445,  2.2889,  2.363 ]])),\n",
       " 'Mississippi': (array([['Mississippi', 'Louisiana', 'Alabama', 'South Carolina',\n",
       "        'Tennessee', 'North Carolina', 'Georgia']], dtype=object),\n",
       "  array([[ 0.    ,  1.5793,  1.8694,  2.1346,  3.0436,  3.163 ,  3.2884]])),\n",
       " 'Missouri': (array([['Missouri', 'Indiana', 'Ohio', 'Tennessee', 'Michigan', 'Iowa',\n",
       "        'North Dakota']], dtype=object),\n",
       "  array([[ 0.    ,  0.907 ,  1.414 ,  1.537 ,  1.5797,  1.755 ,  2.1177]])),\n",
       " 'Montana': (array([['Montana', 'North Dakota', 'Nebraska', 'Kansas', 'Iowa',\n",
       "        'South Dakota', 'Maine']], dtype=object),\n",
       "  array([[ 0.    ,  1.0132,  1.4011,  1.6431,  1.7944,  1.8935,  2.1852]])),\n",
       " 'Nebraska': (array([['Nebraska', 'Kansas', 'North Dakota', 'Montana', 'Idaho', 'Iowa',\n",
       "        'Indiana']], dtype=object),\n",
       "  array([[ 0.    ,  0.6719,  1.1533,  1.4011,  1.9803,  2.0716,  2.1521]])),\n",
       " 'Nevada': (array([['Nevada', 'Arizona', 'Delaware', 'Illinois', 'New Mexico',\n",
       "        'Colorado', 'Indiana']], dtype=object),\n",
       "  array([[ 0.    ,  2.6992,  3.2186,  3.3355,  3.4181,  3.4779,  3.4977]])),\n",
       " 'New Hampshire': (array([['New Hampshire', 'Minnesota', 'Washington', 'Vermont', 'Colorado',\n",
       "        'Wisconsin', 'Massachusetts']], dtype=object),\n",
       "  array([[ 0.    ,  1.9445,  2.3854,  2.6837,  2.7496,  2.8483,  2.8816]])),\n",
       " 'New Jersey': (array([['New Jersey', 'Virginia', 'Connecticut', 'Massachusetts',\n",
       "        'Illinois', 'Washington', 'Maryland']], dtype=object),\n",
       "  array([[ 0.    ,  2.4212,  2.4986,  2.5823,  2.6832,  2.9395,  2.9716]])),\n",
       " 'New Mexico': (array([['New Mexico', 'Arizona', 'Nevada', 'Oregon', 'Oklahoma',\n",
       "        'North Carolina', 'Colorado']], dtype=object),\n",
       "  array([[ 0.    ,  2.8766,  3.4181,  4.7554,  4.8641,  4.8808,  4.9258]])),\n",
       " 'New York': (array([['New York', 'Illinois', 'Florida', 'New Jersey', 'Virginia',\n",
       "        'Michigan', 'Pennsylvania']], dtype=object),\n",
       "  array([[ 0.    ,  2.0673,  2.9107,  3.3612,  3.6949,  3.819 ,  3.9422]])),\n",
       " 'North Carolina': (array([['North Carolina', 'Georgia', 'South Carolina', 'Tennessee',\n",
       "        'Alabama', 'Ohio', 'Missouri']], dtype=object),\n",
       "  array([[ 0.    ,  1.5857,  1.6217,  1.8337,  2.1093,  2.1905,  2.1934]])),\n",
       " 'North Dakota': (array([['North Dakota', 'Montana', 'Nebraska', 'Kansas', 'Iowa', 'Maine',\n",
       "        'Indiana']], dtype=object),\n",
       "  array([[ 0.    ,  1.0132,  1.1533,  1.5316,  1.6018,  2.0009,  2.0738]])),\n",
       " 'Ohio': (array([['Ohio', 'Michigan', 'Missouri', 'Indiana', 'Pennsylvania',\n",
       "        'Wisconsin', 'North Carolina']], dtype=object),\n",
       "  array([[ 0.    ,  0.914 ,  1.414 ,  1.6033,  1.6991,  2.1596,  2.1905]])),\n",
       " 'Oklahoma': (array([['Oklahoma', 'Tennessee', 'Idaho', 'Indiana', 'Kentucky', 'Kansas',\n",
       "        'Missouri']], dtype=object),\n",
       "  array([[ 0.    ,  2.0111,  2.1757,  2.21  ,  2.2642,  2.3057,  2.3747]])),\n",
       " 'Oregon': (array([['Oregon', 'Wisconsin', 'Iowa', 'Washington', 'Minnesota',\n",
       "        'Missouri', 'Kansas']], dtype=object),\n",
       "  array([[ 0.    ,  1.2415,  1.594 ,  1.6631,  1.8303,  2.2442,  2.2534]])),\n",
       " 'Pennsylvania': (array([['Pennsylvania', 'Ohio', 'Michigan', 'Wisconsin', 'North Carolina',\n",
       "        'Oregon', 'Illinois']], dtype=object),\n",
       "  array([[ 0.    ,  1.6991,  1.9268,  1.9716,  2.297 ,  2.5221,  2.59  ]])),\n",
       " 'Rhode Island': (array([['Rhode Island', 'Delaware', 'Vermont', 'Maine', 'Nevada',\n",
       "        'Illinois', 'Washington']], dtype=object),\n",
       "  array([[ 0.    ,  3.0112,  3.6719,  3.8235,  3.8411,  3.8785,  3.887 ]])),\n",
       " 'South Carolina': (array([['South Carolina', 'Alabama', 'Louisiana', 'Tennessee',\n",
       "        'North Carolina', 'Georgia', 'Mississippi']], dtype=object),\n",
       "  array([[ 0.    ,  0.8763,  1.136 ,  1.4947,  1.6217,  1.7042,  2.1346]])),\n",
       " 'South Dakota': (array([['South Dakota', 'Montana', 'North Dakota', 'Wisconsin', 'Kansas',\n",
       "        'Nebraska', 'Oklahoma']], dtype=object),\n",
       "  array([[ 0.    ,  1.8935,  2.1282,  2.1654,  2.2243,  2.2675,  2.4938]])),\n",
       " 'Tennessee': (array([['Tennessee', 'Alabama', 'South Carolina', 'Missouri', 'Indiana',\n",
       "        'Kentucky', 'North Carolina']], dtype=object),\n",
       "  array([[ 0.    ,  1.3971,  1.4947,  1.537 ,  1.5921,  1.7593,  1.8337]])),\n",
       " 'Texas': (array([['Texas', 'Florida', 'California', 'New York', 'Arizona',\n",
       "        'Illinois', 'Georgia']], dtype=object),\n",
       "  array([[ 0.    ,  3.1893,  3.9121,  4.2069,  4.5867,  4.6339,  4.7973]])),\n",
       " 'Utah': (array([['Utah', 'Idaho', 'Wyoming', 'Kansas', 'Oklahoma', 'Nebraska',\n",
       "        'South Dakota']], dtype=object),\n",
       "  array([[ 0.    ,  3.8272,  4.1158,  4.8072,  4.8669,  5.0276,  5.046 ]])),\n",
       " 'Vermont': (array([['Vermont', 'Maine', 'Iowa', 'Minnesota', 'Oregon', 'Washington',\n",
       "        'New Hampshire']], dtype=object),\n",
       "  array([[ 0.    ,  1.7709,  2.3538,  2.363 ,  2.5073,  2.6424,  2.6837]])),\n",
       " 'Virginia': (array([['Virginia', 'New Jersey', 'Colorado', 'Illinois', 'Washington',\n",
       "        'Massachusetts', 'Connecticut']], dtype=object),\n",
       "  array([[ 0.    ,  2.4212,  2.4517,  2.4543,  2.5525,  2.7211,  2.8973]])),\n",
       " 'Washington': (array([['Washington', 'Minnesota', 'Oregon', 'Colorado', 'Wisconsin',\n",
       "        'Illinois', 'New Hampshire']], dtype=object),\n",
       "  array([[ 0.    ,  1.4419,  1.6631,  1.8541,  2.0414,  2.137 ,  2.3854]])),\n",
       " 'West Virginia': (array([['West Virginia', 'Kentucky', 'Tennessee', 'Indiana', 'Oklahoma',\n",
       "        'Arkansas', 'Missouri']], dtype=object),\n",
       "  array([[ 0.    ,  1.1876,  2.7545,  2.8103,  2.8824,  2.9104,  3.1176]])),\n",
       " 'Wisconsin': (array([['Wisconsin', 'Oregon', 'Iowa', 'Minnesota', 'Pennsylvania',\n",
       "        'Washington', 'Indiana']], dtype=object),\n",
       "  array([[ 0.    ,  1.2415,  1.5243,  1.6072,  1.9716,  2.0414,  2.0616]])),\n",
       " 'Wyoming': (array([['Wyoming', 'Idaho', 'Nebraska', 'Kansas', 'North Dakota',\n",
       "        'Montana', 'Alaska']], dtype=object),\n",
       "  array([[ 0.    ,  2.0787,  2.4089,  2.6214,  2.6543,  2.8861,  3.3349]]))}"
      ]
     },
     "execution_count": 125,
     "metadata": {},
     "output_type": "execute_result"
    }
   ],
   "source": [
    "nearest_neighbor"
   ]
  },
  {
   "cell_type": "code",
   "execution_count": 126,
   "id": "afdba3e9",
   "metadata": {
    "collapsed": false,
    "jupyter": {
     "outputs_hidden": false
    }
   },
   "outputs": [],
   "source": [
    "k_means = cluster.KMeans(n_clusters=5, n_init=50)\n",
    "k_means.fit(clean_data)\n",
    "values = k_means.cluster_centers_.squeeze()\n",
    "labels = k_means.labels_"
   ]
  },
  {
   "cell_type": "code",
   "execution_count": 127,
   "id": "d3983677",
   "metadata": {
    "collapsed": false,
    "jupyter": {
     "outputs_hidden": false
    }
   },
   "outputs": [],
   "source": [
    "clusters = sp_cluster.vq.kmeans(clean_data, 5)[0]"
   ]
  },
  {
   "cell_type": "code",
   "execution_count": 128,
   "id": "5aebb1bd",
   "metadata": {
    "collapsed": false,
    "jupyter": {
     "outputs_hidden": false
    }
   },
   "outputs": [],
   "source": [
    "def choose_group(data, clusters):\n",
    "    \"\"\"\n",
    "    Return the index of the cluster to which the rows in data\n",
    "    are \"closest\" (in the sense of the L2-norm)\n",
    "    \"\"\"\n",
    "    data = data[:,None] # add an axis for broadcasting\n",
    "    distances = data - clusters\n",
    "    groups = []\n",
    "    for row in distances:\n",
    "        dists = map(np.linalg.norm, row)\n",
    "        groups.append(np.argmin(dists))\n",
    "    return groups"
   ]
  },
  {
   "cell_type": "code",
   "execution_count": 129,
   "id": "69b95949",
   "metadata": {
    "collapsed": false,
    "jupyter": {
     "outputs_hidden": false
    }
   },
   "outputs": [],
   "source": [
    "groups = choose_group(clean_data, clusters)"
   ]
  },
  {
   "cell_type": "code",
   "execution_count": 130,
   "id": "68960e3e",
   "metadata": {
    "collapsed": false,
    "jupyter": {
     "outputs_hidden": false
    }
   },
   "outputs": [
    {
     "data": {
      "text/plain": [
       "array([1, 0, 3, 1, 4, 0, 0, 0, 2, 4, 1, 0, 3, 0, 3, 3, 3, 1, 1, 3, 0, 0, 3,\n",
       "       0, 1, 3, 3, 3, 0, 0, 0, 1, 4, 1, 3, 3, 1, 3, 3, 0, 1, 3, 1, 4, 3, 0,\n",
       "       0, 0, 1, 3, 3])"
      ]
     },
     "execution_count": 130,
     "metadata": {},
     "output_type": "execute_result"
    }
   ],
   "source": [
    "np.array(groups)"
   ]
  },
  {
   "cell_type": "markdown",
   "id": "89bf287d",
   "metadata": {},
   "source": [
    "Or use a one-liner"
   ]
  },
  {
   "cell_type": "code",
   "execution_count": 131,
   "id": "9cb290cc",
   "metadata": {
    "collapsed": false,
    "jupyter": {
     "outputs_hidden": false
    }
   },
   "outputs": [],
   "source": [
    "groups = [np.argmin(map(np.linalg.norm, (clean_data[:,None] - clusters)[i])) for i in range(51)]"
   ]
  },
  {
   "cell_type": "code",
   "execution_count": 132,
   "id": "20f02f64",
   "metadata": {
    "collapsed": false,
    "jupyter": {
     "outputs_hidden": false
    }
   },
   "outputs": [],
   "source": [
    "demo_data[\"kmeans_group\"] = groups\n",
    "demo_data[\"kmeans_labels\"] = labels"
   ]
  },
  {
   "cell_type": "code",
   "execution_count": 133,
   "id": "eb4fef0a",
   "metadata": {
    "collapsed": false,
    "jupyter": {
     "outputs_hidden": false
    }
   },
   "outputs": [
    {
     "name": "stdout",
     "output_type": "stream",
     "text": [
      "['Alaska' 'Colorado' 'Connecticut' 'Delaware' 'Hawaii' 'Illinois'\n",
      " 'Maryland' 'Massachusetts' 'Minnesota' 'Nevada' 'New Hampshire'\n",
      " 'New Jersey' 'Rhode Island' 'Vermont' 'Virginia' 'Washington']\n",
      "['Alabama' 'Arkansas' 'Georgia' 'Kentucky' 'Louisiana' 'Mississippi'\n",
      " 'New Mexico' 'North Carolina' 'Oklahoma' 'South Carolina' 'Tennessee'\n",
      " 'West Virginia']\n",
      "['District of Columbia']\n",
      "['Arizona' 'Idaho' 'Indiana' 'Iowa' 'Kansas' 'Maine' 'Michigan' 'Missouri'\n",
      " 'Montana' 'Nebraska' 'North Dakota' 'Ohio' 'Oregon' 'Pennsylvania'\n",
      " 'South Dakota' 'Utah' 'Wisconsin' 'Wyoming']\n",
      "['California' 'Florida' 'New York' 'Texas']\n"
     ]
    }
   ],
   "source": [
    "for _, group in demo_data.groupby(\"kmeans_group\"):\n",
    "    group = group.index\n",
    "    group.values.sort()\n",
    "    print group.values"
   ]
  },
  {
   "cell_type": "code",
   "execution_count": 134,
   "id": "fcda9cad",
   "metadata": {
    "collapsed": false,
    "jupyter": {
     "outputs_hidden": false
    }
   },
   "outputs": [
    {
     "data": {
      "text/plain": [
       "array([0, 1, 0, 0, 3, 1, 1, 1, 2, 3, 0, 1, 4, 1, 4, 4, 4, 0, 0, 4, 1, 1, 4,\n",
       "       4, 0, 4, 4, 4, 1, 4, 1, 0, 3, 0, 4, 4, 0, 4, 4, 1, 0, 4, 0, 3, 4, 4,\n",
       "       1, 1, 0, 4, 4])"
      ]
     },
     "execution_count": 134,
     "metadata": {},
     "output_type": "execute_result"
    }
   ],
   "source": [
    "labels"
   ]
  },
  {
   "cell_type": "code",
   "execution_count": 135,
   "id": "2aa08424",
   "metadata": {
    "collapsed": false,
    "jupyter": {
     "outputs_hidden": false
    }
   },
   "outputs": [
    {
     "name": "stdout",
     "output_type": "stream",
     "text": [
      "['Alabama' 'Arizona' 'Arkansas' 'Georgia' 'Kentucky' 'Louisiana'\n",
      " 'Mississippi' 'New Mexico' 'North Carolina' 'Oklahoma' 'South Carolina'\n",
      " 'Tennessee' 'West Virginia']\n",
      "['Alaska' 'Colorado' 'Connecticut' 'Delaware' 'Hawaii' 'Illinois'\n",
      " 'Maryland' 'Massachusetts' 'Nevada' 'New Jersey' 'Rhode Island' 'Virginia'\n",
      " 'Washington']\n",
      "['District of Columbia']\n",
      "['California' 'Florida' 'New York' 'Texas']\n",
      "['Idaho' 'Indiana' 'Iowa' 'Kansas' 'Maine' 'Michigan' 'Minnesota'\n",
      " 'Missouri' 'Montana' 'Nebraska' 'New Hampshire' 'North Dakota' 'Ohio'\n",
      " 'Oregon' 'Pennsylvania' 'South Dakota' 'Utah' 'Vermont' 'Wisconsin'\n",
      " 'Wyoming']\n"
     ]
    }
   ],
   "source": [
    "demo_data[\"kmeans_labels\"] = labels\n",
    "for _, group in demo_data.groupby(\"kmeans_labels\"):\n",
    "    group = group.index.copy()\n",
    "    group.values.sort()\n",
    "    print group.values"
   ]
  },
  {
   "cell_type": "code",
   "execution_count": 136,
   "id": "455bc94d",
   "metadata": {
    "collapsed": false,
    "jupyter": {
     "outputs_hidden": false
    }
   },
   "outputs": [],
   "source": [
    "demo_data = demo_data.reset_index()"
   ]
  },
  {
   "cell_type": "code",
   "execution_count": 137,
   "id": "f93199ad",
   "metadata": {
    "collapsed": false,
    "jupyter": {
     "outputs_hidden": false
    }
   },
   "outputs": [],
   "source": [
    "state_data2012.State.replace(states_abbrev_dict, inplace=True);"
   ]
  },
  {
   "cell_type": "code",
   "execution_count": 138,
   "id": "c4ac7709",
   "metadata": {
    "collapsed": false,
    "jupyter": {
     "outputs_hidden": false
    }
   },
   "outputs": [],
   "source": [
    "state_data2012 = state_data2012.merge(demo_data[[\"State\", \"kmeans_labels\"]], on=\"State\")"
   ]
  },
  {
   "cell_type": "code",
   "execution_count": 139,
   "id": "0c904d4c",
   "metadata": {
    "collapsed": false,
    "jupyter": {
     "outputs_hidden": false
    }
   },
   "outputs": [],
   "source": [
    "kmeans_groups = state_data2012.groupby(\"kmeans_labels\")"
   ]
  },
  {
   "cell_type": "code",
   "execution_count": 140,
   "id": "e35617cd",
   "metadata": {
    "collapsed": false,
    "jupyter": {
     "outputs_hidden": false
    }
   },
   "outputs": [],
   "source": [
    "group = kmeans_groups.get_group(kmeans_groups.groups.keys()[2])"
   ]
  },
  {
   "cell_type": "code",
   "execution_count": 141,
   "id": "91d971ed",
   "metadata": {
    "collapsed": false,
    "jupyter": {
     "outputs_hidden": false
    }
   },
   "outputs": [
    {
     "data": {
      "text/plain": [
       "array(['California', 'Florida', 'New York', 'Texas'], dtype=object)"
      ]
     },
     "execution_count": 141,
     "metadata": {},
     "output_type": "execute_result"
    }
   ],
   "source": [
    "group.State.unique()"
   ]
  },
  {
   "cell_type": "code",
   "execution_count": 142,
   "id": "7fbb02c7",
   "metadata": {
    "collapsed": false,
    "jupyter": {
     "outputs_hidden": false
    }
   },
   "outputs": [],
   "source": [
    "def edit_tick_label(tick_val, tick_pos):\n",
    "    if tick_val  < 0:\n",
    "        text = str(int(tick_val)).replace(\"-\", \"Romney+\")\n",
    "    else:\n",
    "        text = \"Obama+\"+str(int(tick_val))\n",
    "    return text"
   ]
  },
  {
   "cell_type": "code",
   "execution_count": 143,
   "id": "ad750002",
   "metadata": {
    "collapsed": false,
    "jupyter": {
     "outputs_hidden": false
    }
   },
   "outputs": [
    {
     "data": {
      "image/png": "[encoded data removed]"
     },
     "metadata": {},
     "output_type": "display_data"
    }
   ],
   "source": [
    "from pandas import lib\n",
    "from matplotlib.ticker import FuncFormatter\n",
    "fig, axes = plt.subplots(figsize=(12,8))\n",
    "\n",
    "data = group[[\"poll_date\", \"obama_spread\"]]\n",
    "data = pandas.concat((data, national_data2012[[\"poll_date\", \"obama_spread\"]]))\n",
    "    \n",
    "data.sort(\"poll_date\", inplace=True)\n",
    "dates = pandas.DatetimeIndex(data.poll_date).asi8\n",
    "\n",
    "loess_res = sm.nonparametric.lowess(data.obama_spread.values, dates, \n",
    "                                    frac=.2, it=3)\n",
    "\n",
    "dates_x = lib.ints_to_pydatetime(dates)\n",
    "axes.scatter(dates_x, data[\"obama_spread\"])\n",
    "axes.plot(dates_x, loess_res[:,1], color='r')\n",
    "axes.yaxis.get_major_locator().set_params(nbins=12)\n",
    "axes.yaxis.set_major_formatter(FuncFormatter(edit_tick_label))\n",
    "axes.grid(False, axis='x')\n",
    "axes.hlines(0, dates_x[0], dates_x[-1], color='black', lw=3)\n",
    "axes.margins(0, .05)"
   ]
  },
  {
   "cell_type": "code",
   "execution_count": 144,
   "id": "37bbc651",
   "metadata": {
    "collapsed": false,
    "jupyter": {
     "outputs_hidden": false
    }
   },
   "outputs": [
    {
     "data": {
      "text/plain": [
       "2.3144535643345003"
      ]
     },
     "execution_count": 144,
     "metadata": {},
     "output_type": "execute_result"
    }
   ],
   "source": [
    "loess_res[-7:,1].mean()"
   ]
  },
  {
   "cell_type": "code",
   "execution_count": 145,
   "id": "8b964c60",
   "metadata": {
    "collapsed": false,
    "jupyter": {
     "outputs_hidden": false
    }
   },
   "outputs": [
    {
     "data": {
      "image/png": "[encoded data removed]"
     },
     "metadata": {},
     "output_type": "display_data"
    }
   ],
   "source": [
    "from pandas import lib\n",
    "from matplotlib.ticker import FuncFormatter\n",
    "fig, axes = plt.subplots(figsize=(12,8))\n",
    "\n",
    "national_data2012.sort(\"poll_date\", inplace=True)\n",
    "dates = pandas.DatetimeIndex(national_data2012.poll_date).asi8\n",
    "\n",
    "loess_res = sm.nonparametric.lowess(national_data2012.obama_spread.values, dates, \n",
    "                                    frac=.075, it=3)\n",
    "\n",
    "dates_x = lib.ints_to_pydatetime(dates)\n",
    "axes.scatter(dates_x, national_data2012[\"obama_spread\"])\n",
    "axes.plot(dates_x, loess_res[:,1], color='r')\n",
    "axes.yaxis.get_major_locator().set_params(nbins=12)\n",
    "axes.yaxis.set_major_formatter(FuncFormatter(edit_tick_label))\n",
    "axes.grid(False, axis='x')\n",
    "axes.hlines(0, dates_x[0], dates_x[-1], color='black', lw=3)\n",
    "axes.margins(0, .05)"
   ]
  },
  {
   "cell_type": "code",
   "execution_count": 146,
   "id": "9bbbc2ad",
   "metadata": {
    "collapsed": false,
    "jupyter": {
     "outputs_hidden": false
    }
   },
   "outputs": [],
   "source": [
    "trends = []\n",
    "for i, group in kmeans_groups:\n",
    "    data = group[[\"poll_date\", \"obama_spread\"]]\n",
    "    data = pandas.concat((data, national_data2012[[\"poll_date\", \"obama_spread\"]]))\n",
    "    \n",
    "    data.sort(\"poll_date\", inplace=True)\n",
    "    dates = pandas.DatetimeIndex(data.poll_date).asi8\n",
    "\n",
    "    loess_res = sm.nonparametric.lowess(data.obama_spread.values, dates, \n",
    "                                    frac=.1, it=3)\n",
    "    states = group.State.unique()\n",
    "    for state in states:\n",
    "        trends.append([state, loess_res[-7:,1].mean()])"
   ]
  },
  {
   "cell_type": "code",
   "execution_count": 147,
   "id": "c01c14e4",
   "metadata": {
    "collapsed": false,
    "jupyter": {
     "outputs_hidden": false
    }
   },
   "outputs": [
    {
     "data": {
      "text/plain": [
       "[['Arizona', 2.3149200179538716],\n",
       " ['Georgia', 2.3149200179538716],\n",
       " ['Mississippi', 2.3149200179538716],\n",
       " ['New Mexico', 2.3149200179538716],\n",
       " ['North Carolina', 2.3149200179538716],\n",
       " ['South Carolina', 2.3149200179538716],\n",
       " ['Tennessee', 2.3149200179538716],\n",
       " ['West Virginia', 2.3149200179538716],\n",
       " ['Colorado', 18.412063676088412],\n",
       " ['Connecticut', 18.412063676088412],\n",
       " ['Hawaii', 18.412063676088412],\n",
       " ['Illinois', 18.412063676088412],\n",
       " ['Maryland', 18.412063676088412],\n",
       " ['Massachusetts', 18.412063676088412],\n",
       " ['Nevada', 18.412063676088412],\n",
       " ['New Jersey', 18.412063676088412],\n",
       " ['Rhode Island', 18.412063676088412],\n",
       " ['Virginia', 18.412063676088412],\n",
       " ['Washington', 18.412063676088412],\n",
       " ['California', 2.73263672729736],\n",
       " ['Florida', 2.73263672729736],\n",
       " ['New York', 2.73263672729736],\n",
       " ['Texas', 2.73263672729736],\n",
       " ['Indiana', 6.5865280433068092],\n",
       " ['Iowa', 6.5865280433068092],\n",
       " ['Kansas', 6.5865280433068092],\n",
       " ['Maine', 6.5865280433068092],\n",
       " ['Michigan', 6.5865280433068092],\n",
       " ['Minnesota', 6.5865280433068092],\n",
       " ['Missouri', 6.5865280433068092],\n",
       " ['Montana', 6.5865280433068092],\n",
       " ['Nebraska', 6.5865280433068092],\n",
       " ['New Hampshire', 6.5865280433068092],\n",
       " ['North Dakota', 6.5865280433068092],\n",
       " ['Ohio', 6.5865280433068092],\n",
       " ['Oregon', 6.5865280433068092],\n",
       " ['Pennsylvania', 6.5865280433068092],\n",
       " ['South Dakota', 6.5865280433068092],\n",
       " ['Utah', 6.5865280433068092],\n",
       " ['Vermont', 6.5865280433068092],\n",
       " ['Wisconsin', 6.5865280433068092]]"
      ]
     },
     "execution_count": 147,
     "metadata": {},
     "output_type": "execute_result"
    }
   ],
   "source": [
    "trends"
   ]
  },
  {
   "cell_type": "markdown",
   "id": "83c98b3d",
   "metadata": {},
   "source": [
    "#### Adjust for sensitivity to time-trends"
   ]
  },
  {
   "cell_type": "markdown",
   "id": "9ae36efe",
   "metadata": {},
   "source": [
    "$$\\text{Margin}=X_i+Z_t+\\epsilon$$\n",
    "\n",
    "where $S_i$ are Pollster:State dummies. In a state with a time-dependent trend, you might write\n",
    "\n",
    "$$\\text{Margin}=X_i+m*Z_t$$\n",
    "\n",
    "where $m$ is a multiplier representing uncertainty in the time-trend parameter. Solving for $m$ gives\n",
    "\n",
    "$$m=\\text{Margin}-\\frac{X_i}{Z_t}$$"
   ]
  },
  {
   "cell_type": "code",
   "execution_count": 148,
   "id": "f00fad62",
   "metadata": {
    "collapsed": false,
    "jupyter": {
     "outputs_hidden": false
    }
   },
   "outputs": [],
   "source": [
    "from statsmodels.formula.api import ols, wls"
   ]
  },
  {
   "cell_type": "code",
   "execution_count": 149,
   "id": "32485002",
   "metadata": {
    "collapsed": false,
    "jupyter": {
     "outputs_hidden": false
    }
   },
   "outputs": [],
   "source": [
    "#pollster_state_dummy = state_data2012.groupby([\"Pollster\", \"State\"])[\"obama_spread\"].mean()\n",
    "#daily_dummy = state_data2012.groupby([\"poll_date\"])[\"obama_spread\"].mean()"
   ]
  },
  {
   "cell_type": "code",
   "execution_count": 150,
   "id": "960027a6",
   "metadata": {
    "collapsed": false,
    "jupyter": {
     "outputs_hidden": false
    }
   },
   "outputs": [],
   "source": [
    "state_data2012[\"pollster_state\"] = state_data2012[\"Pollster\"] + \"-\" + state_data2012[\"State\"]"
   ]
  },
  {
   "cell_type": "markdown",
   "id": "6e934b26",
   "metadata": {},
   "source": [
    "There's actually a bug in pandas when you merge on datetimes. In order to avoid it, we need to sort our data now and once again after we merge on dates."
   ]
  },
  {
   "cell_type": "code",
   "execution_count": 151,
   "id": "8812e0cc",
   "metadata": {
    "collapsed": false,
    "jupyter": {
     "outputs_hidden": false
    }
   },
   "outputs": [],
   "source": [
    "state_data2012.sort(columns=[\"pollster_state\", \"poll_date\"], inplace=True);"
   ]
  },
  {
   "cell_type": "code",
   "execution_count": 152,
   "id": "7530057a",
   "metadata": {
    "collapsed": false,
    "jupyter": {
     "outputs_hidden": false
    }
   },
   "outputs": [],
   "source": [
    "dummy_model = ols(\"obama_spread ~ C(pollster_state) + C(poll_date)\", data=state_data2012).fit()"
   ]
  },
  {
   "cell_type": "markdown",
   "id": "7962b8c1",
   "metadata": {},
   "source": [
    "The base case is American Research Group-Colorado"
   ]
  },
  {
   "cell_type": "code",
   "execution_count": 153,
   "id": "d0be89cc",
   "metadata": {
    "collapsed": false,
    "jupyter": {
     "outputs_hidden": false
    }
   },
   "outputs": [
    {
     "data": {
      "text/plain": [
       "Pollster           American Research Group\n",
       "State                             Colorado\n",
       "MoE                                      4\n",
       "Obama (D)                               49\n",
       "Romney (R)                              47\n",
       "Sample                                 600\n",
       "Spread                            Obama +2\n",
       "obama_spread                             2\n",
       "poll_date              2012-09-11 00:00:00\n",
       "Weight                                0.65\n",
       "PIE                                   1.76\n",
       "ESS                                    173\n",
       "MESS                                   173\n",
       "time_weight                         0.6156\n",
       "kmeans_labels                            1\n",
       "pollster_state    American Research Gro...\n",
       "Name: 25"
      ]
     },
     "execution_count": 153,
     "metadata": {},
     "output_type": "execute_result"
    }
   ],
   "source": [
    "state_data2012.irow(0)"
   ]
  },
  {
   "cell_type": "code",
   "execution_count": 154,
   "id": "7dbcf426",
   "metadata": {
    "collapsed": false,
    "jupyter": {
     "outputs_hidden": false
    }
   },
   "outputs": [],
   "source": [
    "pollster_state = state_data2012[\"pollster_state\"].unique()\n",
    "pollster_state.sort()\n",
    "pollster_state_params = dummy_model.params[1:len(pollster_state)] + dummy_model.params[0]\n",
    "intercept = dummy_model.params[0]\n",
    "X = pandas.DataFrame(zip(pollster_state, np.r_[intercept, pollster_state_params]), \n",
    "                     columns=[\"pollster_state\", \"X\"])"
   ]
  },
  {
   "cell_type": "code",
   "execution_count": 155,
   "id": "420b4d18",
   "metadata": {
    "collapsed": false,
    "jupyter": {
     "outputs_hidden": false
    }
   },
   "outputs": [],
   "source": [
    "dates = state_data2012.poll_date.unique()\n",
    "dates.sort()\n",
    "dates_params = intercept + dummy_model.params[-len(dates):]\n",
    "Z = pandas.DataFrame(zip(dates, dates_params), columns=[\"poll_date\", \"Z\"])"
   ]
  },
  {
   "cell_type": "markdown",
   "id": "54e6f601",
   "metadata": {},
   "source": [
    "Drop the ones less than 1."
   ]
  },
  {
   "cell_type": "code",
   "execution_count": 156,
   "id": "47f77a51",
   "metadata": {
    "collapsed": false,
    "jupyter": {
     "outputs_hidden": false
    }
   },
   "outputs": [],
   "source": [
    "Z = Z.ix[np.abs(Z.Z) > 1]"
   ]
  },
  {
   "cell_type": "code",
   "execution_count": 157,
   "id": "33710e35",
   "metadata": {
    "collapsed": false,
    "jupyter": {
     "outputs_hidden": false
    }
   },
   "outputs": [],
   "source": [
    "state_data2012 = state_data2012.merge(X, on=\"pollster_state\", sort=False)\n",
    "state_data2012 = state_data2012.merge(Z, on=\"poll_date\", sort=False)"
   ]
  },
  {
   "cell_type": "code",
   "execution_count": 158,
   "id": "63f7cbd9",
   "metadata": {
    "collapsed": false,
    "jupyter": {
     "outputs_hidden": false
    }
   },
   "outputs": [],
   "source": [
    "state_data2012.sort(columns=[\"pollster_state\", \"poll_date\"], inplace=True);"
   ]
  },
  {
   "cell_type": "code",
   "execution_count": 159,
   "id": "4da9aab5",
   "metadata": {
    "collapsed": false,
    "jupyter": {
     "outputs_hidden": false
    }
   },
   "outputs": [],
   "source": [
    "state_data2012[\"m\"] = state_data2012[\"obama_spread\"].sub(state_data2012[\"X\"].div(state_data2012[\"Z\"]))"
   ]
  },
  {
   "cell_type": "code",
   "execution_count": 160,
   "id": "dcc724f9",
   "metadata": {
    "collapsed": false,
    "jupyter": {
     "outputs_hidden": false
    }
   },
   "outputs": [],
   "source": [
    "#m_dataframe.ix[m_dataframe.pollster_state == \"American Research Group-New Hampshire\"].values"
   ]
  },
  {
   "cell_type": "code",
   "execution_count": 161,
   "id": "8cf68a8a",
   "metadata": {
    "collapsed": false,
    "jupyter": {
     "outputs_hidden": false
    }
   },
   "outputs": [],
   "source": [
    "m_dataframe = state_data2012[[\"State\", \"m\", \"poll_date\", \"Pollster\", \"pollster_state\"]]"
   ]
  },
  {
   "cell_type": "code",
   "execution_count": 162,
   "id": "ff925905",
   "metadata": {
    "collapsed": false,
    "jupyter": {
     "outputs_hidden": false
    }
   },
   "outputs": [
    {
     "data": {
      "text/plain": [
       "count    355.000\n",
       "mean       3.281\n",
       "std        9.168\n",
       "min      -52.000\n",
       "25%       -0.808\n",
       "50%        2.697\n",
       "75%        8.145\n",
       "max       38.723"
      ]
     },
     "execution_count": 162,
     "metadata": {},
     "output_type": "execute_result"
    }
   ],
   "source": [
    "m_dataframe[\"m\"].describe()"
   ]
  },
  {
   "cell_type": "code",
   "execution_count": 163,
   "id": "24c12931",
   "metadata": {
    "collapsed": false,
    "jupyter": {
     "outputs_hidden": false
    }
   },
   "outputs": [],
   "source": [
    "m_size = m_dataframe.groupby(\"pollster_state\").size()"
   ]
  },
  {
   "cell_type": "code",
   "execution_count": 164,
   "id": "a7dbb034",
   "metadata": {
    "collapsed": false,
    "jupyter": {
     "outputs_hidden": false
    }
   },
   "outputs": [
    {
     "data": {
      "text/plain": [
       "pollster_state\n",
       "American Research Group-Colorado               1\n",
       "American Research Group-Florida                1\n",
       "American Research Group-Iowa                   1\n",
       "American Research Group-Nevada                 1\n",
       "American Research Group-New Hampshire          3\n",
       "American Research Group-North Carolina         1\n",
       "American Research Group-Ohio                   1\n",
       "American Research Group-Virginia               1\n",
       "CNN / Opinion Research-Wisconsin               1\n",
       "Chicago Trib. / MarketShares-Illinois          1\n",
       "Columbus Dispatch (OH)-Ohio                    2\n",
       "EPIC-MRA-Michigan                              8\n",
       "Fairleigh-Dickinson (NJ)-New Jersey            3\n",
       "Field Poll (CA)-California                     6\n",
       "Insider Advantage-Georgia                      2\n",
       "LA Times / Bloomberg-New Hampshire             1\n",
       "Marist (NY)-New York                           3\n",
       "Mason-Dixon-Florida                            3\n",
       "Mason-Dixon-Georgia                            1\n",
       "Mason-Dixon-New Hampshire                      1\n",
       "Mason-Dixon-North Dakota                       1\n",
       "Mason-Dixon-Utah                               1\n",
       "Mason-Dixon-Virginia                           1\n",
       "Mitchell-Michigan                              3\n",
       "Ohio Poll-Ohio                                 2\n",
       "Public Policy Polling (PPP)-Arizona            7\n",
       "Public Policy Polling (PPP)-California         2\n",
       "Public Policy Polling (PPP)-Colorado           6\n",
       "Public Policy Polling (PPP)-Connecticut        3\n",
       "Public Policy Polling (PPP)-Florida            8\n",
       "Public Policy Polling (PPP)-Georgia            1\n",
       "Public Policy Polling (PPP)-Hawaii             1\n",
       "Public Policy Polling (PPP)-Iowa               8\n",
       "Public Policy Polling (PPP)-Maine              2\n",
       "Public Policy Polling (PPP)-Maryland           1\n",
       "Public Policy Polling (PPP)-Massachusetts      6\n",
       "Public Policy Polling (PPP)-Michigan           6\n",
       "Public Policy Polling (PPP)-Minnesota          5\n",
       "Public Policy Polling (PPP)-Mississippi        2\n",
       "Public Policy Polling (PPP)-Missouri           7\n",
       "Public Policy Polling (PPP)-Montana            3\n",
       "Public Policy Polling (PPP)-Nebraska           1\n",
       "Public Policy Polling (PPP)-Nevada             4\n",
       "Public Policy Polling (PPP)-New Hampshire      3\n",
       "Public Policy Polling (PPP)-New Mexico         6\n",
       "Public Policy Polling (PPP)-North Carolina    22\n",
       "Public Policy Polling (PPP)-Ohio               9\n",
       "Public Policy Polling (PPP)-Oregon             2\n",
       "Public Policy Polling (PPP)-Pennsylvania       5\n",
       "Public Policy Polling (PPP)-Rhode Island       1\n",
       "Public Policy Polling (PPP)-South Carolina     3\n",
       "Public Policy Polling (PPP)-South Dakota       1\n",
       "Public Policy Polling (PPP)-Tennessee          1\n",
       "Public Policy Polling (PPP)-Texas              3\n",
       "Public Policy Polling (PPP)-Utah               1\n",
       "Public Policy Polling (PPP)-Virginia           7\n",
       "Public Policy Polling (PPP)-Washington         3\n",
       "Public Policy Polling (PPP)-West Virginia      3\n",
       "Public Policy Polling (PPP)-Wisconsin          6\n",
       "Quinnipiac-Connecticut                         4\n",
       "Quinnipiac-Florida                            12\n",
       "Quinnipiac-New Jersey                          8\n",
       "Quinnipiac-New York                            5\n",
       "Quinnipiac-Ohio                               11\n",
       "Quinnipiac-Pennsylvania                        9\n",
       "Quinnipiac-Virginia                            5\n",
       "Rasmussen-Arizona                              3\n",
       "Rasmussen-California                           1\n",
       "Rasmussen-Colorado                             3\n",
       "Rasmussen-Connecticut                          1\n",
       "Rasmussen-Florida                              5\n",
       "Rasmussen-Indiana                              1\n",
       "Rasmussen-Iowa                                 3\n",
       "Rasmussen-Maine                                1\n",
       "Rasmussen-Massachusetts                        4\n",
       "Rasmussen-Michigan                             2\n",
       "Rasmussen-Missouri                             6\n",
       "Rasmussen-Montana                              5\n",
       "Rasmussen-Nebraska                             2\n",
       "Rasmussen-Nevada                               3\n",
       "Rasmussen-New Hampshire                        1\n",
       "Rasmussen-New Jersey                           1\n",
       "Rasmussen-New Mexico                           3\n",
       "Rasmussen-North Carolina                       4\n",
       "Rasmussen-North Dakota                         1\n",
       "Rasmussen-Ohio                                 7\n",
       "Rasmussen-Pennsylvania                         4\n",
       "Rasmussen-Virginia                             5\n",
       "Rasmussen-Washington                           1\n",
       "Rasmussen-Wisconsin                            7\n",
       "Suffolk (NH/MA)-Florida                        2\n",
       "SurveyUSA-California                           4\n",
       "SurveyUSA-Florida                              2\n",
       "SurveyUSA-Georgia                              4\n",
       "SurveyUSA-Kansas                               2\n",
       "SurveyUSA-Michigan                             1\n",
       "SurveyUSA-New Jersey                           1\n",
       "SurveyUSA-New York                             1\n",
       "SurveyUSA-North Carolina                       2\n",
       "SurveyUSA-Oregon                               4\n",
       "SurveyUSA-Pennsylvania                         1\n",
       "SurveyUSA-Washington                           4\n",
       "Length: 102"
      ]
     },
     "execution_count": 164,
     "metadata": {},
     "output_type": "execute_result"
    }
   ],
   "source": [
    "m_size"
   ]
  },
  {
   "cell_type": "code",
   "execution_count": 165,
   "id": "5de86cbc",
   "metadata": {
    "collapsed": false,
    "jupyter": {
     "outputs_hidden": false
    }
   },
   "outputs": [],
   "source": [
    "drop_idx = m_size.ix[m_size == 1]"
   ]
  },
  {
   "cell_type": "code",
   "execution_count": 166,
   "id": "564f629e",
   "metadata": {
    "collapsed": false,
    "jupyter": {
     "outputs_hidden": false
    }
   },
   "outputs": [],
   "source": [
    "m_dataframe = m_dataframe.set_index([\"pollster_state\", \"poll_date\"])"
   ]
  },
  {
   "cell_type": "code",
   "execution_count": 167,
   "id": "f9a36e1a",
   "metadata": {
    "collapsed": false,
    "jupyter": {
     "outputs_hidden": false
    }
   },
   "outputs": [
    {
     "data": {
      "text/plain": [
       "                    State      m                 Pollster\n",
       "poll_date                                                \n",
       "2012-03-17  New Hampshire  6.437  American Research Group\n",
       "2012-06-23  New Hampshire  0.071  American Research Group\n",
       "2012-09-26  New Hampshire  4.055  American Research Group"
      ]
     },
     "execution_count": 167,
     "metadata": {},
     "output_type": "execute_result"
    }
   ],
   "source": [
    "m_dataframe.xs(\"American Research Group-New Hampshire\", level=0)"
   ]
  },
  {
   "cell_type": "code",
   "execution_count": 168,
   "id": "7eb18bd5",
   "metadata": {
    "collapsed": false,
    "jupyter": {
     "outputs_hidden": false
    }
   },
   "outputs": [],
   "source": [
    "m_dataframe = m_dataframe.drop(drop_idx.index, level=0).reset_index()"
   ]
  },
  {
   "cell_type": "code",
   "execution_count": 169,
   "id": "c4053f32",
   "metadata": {
    "collapsed": false,
    "jupyter": {
     "outputs_hidden": false
    }
   },
   "outputs": [
    {
     "data": {
      "text/plain": [
       "<class 'pandas.core.frame.DataFrame'>\n",
       "Int64Index: 320 entries, 0 to 319\n",
       "Data columns:\n",
       "pollster_state    320  non-null values\n",
       "poll_date         320  non-null values\n",
       "State             320  non-null values\n",
       "m                 320  non-null values\n",
       "Pollster          320  non-null values\n",
       "dtypes: datetime64[ns](1), float64(1), object(3)"
      ]
     },
     "execution_count": 169,
     "metadata": {},
     "output_type": "execute_result"
    }
   ],
   "source": [
    "m_dataframe"
   ]
  },
  {
   "cell_type": "code",
   "execution_count": 170,
   "id": "41ee40ba",
   "metadata": {
    "collapsed": false,
    "jupyter": {
     "outputs_hidden": false
    }
   },
   "outputs": [],
   "source": [
    "m_regression_data = m_dataframe.merge(demo_data, on=\"State\")"
   ]
  },
  {
   "cell_type": "code",
   "execution_count": 171,
   "id": "c7e287ec",
   "metadata": {
    "collapsed": false,
    "jupyter": {
     "outputs_hidden": false
    }
   },
   "outputs": [
    {
     "data": {
      "text/plain": [
       "<class 'pandas.core.frame.DataFrame'>\n",
       "Int64Index: 320 entries, 0 to 319\n",
       "Data columns:\n",
       "pollster_state    320  non-null values\n",
       "poll_date         320  non-null values\n",
       "State             320  non-null values\n",
       "m                 320  non-null values\n",
       "Pollster          320  non-null values\n",
       "per_black         320  non-null values\n",
       "per_hisp          320  non-null values\n",
       "per_white         320  non-null values\n",
       "educ_hs           320  non-null values\n",
       "educ_coll         320  non-null values\n",
       "average_income    320  non-null values\n",
       "median_income     320  non-null values\n",
       "pop_density       320  non-null values\n",
       "vote_pop          320  non-null values\n",
       "older_pop         320  non-null values\n",
       "dem_adv           320  non-null values\n",
       "no_party          320  non-null values\n",
       "PVI               320  non-null values\n",
       "obama_give        320  non-null values\n",
       "romney_give       320  non-null values\n",
       "kmeans_group      320  non-null values\n",
       "kmeans_labels     320  non-null values\n",
       "dtypes: datetime64[ns](1), float64(14), int64(4), object(3)"
      ]
     },
     "execution_count": 171,
     "metadata": {},
     "output_type": "execute_result"
    }
   ],
   "source": [
    "m_regression_data"
   ]
  },
  {
   "cell_type": "code",
   "execution_count": 172,
   "id": "812a686e",
   "metadata": {
    "collapsed": false,
    "jupyter": {
     "outputs_hidden": false
    }
   },
   "outputs": [
    {
     "data": {
      "text/plain": [
       "                  PVI  per_black  per_hisp  older_pop  average_income  romney_give  obama_give  educ_coll  educ_hs\n",
       "PVI             1.000     -0.295     0.115      0.150           0.594        0.291       0.669      0.494    0.226\n",
       "per_black      -0.295      1.000    -0.174      0.279          -0.064        0.111      -0.281     -0.111   -0.497\n",
       "per_hisp        0.115     -0.174     1.000      0.403           0.098        0.289       0.306      0.112   -0.566\n",
       "older_pop       0.150      0.279     0.403      1.000           0.022        0.237      -0.038     -0.076   -0.479\n",
       "average_income  0.594     -0.064     0.098      0.022           1.000        0.718       0.704      0.888    0.250\n",
       "romney_give     0.291      0.111     0.289      0.237           0.718        1.000       0.555      0.630   -0.025\n",
       "obama_give      0.669     -0.281     0.306     -0.038           0.704        0.555       1.000      0.835    0.085\n",
       "educ_coll       0.494     -0.111     0.112     -0.076           0.888        0.630       0.835      1.000    0.273\n",
       "educ_hs         0.226     -0.497    -0.566     -0.479           0.250       -0.025       0.085      0.273    1.000"
      ]
     },
     "execution_count": 172,
     "metadata": {},
     "output_type": "execute_result"
    }
   ],
   "source": [
    "m_regression_data[[\"PVI\", \"per_black\", \"per_hisp\", \"older_pop\", \"average_income\", \n",
    "                   \"romney_give\", \"obama_give\", \"educ_coll\", \"educ_hs\"]].corr()"
   ]
  },
  {
   "cell_type": "code",
   "execution_count": 173,
   "id": "4ea37c12",
   "metadata": {
    "collapsed": false,
    "jupyter": {
     "outputs_hidden": false
    }
   },
   "outputs": [
    {
     "data": {
      "text/plain": [
       "0     743 days, 0:00:00\n",
       "1     612 days, 0:00:00\n",
       "2     521 days, 0:00:00\n",
       "3     227 days, 0:00:00\n",
       "4     136 days, 0:00:00\n",
       "5      70 days, 0:00:00\n",
       "6      24 days, 0:00:00\n",
       "7     203 days, 0:00:00\n",
       "8      98 days, 0:00:00\n",
       "9       7 days, 0:00:00\n",
       "10    391 days, 0:00:00\n",
       "11    316 days, 0:00:00\n",
       "12    235 days, 0:00:00\n",
       "13    130 days, 0:00:00\n",
       "14     97 days, 0:00:00\n",
       "...\n",
       "305     29 days, 0:00:00\n",
       "306       1 day, 0:00:00\n",
       "307    584 days, 0:00:00\n",
       "308    500 days, 0:00:00\n",
       "309    409 days, 0:00:00\n",
       "310    220 days, 0:00:00\n",
       "311     87 days, 0:00:00\n",
       "312     13 days, 0:00:00\n",
       "313    342 days, 0:00:00\n",
       "314    218 days, 0:00:00\n",
       "315    189 days, 0:00:00\n",
       "316    146 days, 0:00:00\n",
       "317    112 days, 0:00:00\n",
       "318     69 days, 0:00:00\n",
       "319     15 days, 0:00:00\n",
       "Name: poll_date, Length: 320"
      ]
     },
     "execution_count": 173,
     "metadata": {},
     "output_type": "execute_result"
    }
   ],
   "source": [
    "(today - m_regression_data[\"poll_date\"].astype('O'))"
   ]
  },
  {
   "cell_type": "code",
   "execution_count": 174,
   "id": "91592dbd",
   "metadata": {
    "collapsed": false,
    "jupyter": {
     "outputs_hidden": false
    }
   },
   "outputs": [],
   "source": [
    "time_weights = (today - m_regression_data[\"poll_date\"].astype('O')).apply(exp_decay)"
   ]
  },
  {
   "cell_type": "code",
   "execution_count": 175,
   "id": "351c226b",
   "metadata": {
    "collapsed": false,
    "jupyter": {
     "outputs_hidden": false
    }
   },
   "outputs": [
    {
     "data": {
      "text/html": [
       "<table class=\"simpletable\">\n",
       "<caption>WLS Regression Results</caption>\n",
       "<tr>\n",
       "  <th>Dep. Variable:</th>            <td>m</td>        <th>  R-squared:         </th> <td>   0.704</td>\n",
       "</tr>\n",
       "<tr>\n",
       "  <th>Model:</th>                   <td>WLS</td>       <th>  Adj. R-squared:    </th> <td>   0.699</td>\n",
       "</tr>\n",
       "<tr>\n",
       "  <th>Method:</th>             <td>Least Squares</td>  <th>  F-statistic:       </th> <td>   149.4</td>\n",
       "</tr>\n",
       "<tr>\n",
       "  <th>Date:</th>             <td>Fri, 26 Oct 2012</td> <th>  Prob (F-statistic):</th> <td>8.75e-81</td>\n",
       "</tr>\n",
       "<tr>\n",
       "  <th>Time:</th>                 <td>08:31:09</td>     <th>  Log-Likelihood:    </th> <td> -632.76</td>\n",
       "</tr>\n",
       "<tr>\n",
       "  <th>No. Observations:</th>      <td>   320</td>      <th>  AIC:               </th> <td>   1278.</td>\n",
       "</tr>\n",
       "<tr>\n",
       "  <th>Df Residuals:</th>          <td>   314</td>      <th>  BIC:               </th> <td>   1300.</td>\n",
       "</tr>\n",
       "<tr>\n",
       "  <th>Df Model:</th>              <td>     5</td>      <th>                     </th>     <td> </td>   \n",
       "</tr>\n",
       "</table>\n",
       "<table class=\"simpletable\">\n",
       "<tr>\n",
       "         <td></td>           <th>coef</th>     <th>std err</th>      <th>t</th>      <th>P>|t|</th> <th>[95.0% Conf. Int.]</th> \n",
       "</tr>\n",
       "<tr>\n",
       "  <th>Intercept</th>      <td>    4.5623</td> <td>    2.504</td> <td>    1.822</td> <td> 0.069</td> <td>   -0.364     9.488</td>\n",
       "</tr>\n",
       "<tr>\n",
       "  <th>PVI</th>            <td>    1.5534</td> <td>    0.076</td> <td>   20.565</td> <td> 0.000</td> <td>    1.405     1.702</td>\n",
       "</tr>\n",
       "<tr>\n",
       "  <th>per_hisp</th>       <td>    0.1672</td> <td>    0.023</td> <td>    7.351</td> <td> 0.000</td> <td>    0.122     0.212</td>\n",
       "</tr>\n",
       "<tr>\n",
       "  <th>per_black</th>      <td>    0.1972</td> <td>    0.040</td> <td>    4.954</td> <td> 0.000</td> <td>    0.119     0.275</td>\n",
       "</tr>\n",
       "<tr>\n",
       "  <th>average_income</th> <td>   -0.0003</td> <td>    0.000</td> <td>   -1.836</td> <td> 0.067</td> <td>   -0.001  2.17e-05</td>\n",
       "</tr>\n",
       "<tr>\n",
       "  <th>educ_coll</th>      <td>    0.0612</td> <td>    0.121</td> <td>    0.506</td> <td> 0.613</td> <td>   -0.177     0.299</td>\n",
       "</tr>\n",
       "</table>\n",
       "<table class=\"simpletable\">\n",
       "<tr>\n",
       "  <th>Omnibus:</th>       <td>113.511</td> <th>  Durbin-Watson:     </th> <td>   1.677</td> \n",
       "</tr>\n",
       "<tr>\n",
       "  <th>Prob(Omnibus):</th> <td> 0.000</td>  <th>  Jarque-Bera (JB):  </th> <td>1263.298</td> \n",
       "</tr>\n",
       "<tr>\n",
       "  <th>Skew:</th>          <td>-1.115</td>  <th>  Prob(JB):          </th> <td>4.77e-275</td>\n",
       "</tr>\n",
       "<tr>\n",
       "  <th>Kurtosis:</th>      <td>12.475</td>  <th>  Cond. No.          </th> <td>2.71e+05</td> \n",
       "</tr>\n",
       "</table>"
      ],
      "text/plain": [
       "<class 'statsmodels.iolib.summary.Summary'>\n",
       "\"\"\"\n",
       "                            WLS Regression Results                            \n",
       "==============================================================================\n",
       "Dep. Variable:                      m   R-squared:                       0.704\n",
       "Model:                            WLS   Adj. R-squared:                  0.699\n",
       "Method:                 Least Squares   F-statistic:                     149.4\n",
       "Date:                Fri, 26 Oct 2012   Prob (F-statistic):           8.75e-81\n",
       "Time:                        08:31:09   Log-Likelihood:                -632.76\n",
       "No. Observations:                 320   AIC:                             1278.\n",
       "Df Residuals:                     314   BIC:                             1300.\n",
       "Df Model:                           5                                         \n",
       "==================================================================================\n",
       "                     coef    std err          t      P>|t|      [95.0% Conf. Int.]\n",
       "----------------------------------------------------------------------------------\n",
       "Intercept          4.5623      2.504      1.822      0.069        -0.364     9.488\n",
       "PVI                1.5534      0.076     20.565      0.000         1.405     1.702\n",
       "per_hisp           0.1672      0.023      7.351      0.000         0.122     0.212\n",
       "per_black          0.1972      0.040      4.954      0.000         0.119     0.275\n",
       "average_income    -0.0003      0.000     -1.836      0.067        -0.001  2.17e-05\n",
       "educ_coll          0.0612      0.121      0.506      0.613        -0.177     0.299\n",
       "==============================================================================\n",
       "Omnibus:                      113.511   Durbin-Watson:                   1.677\n",
       "Prob(Omnibus):                  0.000   Jarque-Bera (JB):             1263.298\n",
       "Skew:                          -1.115   Prob(JB):                    4.77e-275\n",
       "Kurtosis:                      12.475   Cond. No.                     2.71e+05\n",
       "==============================================================================\n",
       "\n",
       "The condition number is large, 2.71e+05. This might indicate that there are\n",
       "strong multicollinearity or other numerical problems.\n",
       "\"\"\""
      ]
     },
     "execution_count": 175,
     "metadata": {},
     "output_type": "execute_result"
    }
   ],
   "source": [
    "m_model = wls(\"m ~ PVI + per_hisp + per_black + average_income + educ_coll\", data=m_regression_data, weights=time_weights).fit()\n",
    "m_model.summary()"
   ]
  },
  {
   "cell_type": "code",
   "execution_count": 176,
   "id": "47ad8dfd",
   "metadata": {
    "collapsed": false,
    "jupyter": {
     "outputs_hidden": false
    }
   },
   "outputs": [],
   "source": [
    "state_resid = pandas.DataFrame(zip(m_model.resid, m_regression_data.State), \n",
    "                               columns=[\"resid\", \"State\"])"
   ]
  },
  {
   "cell_type": "code",
   "execution_count": 177,
   "id": "2f4e837d",
   "metadata": {
    "collapsed": false,
    "jupyter": {
     "outputs_hidden": false
    }
   },
   "outputs": [],
   "source": [
    "state_resid_group = state_resid.groupby(\"State\")"
   ]
  },
  {
   "cell_type": "code",
   "execution_count": 178,
   "id": "9ee7509e",
   "metadata": {
    "collapsed": false,
    "jupyter": {
     "outputs_hidden": false
    }
   },
   "outputs": [
    {
     "data": {
      "image/png": "[encoded data removed]"
     },
     "metadata": {},
     "output_type": "display_data"
    }
   ],
   "source": [
    "fig, axes = plt.subplots(figsize=(12,8), subplot_kw={\"ylabel\" : \"Residual\",\n",
    "                                                     \"xlabel\" : \"State\"})\n",
    "i = 0\n",
    "for state, group in state_resid_group:\n",
    "    x = [i] * len(group)\n",
    "    axes.scatter(x, group[\"resid\"], s=91)\n",
    "    i += 1\n",
    "states = m_regression_data.State.unique()\n",
    "states.sort()\n",
    "#axes.xaxis.get_major_locator().set_params(nbins=len(states))\n",
    "axes.margins(.05, .05)\n",
    "axes.xaxis.set_ticks(range(31))\n",
    "axes.xaxis.set_ticklabels(states);\n",
    "for label in axes.xaxis.get_ticklabels():\n",
    "    label.set_rotation(90)\n",
    "    label.set_fontsize('large')"
   ]
  },
  {
   "cell_type": "code",
   "execution_count": 179,
   "id": "08ac3f21",
   "metadata": {
    "collapsed": false,
    "jupyter": {
     "outputs_hidden": false
    }
   },
   "outputs": [],
   "source": [
    "demo_data = demo_data.drop(demo_data.index[demo_data['State'] == 'District of Columbia'])\n",
    "demo_data.reset_index(drop=True, inplace=True);"
   ]
  },
  {
   "cell_type": "code",
   "execution_count": 180,
   "id": "ede89796",
   "metadata": {
    "collapsed": false,
    "jupyter": {
     "outputs_hidden": false
    }
   },
   "outputs": [],
   "source": [
    "exog = demo_data[[\"PVI\", \"per_hisp\", \"per_black\", \"average_income\", \"educ_coll\"]]\n",
    "exog[\"const\"] = 1"
   ]
  },
  {
   "cell_type": "code",
   "execution_count": 181,
   "id": "cc3078f5",
   "metadata": {
    "collapsed": false,
    "jupyter": {
     "outputs_hidden": false
    }
   },
   "outputs": [],
   "source": [
    "state_m = m_model.predict(exog)"
   ]
  },
  {
   "cell_type": "code",
   "execution_count": 182,
   "id": "86ce797a",
   "metadata": {
    "collapsed": false,
    "jupyter": {
     "outputs_hidden": false
    }
   },
   "outputs": [
    {
     "data": {
      "text/plain": [
       "array([-15.3603, -21.5913,  -4.9947, -10.5032,  16.1222,   1.9831,\n",
       "        10.9647,  14.0814,   2.0932,  -4.6139,  18.2001, -25.0872,\n",
       "        15.766 ,  -7.7724,   1.4341, -17.1113, -14.4254,  -9.5522,\n",
       "         6.7645,  17.5081,  18.4677,   8.2765,   2.5286,  -7.98  ,\n",
       "        -3.1192, -11.1954, -19.0509,   5.3332,   0.9212,   8.2565,\n",
       "        10.5848,  19.1612,  -1.7616, -16.5408,  -0.1307, -24.3894,\n",
       "         7.0121,   4.3192,  18.3818,  -7.0588, -14.4   , -11.0846,\n",
       "        -8.1381, -29.2403,  18.9684,  -0.9221,   7.9232, -12.3191,\n",
       "         3.498 , -31.7474])"
      ]
     },
     "execution_count": 182,
     "metadata": {},
     "output_type": "execute_result"
    }
   ],
   "source": [
    "state_m"
   ]
  },
  {
   "cell_type": "code",
   "execution_count": 183,
   "id": "c97e8679",
   "metadata": {
    "collapsed": false,
    "jupyter": {
     "outputs_hidden": false
    }
   },
   "outputs": [],
   "source": [
    "unit_m = (state_m - state_m.min())/(state_m.max() - state_m.min())"
   ]
  },
  {
   "cell_type": "code",
   "execution_count": 184,
   "id": "993d5aea",
   "metadata": {
    "collapsed": false,
    "jupyter": {
     "outputs_hidden": false
    }
   },
   "outputs": [],
   "source": [
    "unit_m *= 2"
   ]
  },
  {
   "cell_type": "code",
   "execution_count": 185,
   "id": "76ce5bb1",
   "metadata": {
    "collapsed": false,
    "jupyter": {
     "outputs_hidden": false
    }
   },
   "outputs": [],
   "source": [
    "m_correction = zip(demo_data.State, unit_m)"
   ]
  },
  {
   "cell_type": "code",
   "execution_count": 186,
   "id": "418ba8de",
   "metadata": {
    "collapsed": false,
    "jupyter": {
     "outputs_hidden": false
    }
   },
   "outputs": [
    {
     "data": {
      "image/png": "[encoded data removed]"
     },
     "metadata": {},
     "output_type": "display_data"
    }
   ],
   "source": [
    "fig, axes = plt.subplots(figsize=(12,8), subplot_kw={\"ylabel\" : \"Time Uncertainty\",\n",
    "                                                     \"xlabel\" : \"State\"})\n",
    "\n",
    "axes.scatter(range(len(unit_m)), unit_m, s=91)\n",
    "\n",
    "axes.margins(.05, .05)\n",
    "axes.xaxis.set_ticks(range(len(unit_m)))\n",
    "axes.xaxis.set_ticklabels(demo_data.State);\n",
    "for label in axes.xaxis.get_ticklabels():\n",
    "    label.set_rotation(90)\n",
    "    label.set_fontsize('large')"
   ]
  },
  {
   "cell_type": "code",
   "execution_count": 187,
   "id": "969874fe",
   "metadata": {
    "collapsed": false,
    "jupyter": {
     "outputs_hidden": false
    }
   },
   "outputs": [
    {
     "data": {
      "text/plain": [
       "[('Alabama', 0.64378739293503406),\n",
       " ('Alaska', 0.39899365289624461),\n",
       " ('Arizona', 1.0510086330835007),\n",
       " ('Arkansas', 0.83460144787235913),\n",
       " ('California', 1.8806123579140055),\n",
       " ('Colorado', 1.3251405679451049),\n",
       " ('Connecticut', 1.6779924829159023),\n",
       " ('Delaware', 1.8004372432963116),\n",
       " ('Florida', 1.329465611597048),\n",
       " ('Georgia', 1.0659702728954288),\n",
       " ('Hawaii', 1.9622429470675198),\n",
       " ('Idaho', 0.26165481506057381),\n",
       " ('Illinois', 1.8666167182198876),\n",
       " ('Indiana', 0.94188345895010406),\n",
       " ('Iowa', 1.3035708167337279),\n",
       " ('Kansas', 0.57499466689906564),\n",
       " ('Kentucky', 0.68051576608007691),\n",
       " ('Louisiana', 0.87196446188500021),\n",
       " ('Maine', 1.5129826861514035),\n",
       " ('Maryland', 1.9350556925421645),\n",
       " ('Massachusetts', 1.972758329102086),\n",
       " ('Michigan', 1.572382623529095),\n",
       " ('Minnesota', 1.3465700819595314),\n",
       " ('Mississippi', 0.9337304745438173),\n",
       " ('Missouri', 1.1246911889623949),\n",
       " ('Montana', 0.80740786234605832),\n",
       " ('Nebraska', 0.49879580201830931),\n",
       " ('Nevada', 1.4567544736098006),\n",
       " ('New Hampshire', 1.2834218995227675),\n",
       " ('New Jersey', 1.5715997823676553),\n",
       " ('New Mexico', 1.6630695718979507),\n",
       " ('New York', 2.0),\n",
       " ('North Carolina', 1.1780268665681453),\n",
       " ('North Dakota', 0.59740688290763611),\n",
       " ('Ohio', 1.2420974975622283),\n",
       " ('Oklahoma', 0.28906929360446137),\n",
       " ('Oregon', 1.5227100227420458),\n",
       " ('Pennsylvania', 1.4169161758937938),\n",
       " ('Rhode Island', 1.9693830170636866),\n",
       " ('South Carolina', 0.96992120743772237),\n",
       " ('South Dakota', 0.68151306828176339),\n",
       " ('Tennessee', 0.81176165562541391),\n",
       " ('Texas', 0.92751616650445501),\n",
       " ('Utah', 0.098492882545137092),\n",
       " ('Vermont', 1.9924269957578287),\n",
       " ('Virginia', 1.2110060089821313),\n",
       " ('Washington', 1.5585050874076187),\n",
       " ('West Virginia', 0.76326334710489518),\n",
       " ('Wisconsin', 1.3846558069742687),\n",
       " ('Wyoming', 0.0)]"
      ]
     },
     "execution_count": 187,
     "metadata": {},
     "output_type": "execute_result"
    }
   ],
   "source": [
    "m_correction"
   ]
  },
  {
   "cell_type": "code",
   "execution_count": 188,
   "id": "700b700a",
   "metadata": {
    "collapsed": false,
    "jupyter": {
     "outputs_hidden": false
    }
   },
   "outputs": [],
   "source": [
    "trends = pandas.DataFrame(trends, columns=[\"State\", \"trend\"])\n",
    "m_correction = pandas.DataFrame(m_correction, columns=[\"State\", \"m_correction\"])"
   ]
  },
  {
   "cell_type": "code",
   "execution_count": 189,
   "id": "ff07a7e3",
   "metadata": {
    "collapsed": false,
    "jupyter": {
     "outputs_hidden": false
    }
   },
   "outputs": [],
   "source": [
    "trends = trends.merge(m_correction, on=\"State\")"
   ]
  },
  {
   "cell_type": "code",
   "execution_count": 190,
   "id": "2b9a000b",
   "metadata": {
    "collapsed": false,
    "jupyter": {
     "outputs_hidden": false
    }
   },
   "outputs": [
    {
     "data": {
      "text/plain": [
       "                 trend  m_correction\n",
       "State                               \n",
       "Arizona          2.315         1.051\n",
       "California       2.733         1.881\n",
       "Colorado        18.412         1.325\n",
       "Connecticut     18.412         1.678\n",
       "Florida          2.733         1.329\n",
       "Georgia          2.315         1.066\n",
       "Hawaii          18.412         1.962\n",
       "Illinois        18.412         1.867\n",
       "Indiana          6.587         0.942\n",
       "Iowa             6.587         1.304\n",
       "Kansas           6.587         0.575\n",
       "Maine            6.587         1.513\n",
       "Maryland        18.412         1.935\n",
       "Massachusetts   18.412         1.973\n",
       "Michigan         6.587         1.572\n",
       "Minnesota        6.587         1.347\n",
       "Mississippi      2.315         0.934\n",
       "Missouri         6.587         1.125\n",
       "Montana          6.587         0.807\n",
       "Nebraska         6.587         0.499\n",
       "Nevada          18.412         1.457\n",
       "New Hampshire    6.587         1.283\n",
       "New Jersey      18.412         1.572\n",
       "New Mexico       2.315         1.663\n",
       "New York         2.733         2.000\n",
       "North Carolina   2.315         1.178\n",
       "North Dakota     6.587         0.597\n",
       "Ohio             6.587         1.242\n",
       "Oregon           6.587         1.523\n",
       "Pennsylvania     6.587         1.417\n",
       "Rhode Island    18.412         1.969\n",
       "South Carolina   2.315         0.970\n",
       "South Dakota     6.587         0.682\n",
       "Tennessee        2.315         0.812\n",
       "Texas            2.733         0.928\n",
       "Utah             6.587         0.098\n",
       "Vermont          6.587         1.992\n",
       "Virginia        18.412         1.211\n",
       "Washington      18.412         1.559\n",
       "West Virginia    2.315         0.763\n",
       "Wisconsin        6.587         1.385"
      ]
     },
     "execution_count": 190,
     "metadata": {},
     "output_type": "execute_result"
    }
   ],
   "source": [
    "trends.set_index(\"State\", inplace=True)"
   ]
  },
  {
   "cell_type": "code",
   "execution_count": 191,
   "id": "1a3e45ba",
   "metadata": {
    "collapsed": false,
    "jupyter": {
     "outputs_hidden": false
    }
   },
   "outputs": [],
   "source": [
    "trends = trends.product(axis=1)"
   ]
  },
  {
   "cell_type": "markdown",
   "id": "9eb50f4b",
   "metadata": {},
   "source": [
    "### Snapshot: Combine Trend Estimates and State Polls"
   ]
  },
  {
   "cell_type": "code",
   "execution_count": 192,
   "id": "88f7c99e",
   "metadata": {
    "collapsed": false,
    "jupyter": {
     "outputs_hidden": false
    }
   },
   "outputs": [
    {
     "data": {
      "text/plain": [
       "State  Pollster                    \n",
       "AZ     Public Policy Polling (PPP)     -9.168\n",
       "       Rasmussen                      -10.209\n",
       "CA     Field Poll (CA)                 23.344\n",
       "       Public Policy Polling (PPP)     20.999\n",
       "       Rasmussen                       22.000\n",
       "       SurveyUSA                       22.123\n",
       "CO     American Research Group          2.000\n",
       "       Public Policy Polling (PPP)      5.470\n",
       "       Rasmussen                       -1.574\n",
       "CT     Public Policy Polling (PPP)     12.758\n",
       "       Quinnipiac                       7.294\n",
       "       Rasmussen                        8.000\n",
       "FL     American Research Group          5.000\n",
       "       Mason-Dixon                     -3.543\n",
       "       Public Policy Polling (PPP)      3.125\n",
       "       Quinnipiac                       3.076\n",
       "       Rasmussen                        0.883\n",
       "       Suffolk (NH/MA)                 -0.003\n",
       "       SurveyUSA                        4.169\n",
       "GA     Insider Advantage              -19.174\n",
       "       Mason-Dixon                    -17.000\n",
       "       Public Policy Polling (PPP)     -3.000\n",
       "       SurveyUSA                       -7.984\n",
       "HI     Public Policy Polling (PPP)     27.000\n",
       "IA     American Research Group          7.000\n",
       "       Mason-Dixon                     -3.000\n",
       "       Public Policy Polling (PPP)      5.879\n",
       "       Rasmussen                       -2.749\n",
       "IL     Chicago Trib. / MarketShares    21.000\n",
       "IN     Rasmussen                      -16.000\n",
       "KS     SurveyUSA                      -15.875\n",
       "MA     Public Policy Polling (PPP)     17.580\n",
       "       Rasmussen                       15.107\n",
       "MD     Public Policy Polling (PPP)     23.000\n",
       "ME     Public Policy Polling (PPP)     16.038\n",
       "       Rasmussen                       12.000\n",
       "MI     CNN / Opinion Research           8.000\n",
       "       EPIC-MRA                         7.430\n",
       "       Mitchell                         0.897\n",
       "       Public Policy Polling (PPP)      7.694\n",
       "       Rasmussen                       11.072\n",
       "       SurveyUSA                       11.000\n",
       "MN     Public Policy Polling (PPP)      7.335\n",
       "MO     Public Policy Polling (PPP)    -11.225\n",
       "       Rasmussen                       -2.486\n",
       "       SurveyUSA                       -1.000\n",
       "MS     Public Policy Polling (PPP)    -17.973\n",
       "MT     Mason-Dixon                     -9.000\n",
       "       Public Policy Polling (PPP)     -5.003\n",
       "       Rasmussen                      -15.641\n",
       "NC     American Research Group         -4.000\n",
       "       Public Policy Polling (PPP)      0.261\n",
       "       Rasmussen                       -5.676\n",
       "       SurveyUSA                        1.987\n",
       "ND     Mason-Dixon                    -13.000\n",
       "       Rasmussen                      -15.000\n",
       "NE     Public Policy Polling (PPP)    -12.005\n",
       "       Rasmussen                      -14.308\n",
       "NH     American Research Group          4.150\n",
       "       LA Times / Bloomberg           -10.000\n",
       "       Mason-Dixon                    -11.000\n",
       "       Public Policy Polling (PPP)      6.273\n",
       "       Rasmussen                       -2.439\n",
       "NJ     Fairleigh-Dickinson (NJ)        13.859\n",
       "       Public Policy Polling (PPP)     14.006\n",
       "       Quinnipiac                       7.504\n",
       "       Rasmussen                        6.000\n",
       "       SurveyUSA                       14.000\n",
       "NM     Public Policy Polling (PPP)     10.621\n",
       "       Rasmussen                       11.651\n",
       "NV     American Research Group          7.000\n",
       "       CNN / Opinion Research           3.000\n",
       "       Public Policy Polling (PPP)      7.345\n",
       "       Rasmussen                        2.524\n",
       "NY     Marist (NY)                     22.047\n",
       "       Quinnipiac                      27.345\n",
       "       SurveyUSA                       30.000\n",
       "OH     American Research Group          1.000\n",
       "       Columbus Dispatch (OH)           8.616\n",
       "       Ohio Poll                        3.000\n",
       "       Public Policy Polling (PPP)      4.142\n",
       "       Quinnipiac                       7.729\n",
       "       Rasmussen                        0.866\n",
       "OR     Public Policy Polling (PPP)      9.130\n",
       "       SurveyUSA                        8.676\n",
       "PA     Public Policy Polling (PPP)      6.160\n",
       "       Quinnipiac                       6.047\n",
       "       Rasmussen                       10.875\n",
       "       SurveyUSA                        0.000\n",
       "RI     Public Policy Polling (PPP)     17.000\n",
       "SC     Public Policy Polling (PPP)    -14.558\n",
       "SD     Public Policy Polling (PPP)     -6.000\n",
       "TN     Public Policy Polling (PPP)     -7.000\n",
       "TX     Public Policy Polling (PPP)     -6.999\n",
       "UT     Mason-Dixon                    -51.000\n",
       "       Public Policy Polling (PPP)    -32.000\n",
       "VA     American Research Group          2.000\n",
       "       Mason-Dixon                      1.000\n",
       "       Public Policy Polling (PPP)      5.096\n",
       "       Quinnipiac                       0.578\n",
       "       Rasmussen                        0.892\n",
       "VT     Public Policy Polling (PPP)     20.000\n",
       "WA     Public Policy Polling (PPP)     13.051\n",
       "       Rasmussen                       11.000\n",
       "       SurveyUSA                       15.310\n",
       "WI     CNN / Opinion Research           4.000\n",
       "       Public Policy Polling (PPP)      5.393\n",
       "       Rasmussen                        2.116\n",
       "WV     Public Policy Polling (PPP)    -19.757\n",
       "Name: poll, Length: 109"
      ]
     },
     "execution_count": 192,
     "metadata": {},
     "output_type": "execute_result"
    }
   ],
   "source": [
    "state_polls.name = \"poll\"\n",
    "state_polls"
   ]
  },
  {
   "cell_type": "code",
   "execution_count": 193,
   "id": "78e14a4f",
   "metadata": {
    "collapsed": false,
    "jupyter": {
     "outputs_hidden": false
    }
   },
   "outputs": [],
   "source": [
    "state_polls = state_polls.reset_index()\n",
    "state_polls.State = state_polls.State.replace(states_abbrev_dict)"
   ]
  },
  {
   "cell_type": "code",
   "execution_count": 194,
   "id": "88208148",
   "metadata": {
    "collapsed": false,
    "jupyter": {
     "outputs_hidden": false
    }
   },
   "outputs": [
    {
     "data": {
      "text/plain": [
       "State\n",
       "Arizona            2.433\n",
       "California         5.139\n",
       "Colorado          24.399\n",
       "Connecticut       30.895\n",
       "Florida            3.633\n",
       "Georgia            2.468\n",
       "Hawaii            36.129\n",
       "Illinois          34.368\n",
       "Indiana            6.204\n",
       "Iowa               8.586\n",
       "Kansas             3.787\n",
       "Maine              9.965\n",
       "Maryland          35.628\n",
       "Massachusetts     36.323\n",
       "Michigan          10.357\n",
       "Minnesota          8.869\n",
       "Mississippi        2.162\n",
       "Missouri           7.408\n",
       "Montana            5.318\n",
       "Nebraska           3.285\n",
       "Nevada            26.822\n",
       "New Hampshire      8.453\n",
       "New Jersey        28.936\n",
       "New Mexico         3.850\n",
       "New York           5.465\n",
       "North Carolina     2.727\n",
       "North Dakota       3.935\n",
       "Ohio               8.181\n",
       "Oregon            10.029\n",
       "Pennsylvania       9.333\n",
       "Rhode Island      36.260\n",
       "South Carolina     2.245\n",
       "South Dakota       4.489\n",
       "Tennessee          1.879\n",
       "Texas              2.535\n",
       "Utah               0.649\n",
       "Vermont           13.123\n",
       "Virginia          22.297\n",
       "Washington        28.695\n",
       "West Virginia      1.767\n",
       "Wisconsin          9.120\n",
       "Name: poll"
      ]
     },
     "execution_count": 194,
     "metadata": {},
     "output_type": "execute_result"
    }
   ],
   "source": [
    "trends.name = \"poll\"\n",
    "trends"
   ]
  },
  {
   "cell_type": "code",
   "execution_count": 195,
   "id": "5b35a7b0",
   "metadata": {
    "collapsed": false,
    "jupyter": {
     "outputs_hidden": false
    }
   },
   "outputs": [],
   "source": [
    "trends = trends.reset_index()\n",
    "trends[\"Pollster\"] = \"National\""
   ]
  },
  {
   "cell_type": "code",
   "execution_count": 196,
   "id": "03aea51f",
   "metadata": {
    "collapsed": false,
    "jupyter": {
     "outputs_hidden": false
    }
   },
   "outputs": [
    {
     "data": {
      "text/plain": [
       "             State    poll  Pollster\n",
       "0          Arizona   2.433  National\n",
       "1       California   5.139  National\n",
       "2         Colorado  24.399  National\n",
       "3      Connecticut  30.895  National\n",
       "4          Florida   3.633  National\n",
       "5          Georgia   2.468  National\n",
       "6           Hawaii  36.129  National\n",
       "7         Illinois  34.368  National\n",
       "8          Indiana   6.204  National\n",
       "9             Iowa   8.586  National\n",
       "10          Kansas   3.787  National\n",
       "11           Maine   9.965  National\n",
       "12        Maryland  35.628  National\n",
       "13   Massachusetts  36.323  National\n",
       "14        Michigan  10.357  National\n",
       "15       Minnesota   8.869  National\n",
       "16     Mississippi   2.162  National\n",
       "17        Missouri   7.408  National\n",
       "18         Montana   5.318  National\n",
       "19        Nebraska   3.285  National\n",
       "20          Nevada  26.822  National\n",
       "21   New Hampshire   8.453  National\n",
       "22      New Jersey  28.936  National\n",
       "23      New Mexico   3.850  National\n",
       "24        New York   5.465  National\n",
       "25  North Carolina   2.727  National\n",
       "26    North Dakota   3.935  National\n",
       "27            Ohio   8.181  National\n",
       "28          Oregon  10.029  National\n",
       "29    Pennsylvania   9.333  National\n",
       "30    Rhode Island  36.260  National\n",
       "31  South Carolina   2.245  National\n",
       "32    South Dakota   4.489  National\n",
       "33       Tennessee   1.879  National\n",
       "34           Texas   2.535  National\n",
       "35            Utah   0.649  National\n",
       "36         Vermont  13.123  National\n",
       "37        Virginia  22.297  National\n",
       "38      Washington  28.695  National\n",
       "39   West Virginia   1.767  National\n",
       "40       Wisconsin   9.120  National"
      ]
     },
     "execution_count": 196,
     "metadata": {},
     "output_type": "execute_result"
    }
   ],
   "source": [
    "trends"
   ]
  },
  {
   "cell_type": "code",
   "execution_count": 197,
   "id": "4fdf6507",
   "metadata": {
    "collapsed": false,
    "jupyter": {
     "outputs_hidden": false
    }
   },
   "outputs": [],
   "source": [
    "polls = pandas.concat((state_polls, trends))"
   ]
  },
  {
   "cell_type": "code",
   "execution_count": 198,
   "id": "602d39fb",
   "metadata": {
    "collapsed": false,
    "jupyter": {
     "outputs_hidden": false
    }
   },
   "outputs": [
    {
     "data": {
      "text/plain": [
       "                    Pollster  Weight   PIE\n",
       "0      ABC / Washington Post    0.95  1.41\n",
       "1    American Research Group    0.65  1.76\n",
       "2       CBS / New York Times    0.66  1.84\n",
       "3   Chicago Trib. / Marke...    1.16  1.13\n",
       "4     CNN / Opinion Research    0.77  1.59\n",
       "5     Columbus Dispatch (OH)    0.50  6.76\n",
       "6                   EPIC-MRA    0.75  1.65\n",
       "7   Fairleigh-Dickinson (NJ)    0.71  1.72\n",
       "8            Field Poll (CA)    1.33  0.88\n",
       "9     Fox / Opinion Dynamics    0.79  1.60\n",
       "10      Franklin Pierce (NH)    0.74  1.60\n",
       "11         Insider Advantage    0.95  1.29\n",
       "12             Keystone (PA)    0.64  1.55\n",
       "13      LA Times / Bloomberg    0.83  1.44\n",
       "14               Marist (NY)    0.69  1.73\n",
       "15               Mason-Dixon    1.10  1.15\n",
       "16                  Mitchell    0.96  1.43\n",
       "17                 Ohio Poll    1.24  1.05\n",
       "18  Public Opinion Strate...    0.63  1.81\n",
       "19  Public Policy Polling...    1.05  1.60\n",
       "20                Quinnipiac    0.95  1.34\n",
       "21                 Rasmussen    1.30  0.88\n",
       "22             Research 2000    1.01  1.20\n",
       "23                    Selzer    1.47  0.92\n",
       "24         Star Tribune (MN)    0.81  2.01\n",
       "25          Strategic Vision    0.95  1.45\n",
       "26           Suffolk (NH/MA)    0.77  1.37\n",
       "27                 SurveyUSA    1.91  0.72\n",
       "28       Univ. New Hampshire    1.08  1.26\n",
       "29        USA Today / Gallup    0.63  2.01\n",
       "30                     Zogby    0.64  1.72\n",
       "31         Zogby Interactive    0.43  4.74"
      ]
     },
     "execution_count": 198,
     "metadata": {},
     "output_type": "execute_result"
    }
   ],
   "source": [
    "weights"
   ]
  },
  {
   "cell_type": "code",
   "execution_count": 199,
   "id": "19d5d81b",
   "metadata": {
    "collapsed": false,
    "jupyter": {
     "outputs_hidden": false
    }
   },
   "outputs": [],
   "source": [
    "natl_weight = pandas.DataFrame([[\"National\", weights.Weight.mean(), weights.PIE.mean()]],\n",
    "                                columns=[\"Pollster\", \"Weight\", \"PIE\"])\n",
    "weights = pandas.concat((weights, natl_weight)).reset_index(drop=True)"
   ]
  },
  {
   "cell_type": "code",
   "execution_count": 200,
   "id": "e4c06a49",
   "metadata": {
    "collapsed": false,
    "jupyter": {
     "outputs_hidden": false
    }
   },
   "outputs": [],
   "source": [
    "polls = polls.merge(weights, on=\"Pollster\", how=\"left\")"
   ]
  },
  {
   "cell_type": "code",
   "execution_count": 201,
   "id": "6201d5c9",
   "metadata": {
    "collapsed": false,
    "jupyter": {
     "outputs_hidden": false
    }
   },
   "outputs": [],
   "source": [
    "polls = polls.sort(\"State\")"
   ]
  },
  {
   "cell_type": "code",
   "execution_count": 202,
   "id": "4d1e0cbc",
   "metadata": {
    "collapsed": false,
    "jupyter": {
     "outputs_hidden": false
    }
   },
   "outputs": [],
   "source": [
    "def weighted_mean(group):\n",
    "    return (group[\"poll\"] * group[\"Weight\"] / group[\"Weight\"].sum()).sum()"
   ]
  },
  {
   "cell_type": "code",
   "execution_count": 203,
   "id": "83606b71",
   "metadata": {
    "collapsed": false,
    "jupyter": {
     "outputs_hidden": false
    }
   },
   "outputs": [
    {
     "data": {
      "text/plain": [
       "     resid      State\n",
       "307  5.193  Wisconsin\n",
       "308  7.402  Wisconsin\n",
       "309  0.246  Wisconsin\n",
       "310  9.971  Wisconsin\n",
       "311  0.697  Wisconsin\n",
       "312  2.648  Wisconsin\n",
       "313 -0.300  Wisconsin\n",
       "314  0.859  Wisconsin\n",
       "315  7.209  Wisconsin\n",
       "316 -0.676  Wisconsin\n",
       "317 -5.412  Wisconsin\n",
       "318 -1.565  Wisconsin\n",
       "319 -1.565  Wisconsin"
      ]
     },
     "execution_count": 203,
     "metadata": {},
     "output_type": "execute_result"
    }
   ],
   "source": [
    "group"
   ]
  },
  {
   "cell_type": "code",
   "execution_count": 204,
   "id": "1f929ae0",
   "metadata": {
    "collapsed": false,
    "jupyter": {
     "outputs_hidden": false
    }
   },
   "outputs": [],
   "source": [
    "results = polls.groupby(\"State\").aggregate(weighted_mean)[\"poll\"]"
   ]
  },
  {
   "cell_type": "code",
   "execution_count": 205,
   "id": "757cb238",
   "metadata": {
    "collapsed": false,
    "jupyter": {
     "outputs_hidden": false
    }
   },
   "outputs": [
    {
     "data": {
      "text/plain": [
       "State\n",
       "Arizona           -6.351\n",
       "California        19.794\n",
       "Colorado           6.947\n",
       "Connecticut       13.967\n",
       "Florida            2.079\n",
       "Georgia           -8.969\n",
       "Hawaii            31.233\n",
       "Illinois          26.869\n",
       "Indiana           -6.870\n",
       "Iowa               2.325\n",
       "Kansas            -9.541\n",
       "Maine             12.734\n",
       "Maryland          28.856\n",
       "Massachusetts     21.816\n",
       "Michigan           8.561\n",
       "Minnesota          8.046\n",
       "Mississippi       -8.637\n",
       "Missouri          -1.974\n",
       "Montana           -7.035\n",
       "Nebraska          -8.663\n",
       "Nevada             9.022\n",
       "New Hampshire     -1.133\n",
       "New Jersey        13.545\n",
       "New Mexico         9.145\n",
       "New York          23.207\n",
       "North Carolina    -0.590\n",
       "North Dakota      -9.138\n",
       "Ohio               4.384\n",
       "Oregon             9.117\n",
       "Pennsylvania       5.692\n",
       "Rhode Island      25.931\n",
       "South Carolina    -6.767\n",
       "South Dakota      -1.136\n",
       "Tennessee         -2.883\n",
       "Texas             -2.578\n",
       "Utah             -29.142\n",
       "Vermont           16.811\n",
       "Virginia           4.985\n",
       "Washington        16.118\n",
       "West Virginia     -9.776\n",
       "Wisconsin          4.909\n",
       "Name: poll"
      ]
     },
     "execution_count": 205,
     "metadata": {},
     "output_type": "execute_result"
    }
   ],
   "source": [
    "results"
   ]
  },
  {
   "cell_type": "code",
   "execution_count": 206,
   "id": "7a4d3ee4",
   "metadata": {
    "collapsed": false,
    "jupyter": {
     "outputs_hidden": false
    }
   },
   "outputs": [],
   "source": [
    "results = results.reset_index()\n",
    "results[\"obama\"] = 0\n",
    "results[\"romney\"] = 0\n",
    "results.ix[results[\"poll\"] > 0, [\"obama\"]] = 1\n",
    "results.ix[results[\"poll\"] < 0, [\"romney\"]] = 1"
   ]
  },
  {
   "cell_type": "code",
   "execution_count": null,
   "id": "3ba17a2c",
   "metadata": {
    "collapsed": false,
    "jupyter": {
     "outputs_hidden": false
    }
   },
   "outputs": [],
   "source": [
    "results[[\"State\", \"poll\"]].to_csv(\"/home/skipper/school/talks/538model/2012-predicted.csv\", index=False)"
   ]
  },
  {
   "cell_type": "code",
   "execution_count": 207,
   "id": "5ccb486b",
   "metadata": {
    "collapsed": false,
    "jupyter": {
     "outputs_hidden": false
    }
   },
   "outputs": [],
   "source": [
    "electoral_votes = pandas.read_csv(\"/home/skipper/school/seaboldgit/talks/pydata/data/electoral_votes.csv\")"
   ]
  },
  {
   "cell_type": "code",
   "execution_count": 208,
   "id": "ac1b3441",
   "metadata": {
    "collapsed": false,
    "jupyter": {
     "outputs_hidden": false
    }
   },
   "outputs": [
    {
     "data": {
      "text/plain": [
       "                   State  Votes\n",
       "0                Alabama      9\n",
       "1                 Alaska      3\n",
       "2                Arizona     11\n",
       "3               Arkansas      6\n",
       "4             California     55\n",
       "5               Colorado      9\n",
       "6            Connecticut      7\n",
       "7               Delaware      3\n",
       "8   District of Columbia      3\n",
       "9                Florida     29\n",
       "10               Georgia     16\n",
       "11                Hawaii      4\n",
       "12                 Idaho      4\n",
       "13              Illinois     20\n",
       "14               Indiana     11\n",
       "15                  Iowa      6\n",
       "16                Kansas      6\n",
       "17              Kentucky      8\n",
       "18             Louisiana      8\n",
       "19                 Maine      4\n",
       "20              Maryland     10\n",
       "21         Massachusetts     11\n",
       "22              Michigan     16\n",
       "23             Minnesota     10\n",
       "24           Mississippi      6\n",
       "25              Missouri     10\n",
       "26               Montana      3\n",
       "27              Nebraska      5\n",
       "28                Nevada      6\n",
       "29         New Hampshire      4\n",
       "30            New Jersey     14\n",
       "31            New Mexico      5\n",
       "32              New York     29\n",
       "33        North Carolina     15\n",
       "34          North Dakota      3\n",
       "35                  Ohio     18\n",
       "36              Oklahoma      7\n",
       "37                Oregon      7\n",
       "38          Pennsylvania     20\n",
       "39          Rhode Island      4\n",
       "40        South Carolina      9\n",
       "41          South Dakota      3\n",
       "42             Tennessee     11\n",
       "43                 Texas     38\n",
       "44                  Utah      6\n",
       "45               Vermont      3\n",
       "46              Virginia     13\n",
       "47            Washington     12\n",
       "48         West Virginia      5\n",
       "49             Wisconsin     10\n",
       "50               Wyoming      3"
      ]
     },
     "execution_count": 208,
     "metadata": {},
     "output_type": "execute_result"
    }
   ],
   "source": [
    "electoral_votes.sort(\"State\", inplace=True).reset_index(drop=True, inplace=True)"
   ]
  },
  {
   "cell_type": "code",
   "execution_count": 209,
   "id": "7efb24be",
   "metadata": {
    "collapsed": false,
    "jupyter": {
     "outputs_hidden": false
    }
   },
   "outputs": [],
   "source": [
    "results = electoral_votes.merge(results, on=\"State\", how=\"left\")"
   ]
  },
  {
   "cell_type": "code",
   "execution_count": 210,
   "id": "8bba3bef",
   "metadata": {
    "collapsed": false,
    "jupyter": {
     "outputs_hidden": false
    }
   },
   "outputs": [],
   "source": [
    "results = results.set_index(\"State\")\n",
    "red_states = [\"Alabama\", \"Alaska\", \"Arkansas\", \"Idaho\", \"Kentucky\", \"Louisiana\",\n",
    "              \"Oklahoma\", \"Wyoming\"]\n",
    "blue_states = [\"Delaware\", \"District of Columbia\"]\n",
    "results.ix[red_states, [\"romney\"]] = 1\n",
    "results.ix[red_states, [\"obama\"]] = 0\n",
    "results.ix[blue_states, [\"obama\"]] = 1\n",
    "results.ix[blue_states, [\"romney\"]] = 0"
   ]
  },
  {
   "cell_type": "code",
   "execution_count": 211,
   "id": "c55b6301",
   "metadata": {
    "collapsed": false,
    "jupyter": {
     "outputs_hidden": false
    }
   },
   "outputs": [
    {
     "data": {
      "text/plain": [
       "                      Votes    poll  obama  romney\n",
       "State                                             \n",
       "Alabama                   9     NaN      0       1\n",
       "Alaska                    3     NaN      0       1\n",
       "Arizona                  11  -6.351      0       1\n",
       "Arkansas                  6     NaN      0       1\n",
       "California               55  19.794      1       0\n",
       "Colorado                  9   6.947      1       0\n",
       "Connecticut               7  13.967      1       0\n",
       "Delaware                  3     NaN      1       0\n",
       "District of Columbia      3     NaN      1       0\n",
       "Florida                  29   2.079      1       0\n",
       "Georgia                  16  -8.969      0       1\n",
       "Hawaii                    4  31.233      1       0\n",
       "Idaho                     4     NaN      0       1\n",
       "Illinois                 20  26.869      1       0\n",
       "Indiana                  11  -6.870      0       1\n",
       "Iowa                      6   2.325      1       0\n",
       "Kansas                    6  -9.541      0       1\n",
       "Kentucky                  8     NaN      0       1\n",
       "Louisiana                 8     NaN      0       1\n",
       "Maine                     4  12.734      1       0\n",
       "Maryland                 10  28.856      1       0\n",
       "Massachusetts            11  21.816      1       0\n",
       "Michigan                 16   8.561      1       0\n",
       "Minnesota                10   8.046      1       0\n",
       "Mississippi               6  -8.637      0       1\n",
       "Missouri                 10  -1.974      0       1\n",
       "Montana                   3  -7.035      0       1\n",
       "Nebraska                  5  -8.663      0       1\n",
       "Nevada                    6   9.022      1       0\n",
       "New Hampshire             4  -1.133      0       1\n",
       "New Jersey               14  13.545      1       0\n",
       "New Mexico                5   9.145      1       0\n",
       "New York                 29  23.207      1       0\n",
       "North Carolina           15  -0.590      0       1\n",
       "North Dakota              3  -9.138      0       1\n",
       "Ohio                     18   4.384      1       0\n",
       "Oklahoma                  7     NaN      0       1\n",
       "Oregon                    7   9.117      1       0\n",
       "Pennsylvania             20   5.692      1       0\n",
       "Rhode Island              4  25.931      1       0\n",
       "South Carolina            9  -6.767      0       1\n",
       "South Dakota              3  -1.136      0       1\n",
       "Tennessee                11  -2.883      0       1\n",
       "Texas                    38  -2.578      0       1\n",
       "Utah                      6 -29.142      0       1\n",
       "Vermont                   3  16.811      1       0\n",
       "Virginia                 13   4.985      1       0\n",
       "Washington               12  16.118      1       0\n",
       "West Virginia             5  -9.776      0       1\n",
       "Wisconsin                10   4.909      1       0\n",
       "Wyoming                   3     NaN      0       1"
      ]
     },
     "execution_count": 211,
     "metadata": {},
     "output_type": "execute_result"
    }
   ],
   "source": [
    "results"
   ]
  },
  {
   "cell_type": "code",
   "execution_count": 212,
   "id": "8bffae5f",
   "metadata": {
    "collapsed": false,
    "jupyter": {
     "outputs_hidden": false
    }
   },
   "outputs": [
    {
     "data": {
      "text/plain": [
       "328.0"
      ]
     },
     "execution_count": 212,
     "metadata": {},
     "output_type": "execute_result"
    }
   ],
   "source": [
    "results[\"Votes\"].mul(results[\"obama\"]).sum()"
   ]
  },
  {
   "cell_type": "code",
   "execution_count": 213,
   "id": "85471ba2",
   "metadata": {
    "collapsed": false,
    "jupyter": {
     "outputs_hidden": false
    }
   },
   "outputs": [
    {
     "data": {
      "text/plain": [
       "210.0"
      ]
     },
     "execution_count": 213,
     "metadata": {},
     "output_type": "execute_result"
    }
   ],
   "source": [
    "results[\"Votes\"].mul(results[\"romney\"]).sum()"
   ]
  },
  {
   "cell_type": "code",
   "execution_count": 214,
   "id": "5a915747",
   "metadata": {
    "collapsed": false,
    "jupyter": {
     "outputs_hidden": false
    }
   },
   "outputs": [
    {
     "data": {
      "text/plain": [
       "                      Votes    poll  obama  romney\n",
       "State                                             \n",
       "Alabama                   9     NaN      0       1\n",
       "Alaska                    3     NaN      0       1\n",
       "Arizona                  11  -6.351      0       1\n",
       "Arkansas                  6     NaN      0       1\n",
       "California               55  19.794      1       0\n",
       "Colorado                  9   6.947      1       0\n",
       "Connecticut               7  13.967      1       0\n",
       "Delaware                  3     NaN      1       0\n",
       "District of Columbia      3     NaN      1       0\n",
       "Florida                  29   2.079      1       0\n",
       "Georgia                  16  -8.969      0       1\n",
       "Hawaii                    4  31.233      1       0\n",
       "Idaho                     4     NaN      0       1\n",
       "Illinois                 20  26.869      1       0\n",
       "Indiana                  11  -6.870      0       1\n",
       "Iowa                      6   2.325      1       0\n",
       "Kansas                    6  -9.541      0       1\n",
       "Kentucky                  8     NaN      0       1\n",
       "Louisiana                 8     NaN      0       1\n",
       "Maine                     4  12.734      1       0\n",
       "Maryland                 10  28.856      1       0\n",
       "Massachusetts            11  21.816      1       0\n",
       "Michigan                 16   8.561      1       0\n",
       "Minnesota                10   8.046      1       0\n",
       "Mississippi               6  -8.637      0       1\n",
       "Missouri                 10  -1.974      0       1\n",
       "Montana                   3  -7.035      0       1\n",
       "Nebraska                  5  -8.663      0       1\n",
       "Nevada                    6   9.022      1       0\n",
       "New Hampshire             4  -1.133      0       1\n",
       "New Jersey               14  13.545      1       0\n",
       "New Mexico                5   9.145      1       0\n",
       "New York                 29  23.207      1       0\n",
       "North Carolina           15  -0.590      0       1\n",
       "North Dakota              3  -9.138      0       1\n",
       "Ohio                     18   4.384      1       0\n",
       "Oklahoma                  7     NaN      0       1\n",
       "Oregon                    7   9.117      1       0\n",
       "Pennsylvania             20   5.692      1       0\n",
       "Rhode Island              4  25.931      1       0\n",
       "South Carolina            9  -6.767      0       1\n",
       "South Dakota              3  -1.136      0       1\n",
       "Tennessee                11  -2.883      0       1\n",
       "Texas                    38  -2.578      0       1\n",
       "Utah                      6 -29.142      0       1\n",
       "Vermont                   3  16.811      1       0\n",
       "Virginia                 13   4.985      1       0\n",
       "Washington               12  16.118      1       0\n",
       "West Virginia             5  -9.776      0       1\n",
       "Wisconsin                10   4.909      1       0\n",
       "Wyoming                   3     NaN      0       1"
      ]
     },
     "execution_count": 214,
     "metadata": {},
     "output_type": "execute_result"
    }
   ],
   "source": [
    "results"
   ]
  },
  {
   "cell_type": "markdown",
   "id": "5cd5997b",
   "metadata": {},
   "source": [
    "TODO:"
   ]
  },
  {
   "cell_type": "markdown",
   "id": "5d540775",
   "metadata": {},
   "source": [
    "Divide undecided voters probabilistically."
   ]
  },
  {
   "cell_type": "markdown",
   "id": "156b39f0",
   "metadata": {},
   "source": [
    "Do historical adjustments based on how polls changed in the past conditional on \"election environment\""
   ]
  },
  {
   "cell_type": "markdown",
   "id": "8b4d42b3",
   "metadata": {},
   "source": [
    "\"Error analysis\""
   ]
  }
 ],
 "metadata": {
  "kernelspec": {
   "display_name": "Python 3 (ipykernel)",
   "language": "python",
   "name": "python3"
  },
  "language_info": {
   "codemirror_mode": {
    "name": "ipython",
    "version": 3
   },
   "file_extension": ".py",
   "mimetype": "text/x-python",
   "name": "python",
   "nbconvert_exporter": "python",
   "pygments_lexer": "ipython3",
   "version": "3.7.5"
  }
 },
 "nbformat": 4,
 "nbformat_minor": 5
}
